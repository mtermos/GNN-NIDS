{
 "cells": [
  {
   "cell_type": "code",
   "execution_count": 1,
   "id": "2362b55a",
   "metadata": {
    "execution": {
     "iopub.execute_input": "2024-09-04T15:50:55.214139Z",
     "iopub.status.busy": "2024-09-04T15:50:55.213691Z",
     "iopub.status.idle": "2024-09-04T15:51:13.538636Z",
     "shell.execute_reply": "2024-09-04T15:51:13.537007Z"
    },
    "papermill": {
     "duration": 18.352844,
     "end_time": "2024-09-04T15:51:13.541684",
     "exception": false,
     "start_time": "2024-09-04T15:50:55.188840",
     "status": "completed"
    },
    "tags": []
   },
   "outputs": [
    {
     "name": "stdout",
     "output_type": "stream",
     "text": [
      "Collecting dgl\r\n",
      "  Downloading dgl-2.1.0-cp310-cp310-manylinux1_x86_64.whl.metadata (553 bytes)\r\n",
      "Requirement already satisfied: numpy>=1.14.0 in /opt/conda/lib/python3.10/site-packages (from dgl) (1.26.4)\r\n",
      "Requirement already satisfied: scipy>=1.1.0 in /opt/conda/lib/python3.10/site-packages (from dgl) (1.11.4)\r\n",
      "Requirement already satisfied: networkx>=2.1 in /opt/conda/lib/python3.10/site-packages (from dgl) (3.2.1)\r\n",
      "Requirement already satisfied: requests>=2.19.0 in /opt/conda/lib/python3.10/site-packages (from dgl) (2.32.3)\r\n",
      "Requirement already satisfied: tqdm in /opt/conda/lib/python3.10/site-packages (from dgl) (4.66.4)\r\n",
      "Requirement already satisfied: psutil>=5.8.0 in /opt/conda/lib/python3.10/site-packages (from dgl) (5.9.3)\r\n",
      "Requirement already satisfied: torchdata>=0.5.0 in /opt/conda/lib/python3.10/site-packages (from dgl) (0.7.1)\r\n",
      "Requirement already satisfied: charset-normalizer<4,>=2 in /opt/conda/lib/python3.10/site-packages (from requests>=2.19.0->dgl) (3.3.2)\r\n",
      "Requirement already satisfied: idna<4,>=2.5 in /opt/conda/lib/python3.10/site-packages (from requests>=2.19.0->dgl) (3.6)\r\n",
      "Requirement already satisfied: urllib3<3,>=1.21.1 in /opt/conda/lib/python3.10/site-packages (from requests>=2.19.0->dgl) (1.26.18)\r\n",
      "Requirement already satisfied: certifi>=2017.4.17 in /opt/conda/lib/python3.10/site-packages (from requests>=2.19.0->dgl) (2024.7.4)\r\n",
      "Requirement already satisfied: torch>=2 in /opt/conda/lib/python3.10/site-packages (from torchdata>=0.5.0->dgl) (2.1.2+cpu)\r\n",
      "Requirement already satisfied: filelock in /opt/conda/lib/python3.10/site-packages (from torch>=2->torchdata>=0.5.0->dgl) (3.13.1)\r\n",
      "Requirement already satisfied: typing-extensions in /opt/conda/lib/python3.10/site-packages (from torch>=2->torchdata>=0.5.0->dgl) (4.9.0)\r\n",
      "Requirement already satisfied: sympy in /opt/conda/lib/python3.10/site-packages (from torch>=2->torchdata>=0.5.0->dgl) (1.13.0)\r\n",
      "Requirement already satisfied: jinja2 in /opt/conda/lib/python3.10/site-packages (from torch>=2->torchdata>=0.5.0->dgl) (3.1.2)\r\n",
      "Requirement already satisfied: fsspec in /opt/conda/lib/python3.10/site-packages (from torch>=2->torchdata>=0.5.0->dgl) (2024.5.0)\r\n",
      "Requirement already satisfied: MarkupSafe>=2.0 in /opt/conda/lib/python3.10/site-packages (from jinja2->torch>=2->torchdata>=0.5.0->dgl) (2.1.3)\r\n",
      "Requirement already satisfied: mpmath<1.4,>=1.1.0 in /opt/conda/lib/python3.10/site-packages (from sympy->torch>=2->torchdata>=0.5.0->dgl) (1.3.0)\r\n",
      "Downloading dgl-2.1.0-cp310-cp310-manylinux1_x86_64.whl (8.5 MB)\r\n",
      "\u001b[2K   \u001b[90m━━━━━━━━━━━━━━━━━━━━━━━━━━━━━━━━━━━━━━━━\u001b[0m \u001b[32m8.5/8.5 MB\u001b[0m \u001b[31m26.1 MB/s\u001b[0m eta \u001b[36m0:00:00\u001b[0m\r\n",
      "\u001b[?25hInstalling collected packages: dgl\r\n",
      "Successfully installed dgl-2.1.0\r\n"
     ]
    }
   ],
   "source": [
    "!pip install dgl "
   ]
  },
  {
   "cell_type": "code",
   "execution_count": 2,
   "id": "249321aa",
   "metadata": {
    "execution": {
     "iopub.execute_input": "2024-09-04T15:51:13.593068Z",
     "iopub.status.busy": "2024-09-04T15:51:13.592635Z",
     "iopub.status.idle": "2024-09-04T15:51:13.598491Z",
     "shell.execute_reply": "2024-09-04T15:51:13.597150Z"
    },
    "papermill": {
     "duration": 0.034465,
     "end_time": "2024-09-04T15:51:13.600916",
     "exception": false,
     "start_time": "2024-09-04T15:51:13.566451",
     "status": "completed"
    },
    "tags": []
   },
   "outputs": [],
   "source": [
    "#pip install --upgrade torch dgl"
   ]
  },
  {
   "cell_type": "code",
   "execution_count": 3,
   "id": "323f1b33",
   "metadata": {
    "_cell_guid": "b1076dfc-b9ad-4769-8c92-a6c4dae69d19",
    "_uuid": "8f2839f25d086af736a60e9eeb907d3b93b6e0e5",
    "execution": {
     "iopub.execute_input": "2024-09-04T15:51:13.652513Z",
     "iopub.status.busy": "2024-09-04T15:51:13.652088Z",
     "iopub.status.idle": "2024-09-04T15:51:25.027881Z",
     "shell.execute_reply": "2024-09-04T15:51:25.026669Z"
    },
    "papermill": {
     "duration": 11.404363,
     "end_time": "2024-09-04T15:51:25.030604",
     "exception": false,
     "start_time": "2024-09-04T15:51:13.626241",
     "status": "completed"
    },
    "tags": []
   },
   "outputs": [
    {
     "name": "stdout",
     "output_type": "stream",
     "text": [
      "/kaggle/input/cic-ids-2017/cic_ids_2017.parquet\n",
      "/kaggle/input/nf-ton-iot-modified/NF-ToN-IoT-v2-Modified.pkl\n",
      "/kaggle/input/ccd-inid-modified/CCD-INID-Modified.pkl\n",
      "/kaggle/input/edgeiiotset-cyber-security-dataset-of-iot-iiot/Edge_IIoTset__DatasetFL.pdf\n",
      "/kaggle/input/edgeiiotset-cyber-security-dataset-of-iot-iiot/Readme.txt\n",
      "/kaggle/input/edgeiiotset-cyber-security-dataset-of-iot-iiot/Edge-IIoTset dataset/Attack traffic/Uploading attack.pcap\n",
      "/kaggle/input/edgeiiotset-cyber-security-dataset-of-iot-iiot/Edge-IIoTset dataset/Attack traffic/DDoS_ICMP_Flood_attack.csv\n",
      "/kaggle/input/edgeiiotset-cyber-security-dataset-of-iot-iiot/Edge-IIoTset dataset/Attack traffic/DDoS_TCP_SYN_Flood_attack.csv\n",
      "/kaggle/input/edgeiiotset-cyber-security-dataset-of-iot-iiot/Edge-IIoTset dataset/Attack traffic/MITM (ARP spoofing + DNS) Attack.pcap\n",
      "/kaggle/input/edgeiiotset-cyber-security-dataset-of-iot-iiot/Edge-IIoTset dataset/Attack traffic/Uploading_attack.csv\n",
      "/kaggle/input/edgeiiotset-cyber-security-dataset-of-iot-iiot/Edge-IIoTset dataset/Attack traffic/XSS_attack.csv\n",
      "/kaggle/input/edgeiiotset-cyber-security-dataset-of-iot-iiot/Edge-IIoTset dataset/Attack traffic/DDoS_UDP_Flood_attack.csv\n",
      "/kaggle/input/edgeiiotset-cyber-security-dataset-of-iot-iiot/Edge-IIoTset dataset/Attack traffic/XSS attacks.pcap\n",
      "/kaggle/input/edgeiiotset-cyber-security-dataset-of-iot-iiot/Edge-IIoTset dataset/Attack traffic/Port Scanning attack.pcap\n",
      "/kaggle/input/edgeiiotset-cyber-security-dataset-of-iot-iiot/Edge-IIoTset dataset/Attack traffic/SQL injection attack.pcap\n",
      "/kaggle/input/edgeiiotset-cyber-security-dataset-of-iot-iiot/Edge-IIoTset dataset/Attack traffic/OS Fingerprinting attack.pcap\n",
      "/kaggle/input/edgeiiotset-cyber-security-dataset-of-iot-iiot/Edge-IIoTset dataset/Attack traffic/DDoS_HTTP_Flood_attack.csv\n",
      "/kaggle/input/edgeiiotset-cyber-security-dataset-of-iot-iiot/Edge-IIoTset dataset/Attack traffic/Vulnerability scanner attack.pcap\n",
      "/kaggle/input/edgeiiotset-cyber-security-dataset-of-iot-iiot/Edge-IIoTset dataset/Attack traffic/Backdoor_attack.pcap\n",
      "/kaggle/input/edgeiiotset-cyber-security-dataset-of-iot-iiot/Edge-IIoTset dataset/Attack traffic/Password_attack.csv\n",
      "/kaggle/input/edgeiiotset-cyber-security-dataset-of-iot-iiot/Edge-IIoTset dataset/Attack traffic/DDoS TCP SYN Flood Attacks.pcap\n",
      "/kaggle/input/edgeiiotset-cyber-security-dataset-of-iot-iiot/Edge-IIoTset dataset/Attack traffic/Vulnerability_scanner_attack.csv\n",
      "/kaggle/input/edgeiiotset-cyber-security-dataset-of-iot-iiot/Edge-IIoTset dataset/Attack traffic/DDoS UDP Flood Attacks.pcap\n",
      "/kaggle/input/edgeiiotset-cyber-security-dataset-of-iot-iiot/Edge-IIoTset dataset/Attack traffic/DDoS HTTP Flood Attacks.pcap\n",
      "/kaggle/input/edgeiiotset-cyber-security-dataset-of-iot-iiot/Edge-IIoTset dataset/Attack traffic/DDoS ICMP Flood Attacks.pcap\n",
      "/kaggle/input/edgeiiotset-cyber-security-dataset-of-iot-iiot/Edge-IIoTset dataset/Attack traffic/Ransomware attack.pcap\n",
      "/kaggle/input/edgeiiotset-cyber-security-dataset-of-iot-iiot/Edge-IIoTset dataset/Attack traffic/Ransomware_attack.csv\n",
      "/kaggle/input/edgeiiotset-cyber-security-dataset-of-iot-iiot/Edge-IIoTset dataset/Attack traffic/Password attacks.pcap\n",
      "/kaggle/input/edgeiiotset-cyber-security-dataset-of-iot-iiot/Edge-IIoTset dataset/Attack traffic/Backdoor_attack.csv\n",
      "/kaggle/input/edgeiiotset-cyber-security-dataset-of-iot-iiot/Edge-IIoTset dataset/Attack traffic/SQL_injection_attack.csv\n",
      "/kaggle/input/edgeiiotset-cyber-security-dataset-of-iot-iiot/Edge-IIoTset dataset/Attack traffic/OS_Fingerprinting_attack.csv\n",
      "/kaggle/input/edgeiiotset-cyber-security-dataset-of-iot-iiot/Edge-IIoTset dataset/Attack traffic/Port_Scanning_attack.csv\n",
      "/kaggle/input/edgeiiotset-cyber-security-dataset-of-iot-iiot/Edge-IIoTset dataset/Attack traffic/MITM_attack.csv\n",
      "/kaggle/input/edgeiiotset-cyber-security-dataset-of-iot-iiot/Edge-IIoTset dataset/Selected dataset for ML and DL/DNN-EdgeIIoT-dataset.csv\n",
      "/kaggle/input/edgeiiotset-cyber-security-dataset-of-iot-iiot/Edge-IIoTset dataset/Selected dataset for ML and DL/ML-EdgeIIoT-dataset.csv\n",
      "/kaggle/input/edgeiiotset-cyber-security-dataset-of-iot-iiot/Edge-IIoTset dataset/Normal traffic/Flame_Sensor/Flame_Sensor.pcap\n",
      "/kaggle/input/edgeiiotset-cyber-security-dataset-of-iot-iiot/Edge-IIoTset dataset/Normal traffic/Flame_Sensor/Flame_Sensor.csv\n",
      "/kaggle/input/edgeiiotset-cyber-security-dataset-of-iot-iiot/Edge-IIoTset dataset/Normal traffic/Sound_Sensor/Sound_Sensor.csv\n",
      "/kaggle/input/edgeiiotset-cyber-security-dataset-of-iot-iiot/Edge-IIoTset dataset/Normal traffic/Sound_Sensor/Sound_Sensor.pcap\n",
      "/kaggle/input/edgeiiotset-cyber-security-dataset-of-iot-iiot/Edge-IIoTset dataset/Normal traffic/Soil_Moisture/Soil_Moisture.pcap\n",
      "/kaggle/input/edgeiiotset-cyber-security-dataset-of-iot-iiot/Edge-IIoTset dataset/Normal traffic/Soil_Moisture/Soil_Moisture.csv\n",
      "/kaggle/input/edgeiiotset-cyber-security-dataset-of-iot-iiot/Edge-IIoTset dataset/Normal traffic/Water_Level/Water_Level.pcap\n",
      "/kaggle/input/edgeiiotset-cyber-security-dataset-of-iot-iiot/Edge-IIoTset dataset/Normal traffic/Water_Level/Water_Level.csv\n",
      "/kaggle/input/edgeiiotset-cyber-security-dataset-of-iot-iiot/Edge-IIoTset dataset/Normal traffic/Heart_Rate/Heart_Rate.csv\n",
      "/kaggle/input/edgeiiotset-cyber-security-dataset-of-iot-iiot/Edge-IIoTset dataset/Normal traffic/Heart_Rate/Heart_Rate.pcap\n",
      "/kaggle/input/edgeiiotset-cyber-security-dataset-of-iot-iiot/Edge-IIoTset dataset/Normal traffic/Modbus/Modbus.pcap\n",
      "/kaggle/input/edgeiiotset-cyber-security-dataset-of-iot-iiot/Edge-IIoTset dataset/Normal traffic/Modbus/Modbus.csv\n",
      "/kaggle/input/edgeiiotset-cyber-security-dataset-of-iot-iiot/Edge-IIoTset dataset/Normal traffic/Temperature_and_Humidity/Temperature_and_Humidity.csv\n",
      "/kaggle/input/edgeiiotset-cyber-security-dataset-of-iot-iiot/Edge-IIoTset dataset/Normal traffic/Temperature_and_Humidity/Temperature_and_Humidity.pcap\n",
      "/kaggle/input/edgeiiotset-cyber-security-dataset-of-iot-iiot/Edge-IIoTset dataset/Normal traffic/phValue/phValue.pcap\n",
      "/kaggle/input/edgeiiotset-cyber-security-dataset-of-iot-iiot/Edge-IIoTset dataset/Normal traffic/phValue/phValue.csv\n",
      "/kaggle/input/edgeiiotset-cyber-security-dataset-of-iot-iiot/Edge-IIoTset dataset/Normal traffic/Distance/Distance.pcap\n",
      "/kaggle/input/edgeiiotset-cyber-security-dataset-of-iot-iiot/Edge-IIoTset dataset/Normal traffic/Distance/Distance.csv\n",
      "/kaggle/input/edgeiiotset-cyber-security-dataset-of-iot-iiot/Edge-IIoTset dataset/Normal traffic/IR_Receiver/IR_Receiver.csv\n",
      "/kaggle/input/edgeiiotset-cyber-security-dataset-of-iot-iiot/Edge-IIoTset dataset/Normal traffic/IR_Receiver/IR_Receiver.pcap\n",
      "/kaggle/input/nf-cse-cic-ids2018/NF-CSE-CIC-IDS2018.parquet\n",
      "/kaggle/input/cic-bot-iot-00-cleaning/__results__.html\n",
      "/kaggle/input/cic-bot-iot-00-cleaning/__resultx__.html\n",
      "/kaggle/input/cic-bot-iot-00-cleaning/__notebook__.ipynb\n",
      "/kaggle/input/cic-bot-iot-00-cleaning/__output__.json\n",
      "/kaggle/input/cic-bot-iot-00-cleaning/custom.css\n",
      "/kaggle/input/nfbotiot/NetFlow v1 Features.csv\n",
      "/kaggle/input/nfbotiot/NF-BoT-IoT.parquet\n",
      "/kaggle/input/cic-ton-iot-modified/CIC-ToN-IoT-Modified.pkl\n",
      "/kaggle/input/nf-uq-nids/NF-UQ-NIDS.parquet\n",
      "/kaggle/input/nf-uq-nids-modified/NF-UQ-NIDS-Modified.pkl\n",
      "/kaggle/input/x-iiotid-dataset/X-IIoTID dataset.csv\n",
      "/kaggle/input/cic-ton-iot/cic_ton_iot.parquet\n",
      "/kaggle/input/nfbotiotv2/NetFlow v2 Features.csv\n",
      "/kaggle/input/nfbotiotv2/NF-BoT-IoT-V2.parquet\n"
     ]
    }
   ],
   "source": [
    "# This Python 3 environment comes with many helpful analytics libraries installed\n",
    "# It is defined by the kaggle/python Docker image: https://github.com/kaggle/docker-python\n",
    "# For example, here's several helpful packages to load\n",
    "\n",
    "import pandas as pd\n",
    "import numpy as np\n",
    "import dask.dataframe as dd\n",
    "\n",
    "import time\n",
    "import os\n",
    "import tqdm\n",
    "import math\n",
    "import socket\n",
    "import struct\n",
    "import random\n",
    "\n",
    "os.environ[\"DGLBACKEND\"] = \"pytorch\"\n",
    "import dgl\n",
    "import dgl.nn as dglnn\n",
    "import dgl.function as fn\n",
    "from dgl import from_networkx\n",
    "import networkx as nx\n",
    "\n",
    "import torch as th\n",
    "import torch.nn as nn\n",
    "import torch.nn.functional as F\n",
    "\n",
    "from sklearn.preprocessing import StandardScaler, Normalizer, LabelEncoder\n",
    "from sklearn.model_selection import train_test_split\n",
    "from sklearn.decomposition import PCA\n",
    "from sklearn.metrics import ConfusionMatrixDisplay, confusion_matrix, classification_report\n",
    "import category_encoders as ce\n",
    "\n",
    "import seaborn as sns\n",
    "import matplotlib.pyplot as plt\n",
    "\n",
    "residual=True\n",
    "multi_class = True\n",
    "with_sort_timestamp = False\n",
    "sequence_length = 3\n",
    "with_cross_validation = True\n",
    "cross_validation_splits_num = 5\n",
    "local_epochs = 1\n",
    "batch_size = 128\n",
    "learning_rate = 0.001\n",
    "LAMBD_1 = 0.0001\n",
    "LAMBD_2 = 0.001\n",
    "n_rounds = 20\n",
    "\n",
    "# Input data files are available in the read-only \"../input/\" directory\n",
    "# For example, running this (by clicking run or pressing Shift+Enter) will list all files under the input directory\n",
    "\n",
    "import os\n",
    "for dirname, _, filenames in os.walk('/kaggle/input'):\n",
    "    for filename in filenames:\n",
    "        print(os.path.join(dirname, filename))\n",
    "\n",
    "# You can write up to 20GB to the current directory (/kaggle/working/) that gets preserved as output when you create a version using \"Save & Run All\" \n",
    "# You can also write temporary files to /kaggle/temp/, but they won't be saved outside of the current session"
   ]
  },
  {
   "cell_type": "code",
   "execution_count": 4,
   "id": "b6f2ec78",
   "metadata": {
    "execution": {
     "iopub.execute_input": "2024-09-04T15:51:25.082530Z",
     "iopub.status.busy": "2024-09-04T15:51:25.081411Z",
     "iopub.status.idle": "2024-09-04T15:51:25.086902Z",
     "shell.execute_reply": "2024-09-04T15:51:25.085869Z"
    },
    "papermill": {
     "duration": 0.033689,
     "end_time": "2024-09-04T15:51:25.089174",
     "exception": false,
     "start_time": "2024-09-04T15:51:25.055485",
     "status": "completed"
    },
    "tags": []
   },
   "outputs": [],
   "source": [
    "#name ='nf-bot-iot'\n",
    "name='nf-bot-iotv2'\n",
    "#name ='edge-iiot'\n",
    "#name ='cic-ids-2017'\n",
    "#name ='cic-ton-iot'\n",
    "#name ='nf-cse-cic-ids2018'\n",
    "#name ='nf-uq-nids'\n",
    "#name ='x-iiot'\n",
    "\n",
    "#name ='cic-ton-iot-modified'\n",
    "#name ='nf-ton-iotv2-modified'\n",
    "#name ='ccd-inid-modified'\n",
    "#name ='nf-uq-nids-modified'\n"
   ]
  },
  {
   "cell_type": "markdown",
   "id": "af5bc55d",
   "metadata": {
    "papermill": {
     "duration": 0.024344,
     "end_time": "2024-09-04T15:51:25.137943",
     "exception": false,
     "start_time": "2024-09-04T15:51:25.113599",
     "status": "completed"
    },
    "tags": []
   },
   "source": [
    "# ***** > IF MODIFIED DATASET:\n"
   ]
  },
  {
   "cell_type": "code",
   "execution_count": 5,
   "id": "8f442e9d",
   "metadata": {
    "execution": {
     "iopub.execute_input": "2024-09-04T15:51:25.189455Z",
     "iopub.status.busy": "2024-09-04T15:51:25.189000Z",
     "iopub.status.idle": "2024-09-04T15:51:25.197286Z",
     "shell.execute_reply": "2024-09-04T15:51:25.196185Z"
    },
    "papermill": {
     "duration": 0.037398,
     "end_time": "2024-09-04T15:51:25.199940",
     "exception": false,
     "start_time": "2024-09-04T15:51:25.162542",
     "status": "completed"
    },
    "tags": []
   },
   "outputs": [],
   "source": [
    "if name =='nf-uq-nids-modified' or name =='ccd-inid-modified' or name =='nf-ton-iotv2-modified' or name =='cic-ton-iot-modified':\n",
    "    import zipfile\n",
    "    import os\n",
    "\n",
    "# Path to your ZIP file\n",
    "    #zip_file_path = '/kaggle/input/ccd-inid-modified/CCD-INID-Modified.pkl'\n",
    "    #zip_file_path = '/kaggle/input/cic-ton-iot-modified/CIC-ToN-IoT-Modified.pkl'\n",
    "    zip_file_path = '/kaggle/input/nf-ton-iot-modified/NF-ToN-IoT-v2-Modified.pkl'\n",
    "    #zip_file_path = '/kaggle/input/nf-uq-nids-modified/NF-UQ-NIDS-Modified.pkl'\n",
    "\n",
    "# Directory to extract to\n",
    "    extract_dir = '/kaggle/working/extracted_files/'\n",
    "\n",
    "# Ensure the directory exist\n",
    "    os.makedirs(extract_dir, exist_ok=True)\n",
    "\n",
    "    try:\n",
    "    # Open the ZIP file\n",
    "        with zipfile.ZipFile(zip_file_path, 'r') as zip_ref:\n",
    "        # Extract all the contents into the directory\n",
    "            zip_ref.extractall(extract_dir)\n",
    "        print(\"Extraction successful.\")\n",
    "    except zipfile.BadZipFile:\n",
    "        print(\"Error: The file is not a ZIP file or it is corrupted.\")\n",
    "    except Exception as e:\n",
    "        print(f\"An unexpected error occurred: {e}\")"
   ]
  },
  {
   "cell_type": "code",
   "execution_count": 6,
   "id": "c53ddbdc",
   "metadata": {
    "execution": {
     "iopub.execute_input": "2024-09-04T15:51:25.252783Z",
     "iopub.status.busy": "2024-09-04T15:51:25.252374Z",
     "iopub.status.idle": "2024-09-04T15:51:25.260021Z",
     "shell.execute_reply": "2024-09-04T15:51:25.258864Z"
    },
    "papermill": {
     "duration": 0.037015,
     "end_time": "2024-09-04T15:51:25.262418",
     "exception": false,
     "start_time": "2024-09-04T15:51:25.225403",
     "status": "completed"
    },
    "tags": []
   },
   "outputs": [],
   "source": [
    "if name =='nf-uq-nids-modified' or name =='ccd-inid-modified' or name =='nf-ton-iotv2-modified' or name =='cic-ton-iot-modified':\n",
    "    import pandas as pd\n",
    "    import os\n",
    "\n",
    "# Path to the extracted .pkl file\n",
    "# Update this path to the actual .pkl file found inside the ZIP archive\n",
    "    #pkl_file_path = os.path.join(extract_dir, 'CCD-INID-Modified.pkl')\n",
    "    #pkl_file_path = os.path.join(extract_dir, 'CIC-ToN-IoT-Modified.pkl')\n",
    "    pkl_file_path = os.path.join(extract_dir, 'NF-ToN-IoT-v2-Modified.pkl')\n",
    "    #pkl_file_path = os.path.join(extract_dir, 'NF-UQ-NIDS-Modified.pkl')\n",
    "\n",
    "    try:\n",
    "    # Load the DataFrame from the .pkl file\n",
    "        df = pd.read_pickle(pkl_file_path)\n",
    "    except FileNotFoundError:\n",
    "        print(f\"The file {pkl_file_path} was not found.\")\n",
    "    except pd.errors.PickleError:\n",
    "        print(\"Error occurred while reading the pickle file.\")\n",
    "    except Exception as e:\n",
    "        print(f\"An unexpected error occurred: {e}\")"
   ]
  },
  {
   "cell_type": "markdown",
   "id": "badf8bf2",
   "metadata": {
    "papermill": {
     "duration": 0.024235,
     "end_time": "2024-09-04T15:51:25.311751",
     "exception": false,
     "start_time": "2024-09-04T15:51:25.287516",
     "status": "completed"
    },
    "tags": []
   },
   "source": [
    "* * * * "
   ]
  },
  {
   "cell_type": "code",
   "execution_count": 7,
   "id": "2a07c72d",
   "metadata": {
    "execution": {
     "iopub.execute_input": "2024-09-04T15:51:25.362546Z",
     "iopub.status.busy": "2024-09-04T15:51:25.362091Z",
     "iopub.status.idle": "2024-09-04T15:51:25.366991Z",
     "shell.execute_reply": "2024-09-04T15:51:25.365895Z"
    },
    "papermill": {
     "duration": 0.033142,
     "end_time": "2024-09-04T15:51:25.369554",
     "exception": false,
     "start_time": "2024-09-04T15:51:25.336412",
     "status": "completed"
    },
    "tags": []
   },
   "outputs": [],
   "source": [
    "#df\n"
   ]
  },
  {
   "cell_type": "code",
   "execution_count": 8,
   "id": "5ccfa773",
   "metadata": {
    "execution": {
     "iopub.execute_input": "2024-09-04T15:51:25.421236Z",
     "iopub.status.busy": "2024-09-04T15:51:25.420075Z",
     "iopub.status.idle": "2024-09-04T15:51:39.816567Z",
     "shell.execute_reply": "2024-09-04T15:51:39.815391Z"
    },
    "papermill": {
     "duration": 14.425377,
     "end_time": "2024-09-04T15:51:39.819538",
     "exception": false,
     "start_time": "2024-09-04T15:51:25.394161",
     "status": "completed"
    },
    "tags": []
   },
   "outputs": [],
   "source": [
    "#df = pd.read_parquet(\"/kaggle/input/nfbotiot/NF-BoT-IoT.parquet\")\n",
    "#df=pd.read_csv(\"/kaggle/input/edgeiiotset-cyber-security-dataset-of-iot-iiot/Edge-IIoTset dataset/Selected dataset for ML and DL/DNN-EdgeIIoT-dataset.csv\")\n",
    "#df = pd.read_parquet(\"/kaggle/input/cic-ids-2017/cic_ids_2017.parquet\")\n",
    "#df = pd.read_parquet(\"/kaggle/input/cic-ton-iot\")\n",
    "#df = pd.read_parquet(\"/kaggle/input/nf-cse-cic-ids2018\")\n",
    "#df = pd.read_parquet(\"/kaggle/input/nf-uq-nids\")\n",
    "#df = pd.read_csv(\"/kaggle/input/x-iiotid-dataset/X-IIoTID dataset.csv\")\n",
    "df=pd.read_parquet(\"/kaggle/input/nfbotiotv2/NF-BoT-IoT-V2.parquet\")"
   ]
  },
  {
   "cell_type": "code",
   "execution_count": 9,
   "id": "7fc03081",
   "metadata": {
    "_kg_hide-output": true,
    "execution": {
     "iopub.execute_input": "2024-09-04T15:51:39.871307Z",
     "iopub.status.busy": "2024-09-04T15:51:39.870464Z",
     "iopub.status.idle": "2024-09-04T15:51:39.875332Z",
     "shell.execute_reply": "2024-09-04T15:51:39.874122Z"
    },
    "papermill": {
     "duration": 0.033243,
     "end_time": "2024-09-04T15:51:39.877726",
     "exception": false,
     "start_time": "2024-09-04T15:51:39.844483",
     "status": "completed"
    },
    "tags": []
   },
   "outputs": [],
   "source": [
    "#for column in df.columns:\n",
    " #   df[column] = pd.Categorical(df[column])\n",
    "  #  print(df[column])"
   ]
  },
  {
   "cell_type": "code",
   "execution_count": 10,
   "id": "89cca109",
   "metadata": {
    "execution": {
     "iopub.execute_input": "2024-09-04T15:51:39.928352Z",
     "iopub.status.busy": "2024-09-04T15:51:39.927950Z",
     "iopub.status.idle": "2024-09-04T15:51:39.932853Z",
     "shell.execute_reply": "2024-09-04T15:51:39.931741Z"
    },
    "papermill": {
     "duration": 0.03296,
     "end_time": "2024-09-04T15:51:39.935282",
     "exception": false,
     "start_time": "2024-09-04T15:51:39.902322",
     "status": "completed"
    },
    "tags": []
   },
   "outputs": [],
   "source": [
    "#import pandas as pd\n",
    "\n",
    "# Assuming your DataFrame is named 'df'\n",
    "#zero_columns = df.columns[(df == 0).all()].tolist()\n",
    "\n",
    "#print(\"Columns with all zero values:\", zero_columns)\n",
    "#print(\"Number of such columns:\", len(zero_columns))"
   ]
  },
  {
   "cell_type": "code",
   "execution_count": 11,
   "id": "9f702f00",
   "metadata": {
    "execution": {
     "iopub.execute_input": "2024-09-04T15:51:39.987032Z",
     "iopub.status.busy": "2024-09-04T15:51:39.986020Z",
     "iopub.status.idle": "2024-09-04T15:51:39.990597Z",
     "shell.execute_reply": "2024-09-04T15:51:39.989604Z"
    },
    "papermill": {
     "duration": 0.033187,
     "end_time": "2024-09-04T15:51:39.992972",
     "exception": false,
     "start_time": "2024-09-04T15:51:39.959785",
     "status": "completed"
    },
    "tags": []
   },
   "outputs": [],
   "source": [
    "#df['server_fingerprint'] = pd.Categorical(df['server_fingerprint'])\n",
    "#print(df['server_fingerprint'])"
   ]
  },
  {
   "cell_type": "code",
   "execution_count": 12,
   "id": "c5d6660f",
   "metadata": {
    "execution": {
     "iopub.execute_input": "2024-09-04T15:51:40.043876Z",
     "iopub.status.busy": "2024-09-04T15:51:40.042954Z",
     "iopub.status.idle": "2024-09-04T15:51:44.459205Z",
     "shell.execute_reply": "2024-09-04T15:51:44.458123Z"
    },
    "papermill": {
     "duration": 4.444355,
     "end_time": "2024-09-04T15:51:44.461842",
     "exception": false,
     "start_time": "2024-09-04T15:51:40.017487",
     "status": "completed"
    },
    "tags": []
   },
   "outputs": [],
   "source": [
    "df = df.sample(frac=0.1, random_state=42)  # 10% sample, random_state for reproducibility"
   ]
  },
  {
   "cell_type": "code",
   "execution_count": 13,
   "id": "db04ff6c",
   "metadata": {
    "execution": {
     "iopub.execute_input": "2024-09-04T15:51:44.513253Z",
     "iopub.status.busy": "2024-09-04T15:51:44.512284Z",
     "iopub.status.idle": "2024-09-04T15:51:44.517064Z",
     "shell.execute_reply": "2024-09-04T15:51:44.516029Z"
    },
    "papermill": {
     "duration": 0.033092,
     "end_time": "2024-09-04T15:51:44.519492",
     "exception": false,
     "start_time": "2024-09-04T15:51:44.486400",
     "status": "completed"
    },
    "tags": []
   },
   "outputs": [],
   "source": [
    "#df.fillna(0, inplace=True)"
   ]
  },
  {
   "cell_type": "code",
   "execution_count": 14,
   "id": "3860b5d9",
   "metadata": {
    "execution": {
     "iopub.execute_input": "2024-09-04T15:51:44.569823Z",
     "iopub.status.busy": "2024-09-04T15:51:44.569140Z",
     "iopub.status.idle": "2024-09-04T15:51:45.142167Z",
     "shell.execute_reply": "2024-09-04T15:51:45.141051Z"
    },
    "papermill": {
     "duration": 0.601526,
     "end_time": "2024-09-04T15:51:45.145084",
     "exception": false,
     "start_time": "2024-09-04T15:51:44.543558",
     "status": "completed"
    },
    "tags": []
   },
   "outputs": [
    {
     "data": {
      "text/html": [
       "<div>\n",
       "<style scoped>\n",
       "    .dataframe tbody tr th:only-of-type {\n",
       "        vertical-align: middle;\n",
       "    }\n",
       "\n",
       "    .dataframe tbody tr th {\n",
       "        vertical-align: top;\n",
       "    }\n",
       "\n",
       "    .dataframe thead th {\n",
       "        text-align: right;\n",
       "    }\n",
       "</style>\n",
       "<table border=\"1\" class=\"dataframe\">\n",
       "  <thead>\n",
       "    <tr style=\"text-align: right;\">\n",
       "      <th></th>\n",
       "      <th>L4_SRC_PORT</th>\n",
       "      <th>L4_DST_PORT</th>\n",
       "      <th>PROTOCOL</th>\n",
       "      <th>L7_PROTO</th>\n",
       "      <th>IN_BYTES</th>\n",
       "      <th>IN_PKTS</th>\n",
       "      <th>OUT_BYTES</th>\n",
       "      <th>OUT_PKTS</th>\n",
       "      <th>TCP_FLAGS</th>\n",
       "      <th>CLIENT_TCP_FLAGS</th>\n",
       "      <th>...</th>\n",
       "      <th>TCP_WIN_MAX_IN</th>\n",
       "      <th>TCP_WIN_MAX_OUT</th>\n",
       "      <th>ICMP_TYPE</th>\n",
       "      <th>ICMP_IPV4_TYPE</th>\n",
       "      <th>DNS_QUERY_ID</th>\n",
       "      <th>DNS_QUERY_TYPE</th>\n",
       "      <th>DNS_TTL_ANSWER</th>\n",
       "      <th>FTP_COMMAND_RET_CODE</th>\n",
       "      <th>Label</th>\n",
       "      <th>Attack</th>\n",
       "    </tr>\n",
       "  </thead>\n",
       "  <tbody>\n",
       "    <tr>\n",
       "      <th>4403285</th>\n",
       "      <td>-9476</td>\n",
       "      <td>3918</td>\n",
       "      <td>6</td>\n",
       "      <td>0.0</td>\n",
       "      <td>44</td>\n",
       "      <td>1</td>\n",
       "      <td>40</td>\n",
       "      <td>1</td>\n",
       "      <td>22</td>\n",
       "      <td>2</td>\n",
       "      <td>...</td>\n",
       "      <td>1024</td>\n",
       "      <td>0</td>\n",
       "      <td>0</td>\n",
       "      <td>0</td>\n",
       "      <td>0</td>\n",
       "      <td>0</td>\n",
       "      <td>0</td>\n",
       "      <td>0.0</td>\n",
       "      <td>1</td>\n",
       "      <td>Reconnaissance</td>\n",
       "    </tr>\n",
       "    <tr>\n",
       "      <th>29734310</th>\n",
       "      <td>-7567</td>\n",
       "      <td>80</td>\n",
       "      <td>17</td>\n",
       "      <td>188.0</td>\n",
       "      <td>112</td>\n",
       "      <td>4</td>\n",
       "      <td>0</td>\n",
       "      <td>0</td>\n",
       "      <td>0</td>\n",
       "      <td>0</td>\n",
       "      <td>...</td>\n",
       "      <td>0</td>\n",
       "      <td>0</td>\n",
       "      <td>0</td>\n",
       "      <td>0</td>\n",
       "      <td>0</td>\n",
       "      <td>0</td>\n",
       "      <td>0</td>\n",
       "      <td>0.0</td>\n",
       "      <td>1</td>\n",
       "      <td>DDoS</td>\n",
       "    </tr>\n",
       "    <tr>\n",
       "      <th>20818688</th>\n",
       "      <td>18865</td>\n",
       "      <td>80</td>\n",
       "      <td>6</td>\n",
       "      <td>7.0</td>\n",
       "      <td>280</td>\n",
       "      <td>2</td>\n",
       "      <td>0</td>\n",
       "      <td>0</td>\n",
       "      <td>2</td>\n",
       "      <td>2</td>\n",
       "      <td>...</td>\n",
       "      <td>512</td>\n",
       "      <td>0</td>\n",
       "      <td>35840</td>\n",
       "      <td>140</td>\n",
       "      <td>0</td>\n",
       "      <td>0</td>\n",
       "      <td>0</td>\n",
       "      <td>0.0</td>\n",
       "      <td>1</td>\n",
       "      <td>DoS</td>\n",
       "    </tr>\n",
       "    <tr>\n",
       "      <th>16115142</th>\n",
       "      <td>744</td>\n",
       "      <td>80</td>\n",
       "      <td>17</td>\n",
       "      <td>188.0</td>\n",
       "      <td>56</td>\n",
       "      <td>2</td>\n",
       "      <td>0</td>\n",
       "      <td>0</td>\n",
       "      <td>0</td>\n",
       "      <td>0</td>\n",
       "      <td>...</td>\n",
       "      <td>0</td>\n",
       "      <td>0</td>\n",
       "      <td>0</td>\n",
       "      <td>0</td>\n",
       "      <td>0</td>\n",
       "      <td>0</td>\n",
       "      <td>0</td>\n",
       "      <td>0.0</td>\n",
       "      <td>1</td>\n",
       "      <td>DDoS</td>\n",
       "    </tr>\n",
       "    <tr>\n",
       "      <th>18374675</th>\n",
       "      <td>-11539</td>\n",
       "      <td>80</td>\n",
       "      <td>17</td>\n",
       "      <td>188.0</td>\n",
       "      <td>56</td>\n",
       "      <td>2</td>\n",
       "      <td>0</td>\n",
       "      <td>0</td>\n",
       "      <td>0</td>\n",
       "      <td>0</td>\n",
       "      <td>...</td>\n",
       "      <td>0</td>\n",
       "      <td>0</td>\n",
       "      <td>0</td>\n",
       "      <td>0</td>\n",
       "      <td>0</td>\n",
       "      <td>0</td>\n",
       "      <td>0</td>\n",
       "      <td>0.0</td>\n",
       "      <td>1</td>\n",
       "      <td>DDoS</td>\n",
       "    </tr>\n",
       "    <tr>\n",
       "      <th>...</th>\n",
       "      <td>...</td>\n",
       "      <td>...</td>\n",
       "      <td>...</td>\n",
       "      <td>...</td>\n",
       "      <td>...</td>\n",
       "      <td>...</td>\n",
       "      <td>...</td>\n",
       "      <td>...</td>\n",
       "      <td>...</td>\n",
       "      <td>...</td>\n",
       "      <td>...</td>\n",
       "      <td>...</td>\n",
       "      <td>...</td>\n",
       "      <td>...</td>\n",
       "      <td>...</td>\n",
       "      <td>...</td>\n",
       "      <td>...</td>\n",
       "      <td>...</td>\n",
       "      <td>...</td>\n",
       "      <td>...</td>\n",
       "      <td>...</td>\n",
       "    </tr>\n",
       "    <tr>\n",
       "      <th>10402005</th>\n",
       "      <td>9099</td>\n",
       "      <td>80</td>\n",
       "      <td>6</td>\n",
       "      <td>7.0</td>\n",
       "      <td>420</td>\n",
       "      <td>3</td>\n",
       "      <td>0</td>\n",
       "      <td>0</td>\n",
       "      <td>2</td>\n",
       "      <td>2</td>\n",
       "      <td>...</td>\n",
       "      <td>512</td>\n",
       "      <td>0</td>\n",
       "      <td>0</td>\n",
       "      <td>0</td>\n",
       "      <td>0</td>\n",
       "      <td>0</td>\n",
       "      <td>0</td>\n",
       "      <td>0.0</td>\n",
       "      <td>1</td>\n",
       "      <td>DoS</td>\n",
       "    </tr>\n",
       "    <tr>\n",
       "      <th>20684072</th>\n",
       "      <td>-12894</td>\n",
       "      <td>80</td>\n",
       "      <td>6</td>\n",
       "      <td>7.0</td>\n",
       "      <td>280</td>\n",
       "      <td>2</td>\n",
       "      <td>40</td>\n",
       "      <td>1</td>\n",
       "      <td>22</td>\n",
       "      <td>2</td>\n",
       "      <td>...</td>\n",
       "      <td>512</td>\n",
       "      <td>0</td>\n",
       "      <td>0</td>\n",
       "      <td>0</td>\n",
       "      <td>0</td>\n",
       "      <td>0</td>\n",
       "      <td>0</td>\n",
       "      <td>0.0</td>\n",
       "      <td>1</td>\n",
       "      <td>DoS</td>\n",
       "    </tr>\n",
       "    <tr>\n",
       "      <th>6165799</th>\n",
       "      <td>-27831</td>\n",
       "      <td>80</td>\n",
       "      <td>6</td>\n",
       "      <td>7.0</td>\n",
       "      <td>280</td>\n",
       "      <td>2</td>\n",
       "      <td>0</td>\n",
       "      <td>0</td>\n",
       "      <td>2</td>\n",
       "      <td>2</td>\n",
       "      <td>...</td>\n",
       "      <td>512</td>\n",
       "      <td>0</td>\n",
       "      <td>0</td>\n",
       "      <td>0</td>\n",
       "      <td>0</td>\n",
       "      <td>0</td>\n",
       "      <td>0</td>\n",
       "      <td>0.0</td>\n",
       "      <td>1</td>\n",
       "      <td>DoS</td>\n",
       "    </tr>\n",
       "    <tr>\n",
       "      <th>11024924</th>\n",
       "      <td>21771</td>\n",
       "      <td>80</td>\n",
       "      <td>6</td>\n",
       "      <td>7.0</td>\n",
       "      <td>280</td>\n",
       "      <td>2</td>\n",
       "      <td>0</td>\n",
       "      <td>0</td>\n",
       "      <td>2</td>\n",
       "      <td>2</td>\n",
       "      <td>...</td>\n",
       "      <td>512</td>\n",
       "      <td>0</td>\n",
       "      <td>0</td>\n",
       "      <td>0</td>\n",
       "      <td>0</td>\n",
       "      <td>0</td>\n",
       "      <td>0</td>\n",
       "      <td>0.0</td>\n",
       "      <td>1</td>\n",
       "      <td>DoS</td>\n",
       "    </tr>\n",
       "    <tr>\n",
       "      <th>11745818</th>\n",
       "      <td>18589</td>\n",
       "      <td>80</td>\n",
       "      <td>6</td>\n",
       "      <td>7.0</td>\n",
       "      <td>280</td>\n",
       "      <td>2</td>\n",
       "      <td>0</td>\n",
       "      <td>0</td>\n",
       "      <td>2</td>\n",
       "      <td>2</td>\n",
       "      <td>...</td>\n",
       "      <td>512</td>\n",
       "      <td>0</td>\n",
       "      <td>0</td>\n",
       "      <td>0</td>\n",
       "      <td>0</td>\n",
       "      <td>0</td>\n",
       "      <td>0</td>\n",
       "      <td>0.0</td>\n",
       "      <td>1</td>\n",
       "      <td>DoS</td>\n",
       "    </tr>\n",
       "  </tbody>\n",
       "</table>\n",
       "<p>3042009 rows × 43 columns</p>\n",
       "</div>"
      ],
      "text/plain": [
       "          L4_SRC_PORT  L4_DST_PORT  PROTOCOL  L7_PROTO  IN_BYTES  IN_PKTS  \\\n",
       "4403285         -9476         3918         6       0.0        44        1   \n",
       "29734310        -7567           80        17     188.0       112        4   \n",
       "20818688        18865           80         6       7.0       280        2   \n",
       "16115142          744           80        17     188.0        56        2   \n",
       "18374675       -11539           80        17     188.0        56        2   \n",
       "...               ...          ...       ...       ...       ...      ...   \n",
       "10402005         9099           80         6       7.0       420        3   \n",
       "20684072       -12894           80         6       7.0       280        2   \n",
       "6165799        -27831           80         6       7.0       280        2   \n",
       "11024924        21771           80         6       7.0       280        2   \n",
       "11745818        18589           80         6       7.0       280        2   \n",
       "\n",
       "          OUT_BYTES  OUT_PKTS  TCP_FLAGS  CLIENT_TCP_FLAGS  ...  \\\n",
       "4403285          40         1         22                 2  ...   \n",
       "29734310          0         0          0                 0  ...   \n",
       "20818688          0         0          2                 2  ...   \n",
       "16115142          0         0          0                 0  ...   \n",
       "18374675          0         0          0                 0  ...   \n",
       "...             ...       ...        ...               ...  ...   \n",
       "10402005          0         0          2                 2  ...   \n",
       "20684072         40         1         22                 2  ...   \n",
       "6165799           0         0          2                 2  ...   \n",
       "11024924          0         0          2                 2  ...   \n",
       "11745818          0         0          2                 2  ...   \n",
       "\n",
       "          TCP_WIN_MAX_IN  TCP_WIN_MAX_OUT  ICMP_TYPE  ICMP_IPV4_TYPE  \\\n",
       "4403285             1024                0          0               0   \n",
       "29734310               0                0          0               0   \n",
       "20818688             512                0      35840             140   \n",
       "16115142               0                0          0               0   \n",
       "18374675               0                0          0               0   \n",
       "...                  ...              ...        ...             ...   \n",
       "10402005             512                0          0               0   \n",
       "20684072             512                0          0               0   \n",
       "6165799              512                0          0               0   \n",
       "11024924             512                0          0               0   \n",
       "11745818             512                0          0               0   \n",
       "\n",
       "          DNS_QUERY_ID  DNS_QUERY_TYPE  DNS_TTL_ANSWER  FTP_COMMAND_RET_CODE  \\\n",
       "4403285              0               0               0                   0.0   \n",
       "29734310             0               0               0                   0.0   \n",
       "20818688             0               0               0                   0.0   \n",
       "16115142             0               0               0                   0.0   \n",
       "18374675             0               0               0                   0.0   \n",
       "...                ...             ...             ...                   ...   \n",
       "10402005             0               0               0                   0.0   \n",
       "20684072             0               0               0                   0.0   \n",
       "6165799              0               0               0                   0.0   \n",
       "11024924             0               0               0                   0.0   \n",
       "11745818             0               0               0                   0.0   \n",
       "\n",
       "          Label          Attack  \n",
       "4403285       1  Reconnaissance  \n",
       "29734310      1            DDoS  \n",
       "20818688      1             DoS  \n",
       "16115142      1            DDoS  \n",
       "18374675      1            DDoS  \n",
       "...         ...             ...  \n",
       "10402005      1             DoS  \n",
       "20684072      1             DoS  \n",
       "6165799       1             DoS  \n",
       "11024924      1             DoS  \n",
       "11745818      1             DoS  \n",
       "\n",
       "[3042009 rows x 43 columns]"
      ]
     },
     "execution_count": 14,
     "metadata": {},
     "output_type": "execute_result"
    }
   ],
   "source": [
    "df"
   ]
  },
  {
   "cell_type": "code",
   "execution_count": 15,
   "id": "8b45365f",
   "metadata": {
    "execution": {
     "iopub.execute_input": "2024-09-04T15:51:45.200692Z",
     "iopub.status.busy": "2024-09-04T15:51:45.199555Z",
     "iopub.status.idle": "2024-09-04T15:51:45.215476Z",
     "shell.execute_reply": "2024-09-04T15:51:45.214287Z"
    },
    "papermill": {
     "duration": 0.045559,
     "end_time": "2024-09-04T15:51:45.217893",
     "exception": false,
     "start_time": "2024-09-04T15:51:45.172334",
     "status": "completed"
    },
    "tags": []
   },
   "outputs": [],
   "source": [
    "if name=='x-iiot':\n",
    "\n",
    "   # List of columns to convert to categorical\n",
    "    columns_to_convert = [\n",
    "          'Protocol', 'Service', 'is_syn_only', 'Is_SYN_ACK', \n",
    "           'is_pure_ack', 'is_with_payload', 'FIN or RST', \n",
    "        'Bad_checksum', 'is_SYN_with_RST', 'anomaly_alert']\n",
    "\n",
    "# Function to convert a column to categorical and return its codes\n",
    "    def to_categorical_codes(column):\n",
    "        return pd.Categorical(column).codes\n",
    "\n",
    "# Apply the transformation to each specified column\n",
    "    for col in columns_to_convert:\n",
    "        if col in df.columns:\n",
    "            df[col] = to_categorical_codes(df[col])\n",
    "        else:\n",
    "            print(f\"Warning: Column '{col}' not found in the DataFrame\")\n",
    "    df['class3'] = (df['class3'] == 'Attack').astype(int)\n",
    "    df = df.applymap(lambda x: 0 if x == '-' else x)\n",
    "    df = df.applymap(lambda x: 0 if x == '?' else x)\n",
    "    df = df.applymap(lambda x: 0 if x == '#DIV/0!' else x)    \n",
    "    df = df.applymap(lambda x: 0 if x == 'excel' else x)\n",
    "    df = df.applymap(lambda x: 0 if x == 'aza' else x)\n",
    "    df = df.applymap(lambda x: 0 if x == ' ' else x)\n",
    "if name=='edge-iiot':\n",
    "     # List of columns to convert to categorical\n",
    "    columns_to_convert = ['mqtt.protoname','mqtt.topic','mqtt.conack.flags','mqtt.msg','http.request.method','dns.qry.name.len','arp.src.proto_ipv4',\n",
    "                          'http.request.full_uri','http.file_data','http.request.version','arp.dst.proto_ipv4','http.request.uri.query','tcp.srcport','http.referer']\n",
    "\n",
    "# Function to convert a column to categorical and return its codes\n",
    "    def to_categorical_codes(column):\n",
    "        return pd.Categorical(column).codes\n",
    "\n",
    "# Apply the transformation to each specified column\n",
    "    for col in columns_to_convert:\n",
    "        if col in df.columns:\n",
    "            df[col] = to_categorical_codes(df[col])\n",
    "        else:\n",
    "            print(f\"Warning: Column '{col}' not found in the DataFrame\")\n",
    "    \n",
    "if name=='ccd-inid-modified':    \n",
    "  # List of columns to convert to categorical\n",
    "    columns_to_convert = ['splt_direction','splt_ps','splt_piat_ms','application_name','application_category_name','requested_server_name','client_fingerprint']\n",
    "\n",
    "# Function to convert a column to categorical and return its codes\n",
    "    def to_categorical_codes(column):\n",
    "        return pd.Categorical(column).codes\n",
    "\n",
    "# Apply the transformation to each specified column\n",
    "    for col in columns_to_convert:\n",
    "        if col in df.columns:\n",
    "            df[col] = to_categorical_codes(df[col])\n",
    "        else:\n",
    "            print(f\"Warning: Column '{col}' not found in the DataFrame\")\n",
    "    df['traffic_type'] = (df['traffic_type'] == 'attack').astype(int)\n",
    "    "
   ]
  },
  {
   "cell_type": "code",
   "execution_count": 16,
   "id": "7704aed1",
   "metadata": {
    "execution": {
     "iopub.execute_input": "2024-09-04T15:51:45.270562Z",
     "iopub.status.busy": "2024-09-04T15:51:45.270131Z",
     "iopub.status.idle": "2024-09-04T15:51:45.274939Z",
     "shell.execute_reply": "2024-09-04T15:51:45.273792Z"
    },
    "papermill": {
     "duration": 0.034457,
     "end_time": "2024-09-04T15:51:45.277351",
     "exception": false,
     "start_time": "2024-09-04T15:51:45.242894",
     "status": "completed"
    },
    "tags": []
   },
   "outputs": [],
   "source": [
    "\n",
    "#print(X_train[cols_to_norm].dtypes)"
   ]
  },
  {
   "cell_type": "code",
   "execution_count": 17,
   "id": "898f4e98",
   "metadata": {
    "execution": {
     "iopub.execute_input": "2024-09-04T15:51:45.329101Z",
     "iopub.status.busy": "2024-09-04T15:51:45.328702Z",
     "iopub.status.idle": "2024-09-04T15:51:45.333598Z",
     "shell.execute_reply": "2024-09-04T15:51:45.332283Z"
    },
    "papermill": {
     "duration": 0.033517,
     "end_time": "2024-09-04T15:51:45.335958",
     "exception": false,
     "start_time": "2024-09-04T15:51:45.302441",
     "status": "completed"
    },
    "tags": []
   },
   "outputs": [],
   "source": [
    "#df = df.applymap(lambda x: 0 if x == '-' else x)"
   ]
  },
  {
   "cell_type": "code",
   "execution_count": 18,
   "id": "a184ab58",
   "metadata": {
    "execution": {
     "iopub.execute_input": "2024-09-04T15:51:45.452486Z",
     "iopub.status.busy": "2024-09-04T15:51:45.451247Z",
     "iopub.status.idle": "2024-09-04T15:51:45.456718Z",
     "shell.execute_reply": "2024-09-04T15:51:45.455583Z"
    },
    "papermill": {
     "duration": 0.034459,
     "end_time": "2024-09-04T15:51:45.459138",
     "exception": false,
     "start_time": "2024-09-04T15:51:45.424679",
     "status": "completed"
    },
    "tags": []
   },
   "outputs": [],
   "source": [
    "#df = df.applymap(lambda x: 0 if x == '?' else x)"
   ]
  },
  {
   "cell_type": "code",
   "execution_count": 19,
   "id": "74544fd7",
   "metadata": {
    "execution": {
     "iopub.execute_input": "2024-09-04T15:51:45.512231Z",
     "iopub.status.busy": "2024-09-04T15:51:45.511330Z",
     "iopub.status.idle": "2024-09-04T15:51:45.516225Z",
     "shell.execute_reply": "2024-09-04T15:51:45.515175Z"
    },
    "papermill": {
     "duration": 0.033864,
     "end_time": "2024-09-04T15:51:45.518581",
     "exception": false,
     "start_time": "2024-09-04T15:51:45.484717",
     "status": "completed"
    },
    "tags": []
   },
   "outputs": [],
   "source": [
    "#df = df.applymap(lambda x: 0 if x == '#DIV/0!' else x)"
   ]
  },
  {
   "cell_type": "code",
   "execution_count": 20,
   "id": "4d7b50c8",
   "metadata": {
    "execution": {
     "iopub.execute_input": "2024-09-04T15:51:45.579861Z",
     "iopub.status.busy": "2024-09-04T15:51:45.579357Z",
     "iopub.status.idle": "2024-09-04T15:51:45.584628Z",
     "shell.execute_reply": "2024-09-04T15:51:45.583549Z"
    },
    "papermill": {
     "duration": 0.044149,
     "end_time": "2024-09-04T15:51:45.587861",
     "exception": false,
     "start_time": "2024-09-04T15:51:45.543712",
     "status": "completed"
    },
    "tags": []
   },
   "outputs": [],
   "source": [
    "#df = df.applymap(lambda x: 0 if x == 'excel' else x)"
   ]
  },
  {
   "cell_type": "code",
   "execution_count": 21,
   "id": "4a5fb182",
   "metadata": {
    "execution": {
     "iopub.execute_input": "2024-09-04T15:51:45.657654Z",
     "iopub.status.busy": "2024-09-04T15:51:45.657083Z",
     "iopub.status.idle": "2024-09-04T15:51:45.662675Z",
     "shell.execute_reply": "2024-09-04T15:51:45.661372Z"
    },
    "papermill": {
     "duration": 0.036542,
     "end_time": "2024-09-04T15:51:45.665251",
     "exception": false,
     "start_time": "2024-09-04T15:51:45.628709",
     "status": "completed"
    },
    "tags": []
   },
   "outputs": [],
   "source": [
    "#df = df.applymap(lambda x: 0 if x == 'aza' else x)"
   ]
  },
  {
   "cell_type": "code",
   "execution_count": 22,
   "id": "ebee32c3",
   "metadata": {
    "execution": {
     "iopub.execute_input": "2024-09-04T15:51:45.718048Z",
     "iopub.status.busy": "2024-09-04T15:51:45.717193Z",
     "iopub.status.idle": "2024-09-04T15:51:45.722035Z",
     "shell.execute_reply": "2024-09-04T15:51:45.720932Z"
    },
    "papermill": {
     "duration": 0.033725,
     "end_time": "2024-09-04T15:51:45.724464",
     "exception": false,
     "start_time": "2024-09-04T15:51:45.690739",
     "status": "completed"
    },
    "tags": []
   },
   "outputs": [],
   "source": [
    "#df = df.applymap(lambda x: 0 if x == ' ' else x)"
   ]
  },
  {
   "cell_type": "code",
   "execution_count": 23,
   "id": "d890d338",
   "metadata": {
    "execution": {
     "iopub.execute_input": "2024-09-04T15:51:45.801371Z",
     "iopub.status.busy": "2024-09-04T15:51:45.800232Z",
     "iopub.status.idle": "2024-09-04T15:51:46.621645Z",
     "shell.execute_reply": "2024-09-04T15:51:46.620453Z"
    },
    "papermill": {
     "duration": 0.861555,
     "end_time": "2024-09-04T15:51:46.624261",
     "exception": false,
     "start_time": "2024-09-04T15:51:45.762706",
     "status": "completed"
    },
    "tags": []
   },
   "outputs": [
    {
     "data": {
      "text/html": [
       "<div>\n",
       "<style scoped>\n",
       "    .dataframe tbody tr th:only-of-type {\n",
       "        vertical-align: middle;\n",
       "    }\n",
       "\n",
       "    .dataframe tbody tr th {\n",
       "        vertical-align: top;\n",
       "    }\n",
       "\n",
       "    .dataframe thead th {\n",
       "        text-align: right;\n",
       "    }\n",
       "</style>\n",
       "<table border=\"1\" class=\"dataframe\">\n",
       "  <thead>\n",
       "    <tr style=\"text-align: right;\">\n",
       "      <th></th>\n",
       "      <th>L4_SRC_PORT</th>\n",
       "      <th>L4_DST_PORT</th>\n",
       "      <th>PROTOCOL</th>\n",
       "      <th>L7_PROTO</th>\n",
       "      <th>IN_BYTES</th>\n",
       "      <th>IN_PKTS</th>\n",
       "      <th>OUT_BYTES</th>\n",
       "      <th>OUT_PKTS</th>\n",
       "      <th>TCP_FLAGS</th>\n",
       "      <th>CLIENT_TCP_FLAGS</th>\n",
       "      <th>...</th>\n",
       "      <th>TCP_WIN_MAX_IN</th>\n",
       "      <th>TCP_WIN_MAX_OUT</th>\n",
       "      <th>ICMP_TYPE</th>\n",
       "      <th>ICMP_IPV4_TYPE</th>\n",
       "      <th>DNS_QUERY_ID</th>\n",
       "      <th>DNS_QUERY_TYPE</th>\n",
       "      <th>DNS_TTL_ANSWER</th>\n",
       "      <th>FTP_COMMAND_RET_CODE</th>\n",
       "      <th>Label</th>\n",
       "      <th>Attack</th>\n",
       "    </tr>\n",
       "  </thead>\n",
       "  <tbody>\n",
       "    <tr>\n",
       "      <th>4403285</th>\n",
       "      <td>-9476</td>\n",
       "      <td>3918</td>\n",
       "      <td>6</td>\n",
       "      <td>0.0</td>\n",
       "      <td>44</td>\n",
       "      <td>1</td>\n",
       "      <td>40</td>\n",
       "      <td>1</td>\n",
       "      <td>22</td>\n",
       "      <td>2</td>\n",
       "      <td>...</td>\n",
       "      <td>1024</td>\n",
       "      <td>0</td>\n",
       "      <td>0</td>\n",
       "      <td>0</td>\n",
       "      <td>0</td>\n",
       "      <td>0</td>\n",
       "      <td>0</td>\n",
       "      <td>0.0</td>\n",
       "      <td>1</td>\n",
       "      <td>Reconnaissance</td>\n",
       "    </tr>\n",
       "    <tr>\n",
       "      <th>29734310</th>\n",
       "      <td>-7567</td>\n",
       "      <td>80</td>\n",
       "      <td>17</td>\n",
       "      <td>188.0</td>\n",
       "      <td>112</td>\n",
       "      <td>4</td>\n",
       "      <td>0</td>\n",
       "      <td>0</td>\n",
       "      <td>0</td>\n",
       "      <td>0</td>\n",
       "      <td>...</td>\n",
       "      <td>0</td>\n",
       "      <td>0</td>\n",
       "      <td>0</td>\n",
       "      <td>0</td>\n",
       "      <td>0</td>\n",
       "      <td>0</td>\n",
       "      <td>0</td>\n",
       "      <td>0.0</td>\n",
       "      <td>1</td>\n",
       "      <td>DDoS</td>\n",
       "    </tr>\n",
       "    <tr>\n",
       "      <th>20818688</th>\n",
       "      <td>18865</td>\n",
       "      <td>80</td>\n",
       "      <td>6</td>\n",
       "      <td>7.0</td>\n",
       "      <td>280</td>\n",
       "      <td>2</td>\n",
       "      <td>0</td>\n",
       "      <td>0</td>\n",
       "      <td>2</td>\n",
       "      <td>2</td>\n",
       "      <td>...</td>\n",
       "      <td>512</td>\n",
       "      <td>0</td>\n",
       "      <td>35840</td>\n",
       "      <td>140</td>\n",
       "      <td>0</td>\n",
       "      <td>0</td>\n",
       "      <td>0</td>\n",
       "      <td>0.0</td>\n",
       "      <td>1</td>\n",
       "      <td>DoS</td>\n",
       "    </tr>\n",
       "    <tr>\n",
       "      <th>16115142</th>\n",
       "      <td>744</td>\n",
       "      <td>80</td>\n",
       "      <td>17</td>\n",
       "      <td>188.0</td>\n",
       "      <td>56</td>\n",
       "      <td>2</td>\n",
       "      <td>0</td>\n",
       "      <td>0</td>\n",
       "      <td>0</td>\n",
       "      <td>0</td>\n",
       "      <td>...</td>\n",
       "      <td>0</td>\n",
       "      <td>0</td>\n",
       "      <td>0</td>\n",
       "      <td>0</td>\n",
       "      <td>0</td>\n",
       "      <td>0</td>\n",
       "      <td>0</td>\n",
       "      <td>0.0</td>\n",
       "      <td>1</td>\n",
       "      <td>DDoS</td>\n",
       "    </tr>\n",
       "    <tr>\n",
       "      <th>18374675</th>\n",
       "      <td>-11539</td>\n",
       "      <td>80</td>\n",
       "      <td>17</td>\n",
       "      <td>188.0</td>\n",
       "      <td>56</td>\n",
       "      <td>2</td>\n",
       "      <td>0</td>\n",
       "      <td>0</td>\n",
       "      <td>0</td>\n",
       "      <td>0</td>\n",
       "      <td>...</td>\n",
       "      <td>0</td>\n",
       "      <td>0</td>\n",
       "      <td>0</td>\n",
       "      <td>0</td>\n",
       "      <td>0</td>\n",
       "      <td>0</td>\n",
       "      <td>0</td>\n",
       "      <td>0.0</td>\n",
       "      <td>1</td>\n",
       "      <td>DDoS</td>\n",
       "    </tr>\n",
       "    <tr>\n",
       "      <th>...</th>\n",
       "      <td>...</td>\n",
       "      <td>...</td>\n",
       "      <td>...</td>\n",
       "      <td>...</td>\n",
       "      <td>...</td>\n",
       "      <td>...</td>\n",
       "      <td>...</td>\n",
       "      <td>...</td>\n",
       "      <td>...</td>\n",
       "      <td>...</td>\n",
       "      <td>...</td>\n",
       "      <td>...</td>\n",
       "      <td>...</td>\n",
       "      <td>...</td>\n",
       "      <td>...</td>\n",
       "      <td>...</td>\n",
       "      <td>...</td>\n",
       "      <td>...</td>\n",
       "      <td>...</td>\n",
       "      <td>...</td>\n",
       "      <td>...</td>\n",
       "    </tr>\n",
       "    <tr>\n",
       "      <th>10402005</th>\n",
       "      <td>9099</td>\n",
       "      <td>80</td>\n",
       "      <td>6</td>\n",
       "      <td>7.0</td>\n",
       "      <td>420</td>\n",
       "      <td>3</td>\n",
       "      <td>0</td>\n",
       "      <td>0</td>\n",
       "      <td>2</td>\n",
       "      <td>2</td>\n",
       "      <td>...</td>\n",
       "      <td>512</td>\n",
       "      <td>0</td>\n",
       "      <td>0</td>\n",
       "      <td>0</td>\n",
       "      <td>0</td>\n",
       "      <td>0</td>\n",
       "      <td>0</td>\n",
       "      <td>0.0</td>\n",
       "      <td>1</td>\n",
       "      <td>DoS</td>\n",
       "    </tr>\n",
       "    <tr>\n",
       "      <th>20684072</th>\n",
       "      <td>-12894</td>\n",
       "      <td>80</td>\n",
       "      <td>6</td>\n",
       "      <td>7.0</td>\n",
       "      <td>280</td>\n",
       "      <td>2</td>\n",
       "      <td>40</td>\n",
       "      <td>1</td>\n",
       "      <td>22</td>\n",
       "      <td>2</td>\n",
       "      <td>...</td>\n",
       "      <td>512</td>\n",
       "      <td>0</td>\n",
       "      <td>0</td>\n",
       "      <td>0</td>\n",
       "      <td>0</td>\n",
       "      <td>0</td>\n",
       "      <td>0</td>\n",
       "      <td>0.0</td>\n",
       "      <td>1</td>\n",
       "      <td>DoS</td>\n",
       "    </tr>\n",
       "    <tr>\n",
       "      <th>6165799</th>\n",
       "      <td>-27831</td>\n",
       "      <td>80</td>\n",
       "      <td>6</td>\n",
       "      <td>7.0</td>\n",
       "      <td>280</td>\n",
       "      <td>2</td>\n",
       "      <td>0</td>\n",
       "      <td>0</td>\n",
       "      <td>2</td>\n",
       "      <td>2</td>\n",
       "      <td>...</td>\n",
       "      <td>512</td>\n",
       "      <td>0</td>\n",
       "      <td>0</td>\n",
       "      <td>0</td>\n",
       "      <td>0</td>\n",
       "      <td>0</td>\n",
       "      <td>0</td>\n",
       "      <td>0.0</td>\n",
       "      <td>1</td>\n",
       "      <td>DoS</td>\n",
       "    </tr>\n",
       "    <tr>\n",
       "      <th>11024924</th>\n",
       "      <td>21771</td>\n",
       "      <td>80</td>\n",
       "      <td>6</td>\n",
       "      <td>7.0</td>\n",
       "      <td>280</td>\n",
       "      <td>2</td>\n",
       "      <td>0</td>\n",
       "      <td>0</td>\n",
       "      <td>2</td>\n",
       "      <td>2</td>\n",
       "      <td>...</td>\n",
       "      <td>512</td>\n",
       "      <td>0</td>\n",
       "      <td>0</td>\n",
       "      <td>0</td>\n",
       "      <td>0</td>\n",
       "      <td>0</td>\n",
       "      <td>0</td>\n",
       "      <td>0.0</td>\n",
       "      <td>1</td>\n",
       "      <td>DoS</td>\n",
       "    </tr>\n",
       "    <tr>\n",
       "      <th>11745818</th>\n",
       "      <td>18589</td>\n",
       "      <td>80</td>\n",
       "      <td>6</td>\n",
       "      <td>7.0</td>\n",
       "      <td>280</td>\n",
       "      <td>2</td>\n",
       "      <td>0</td>\n",
       "      <td>0</td>\n",
       "      <td>2</td>\n",
       "      <td>2</td>\n",
       "      <td>...</td>\n",
       "      <td>512</td>\n",
       "      <td>0</td>\n",
       "      <td>0</td>\n",
       "      <td>0</td>\n",
       "      <td>0</td>\n",
       "      <td>0</td>\n",
       "      <td>0</td>\n",
       "      <td>0.0</td>\n",
       "      <td>1</td>\n",
       "      <td>DoS</td>\n",
       "    </tr>\n",
       "  </tbody>\n",
       "</table>\n",
       "<p>3042009 rows × 43 columns</p>\n",
       "</div>"
      ],
      "text/plain": [
       "          L4_SRC_PORT  L4_DST_PORT  PROTOCOL  L7_PROTO  IN_BYTES  IN_PKTS  \\\n",
       "4403285         -9476         3918         6       0.0        44        1   \n",
       "29734310        -7567           80        17     188.0       112        4   \n",
       "20818688        18865           80         6       7.0       280        2   \n",
       "16115142          744           80        17     188.0        56        2   \n",
       "18374675       -11539           80        17     188.0        56        2   \n",
       "...               ...          ...       ...       ...       ...      ...   \n",
       "10402005         9099           80         6       7.0       420        3   \n",
       "20684072       -12894           80         6       7.0       280        2   \n",
       "6165799        -27831           80         6       7.0       280        2   \n",
       "11024924        21771           80         6       7.0       280        2   \n",
       "11745818        18589           80         6       7.0       280        2   \n",
       "\n",
       "          OUT_BYTES  OUT_PKTS  TCP_FLAGS  CLIENT_TCP_FLAGS  ...  \\\n",
       "4403285          40         1         22                 2  ...   \n",
       "29734310          0         0          0                 0  ...   \n",
       "20818688          0         0          2                 2  ...   \n",
       "16115142          0         0          0                 0  ...   \n",
       "18374675          0         0          0                 0  ...   \n",
       "...             ...       ...        ...               ...  ...   \n",
       "10402005          0         0          2                 2  ...   \n",
       "20684072         40         1         22                 2  ...   \n",
       "6165799           0         0          2                 2  ...   \n",
       "11024924          0         0          2                 2  ...   \n",
       "11745818          0         0          2                 2  ...   \n",
       "\n",
       "          TCP_WIN_MAX_IN  TCP_WIN_MAX_OUT  ICMP_TYPE  ICMP_IPV4_TYPE  \\\n",
       "4403285             1024                0          0               0   \n",
       "29734310               0                0          0               0   \n",
       "20818688             512                0      35840             140   \n",
       "16115142               0                0          0               0   \n",
       "18374675               0                0          0               0   \n",
       "...                  ...              ...        ...             ...   \n",
       "10402005             512                0          0               0   \n",
       "20684072             512                0          0               0   \n",
       "6165799              512                0          0               0   \n",
       "11024924             512                0          0               0   \n",
       "11745818             512                0          0               0   \n",
       "\n",
       "          DNS_QUERY_ID  DNS_QUERY_TYPE  DNS_TTL_ANSWER  FTP_COMMAND_RET_CODE  \\\n",
       "4403285              0               0               0                   0.0   \n",
       "29734310             0               0               0                   0.0   \n",
       "20818688             0               0               0                   0.0   \n",
       "16115142             0               0               0                   0.0   \n",
       "18374675             0               0               0                   0.0   \n",
       "...                ...             ...             ...                   ...   \n",
       "10402005             0               0               0                   0.0   \n",
       "20684072             0               0               0                   0.0   \n",
       "6165799              0               0               0                   0.0   \n",
       "11024924             0               0               0                   0.0   \n",
       "11745818             0               0               0                   0.0   \n",
       "\n",
       "          Label          Attack  \n",
       "4403285       1  Reconnaissance  \n",
       "29734310      1            DDoS  \n",
       "20818688      1             DoS  \n",
       "16115142      1            DDoS  \n",
       "18374675      1            DDoS  \n",
       "...         ...             ...  \n",
       "10402005      1             DoS  \n",
       "20684072      1             DoS  \n",
       "6165799       1             DoS  \n",
       "11024924      1             DoS  \n",
       "11745818      1             DoS  \n",
       "\n",
       "[3042009 rows x 43 columns]"
      ]
     },
     "execution_count": 23,
     "metadata": {},
     "output_type": "execute_result"
    }
   ],
   "source": [
    "df"
   ]
  },
  {
   "cell_type": "code",
   "execution_count": 24,
   "id": "eb51add0",
   "metadata": {
    "execution": {
     "iopub.execute_input": "2024-09-04T15:51:46.681307Z",
     "iopub.status.busy": "2024-09-04T15:51:46.680881Z",
     "iopub.status.idle": "2024-09-04T15:51:46.699594Z",
     "shell.execute_reply": "2024-09-04T15:51:46.698394Z"
    },
    "papermill": {
     "duration": 0.050558,
     "end_time": "2024-09-04T15:51:46.702185",
     "exception": false,
     "start_time": "2024-09-04T15:51:46.651627",
     "status": "completed"
    },
    "tags": []
   },
   "outputs": [],
   "source": [
    "if name =='x-iiot':\n",
    "    drop_columns=[\"Scr_IP\",\"Scr_port\",\"Des_IP\",\"Des_port\",\"Timestamp\",\"Date\",\"class1\",\"class2\"]\n",
    "    src_ip_col=\"Scr_IP\"\n",
    "    src_port_col=\"Scr_port\"\n",
    "    dst_ip_col=\"Des_IP\"\n",
    "    dst_port_col=\"Des_port\"\n",
    "    label_col=\"class3\"\n",
    "    class_col=\"class2\"\n",
    "if name=='edge-iiot':\n",
    "    drop_columns=[\"ip.src_host\", \"ip.dst_host\",\"tcp.options\",\"tcp.payload\",\"mqtt.msg,icmp.unused\", \"http.tls_port\", \"dns.qry.type\", \"mqtt.msg_decoded_as\",\"frame.time\",\"Attack_type\"]\n",
    "    src_ip_col=\"ip.src_host\"\n",
    "    dst_ip_col=\"ip.dst_host\"    \n",
    "    label_col=\"Attack_label\"\n",
    "    class_col= \"Attack_type\"\n",
    "    \n",
    "if name=='cic-ids-2017' or name == 'cic-ton-iot':\n",
    "    drop_columns=[\"Flow ID\", \"Src IP\", \"Dst IP\", \"Timestamp\", \"Src Port\", \"Dst Port\", \"Attack\"]    \n",
    "    src_ip_col=\"Src IP\"\n",
    "    src_port_col=\"Src Port\"\n",
    "    dst_ip_col=\"Dst IP\"\n",
    "    dst_port_col=\"Dst Port\"\n",
    "    timestamp_col=\"Timestamp\"\n",
    "    timestamp_format=\"%d/%m/%Y %I:%M:%S %p\"\n",
    "    label_col=\"Label\"\n",
    "    class_col=\"Attack\"\n",
    "    class_num_col= \"Class\"\n",
    "    weak_columns = ['Flow Duration', 'Tot Bwd Pkts', 'TotLen Bwd Pkts', 'Fwd Pkt Len Max', 'Fwd Pkt Len Mean', 'Bwd Pkt Len Max', 'Bwd Pkt Len Mean', 'Bwd Pkt Len Std', 'Flow Pkts/s', 'Flow IAT Mean',\n",
    "              'Flow IAT Max', 'Fwd IAT Mean', 'Bwd IAT Mean', 'Pkt Len Max', 'Pkt Len Mean', 'Pkt Size Avg', 'Fwd Byts/b Avg', 'Fwd Pkts/b Avg', 'Fwd Blk Rate Avg', 'Active Mean', 'Idle Mean']\n",
    "    \n",
    "if name=='nf-bot-iot' or name == 'nf-cse-cic-ids2018' or name=='nf-bot-iotv2':\n",
    "    drop_columns=[\"L4_SRC_PORT\",\"L4_DST_PORT\",\"Attack\"]\n",
    "    src_port_col=\"L4_SRC_PORT\"\n",
    "    dst_port_col=\"L4_DST_PORT\"\n",
    "    label_col=\"Label\"\n",
    "    class_col=\"Attack\"\n",
    "if name=='nf-uq-nids':\n",
    "    drop_columns=[\"L4_SRC_PORT\",\"L4_DST_PORT\",\"Attack\",\"Dataset\"]\n",
    "    src_port_col=\"L4_SRC_PORT\"\n",
    "    dst_port_col=\"L4_DST_PORT\"\n",
    "    label_col=\"Label\"\n",
    "    class_col=\"Attack\"\n",
    "if name=='cic-ton-iot-modified':\n",
    "    drop_columns=[\"Flow ID\", \"Src IP\", \"Dst IP\", \"Timestamp\", \"Src Port\", \"Dst Port\", \"Attack\",\"datetime\"]    \n",
    "    src_ip_col=\"Src IP\"\n",
    "    src_port_col=\"Src Port\"\n",
    "    dst_ip_col=\"Dst IP\"\n",
    "    dst_port_col=\"Dst Port\"\n",
    "    timestamp_col=\"Timestamp\"\n",
    "    timestamp_format=\"%d/%m/%Y %I:%M:%S %p\"\n",
    "    label_col=\"Label\"\n",
    "    class_col=\"Attack\"\n",
    "    weak_columns = [\"Bwd PSH Flags\", \"Fwd URG Flags\", \"Bwd URG Flags\", \"URG Flag Cnt\", \"CWE Flag Count\", \"ECE Flag Cnt\", \"Fwd Byts/b Avg\", \"Fwd Pkts/b Avg\", \"Fwd Blk Rate Avg\", \"Subflow Bwd Pkts\"]\n",
    "if name=='ccd-inid-modified':\n",
    "    drop_columns=[\"id\",\"src_ip\",\"src_port\",\"dst_ip\",\"dst_port\",\"atk_type\"]    \n",
    "    src_ip_col=\"src_ip\"\n",
    "    src_port_col=\"src_port\"\n",
    "    dst_ip_col=\"dst_ip\"\n",
    "    dst_port_col=\"dst_port\"\n",
    "    label_col=\"traffic_type\"\n",
    "    class_col=\"atk_type\"\n",
    "    weak_columns = [\"vlan_id\",\"user_agent\",\"server_fingerprint\",\"content_type\", \"bidirectional_cwr_packets\", \"bidirectional_ece_packets\", \"bidirectional_urg_packets\", \"src2dst_cwr_packets\", \"src2dst_ece_packets\", \"src2dst_urg_packets\", \"dst2src_cwr_packets\", \"dst2src_ece_packets\", \"dst2src_urg_packet\"]\n",
    "if name=='nf-ton-iotv2-modified':\n",
    "    drop_columns=[\"IPV4_SRC_ADDR\",\"L4_SRC_PORT\",\"IPV4_DST_ADDR\",\"L4_DST_PORT\",\"Attack\",\"SRC_TO_DST_AVG_THROUGHPUT\",\"DST_TO_SRC_AVG_THROUGHPUT\",\"FLOW_DURATION_MILLISECONDS\",\"LONGEST_FLOW_PKT\",\"SRC_TO_DST_SECOND_BYTES\", \"DST_TO_SRC_SECOND_BYTES\" ,\"TCP_WIN_MAX_IN TCP_WIN_MAX_OUT\"]     \n",
    "    src_ip_col=\"IPV4_SRC_ADDR\"\n",
    "    src_port_col=\"L4_SRC_PORT\"\n",
    "    dst_ip_col=\"IPV4_DST_ADDR\"\n",
    "    dst_port_col=\"L4_DST_PORT\"\n",
    "    label_col=\"Label\"\n",
    "    class_col=\"Attack\"\n",
    "if name=='nf-uq-nids-modified':\n",
    "    drop_columns=[\"IPV4_SRC_ADDR\",\"L4_SRC_PORT\",\"IPV4_DST_ADDR\",\"L4_DST_PORT\",\"Attack\",\"Dataset\"]    \n",
    "    src_ip_col=\"IPV4_SRC_ADDR\"\n",
    "    src_port_col=\"L4_SRC_PORT\"\n",
    "    dst_ip_col=\"IPV4_DST_ADDR\"\n",
    "    dst_port_col=\"L4_DST_PORT\"\n",
    "    label_col=\"Label\"\n",
    "    class_col=\"Attack\"    \n"
   ]
  },
  {
   "cell_type": "code",
   "execution_count": 25,
   "id": "d0d68d32",
   "metadata": {
    "execution": {
     "iopub.execute_input": "2024-09-04T15:51:46.757369Z",
     "iopub.status.busy": "2024-09-04T15:51:46.756362Z",
     "iopub.status.idle": "2024-09-04T15:51:46.761359Z",
     "shell.execute_reply": "2024-09-04T15:51:46.760227Z"
    },
    "papermill": {
     "duration": 0.035366,
     "end_time": "2024-09-04T15:51:46.763765",
     "exception": false,
     "start_time": "2024-09-04T15:51:46.728399",
     "status": "completed"
    },
    "tags": []
   },
   "outputs": [],
   "source": [
    "#df"
   ]
  },
  {
   "cell_type": "code",
   "execution_count": 26,
   "id": "3c183e54",
   "metadata": {
    "execution": {
     "iopub.execute_input": "2024-09-04T15:51:46.818453Z",
     "iopub.status.busy": "2024-09-04T15:51:46.818030Z",
     "iopub.status.idle": "2024-09-04T15:51:46.822909Z",
     "shell.execute_reply": "2024-09-04T15:51:46.821867Z"
    },
    "papermill": {
     "duration": 0.034685,
     "end_time": "2024-09-04T15:51:46.825290",
     "exception": false,
     "start_time": "2024-09-04T15:51:46.790605",
     "status": "completed"
    },
    "tags": []
   },
   "outputs": [],
   "source": [
    "#df.Label.value_counts()"
   ]
  },
  {
   "cell_type": "code",
   "execution_count": 27,
   "id": "2395bf31",
   "metadata": {
    "execution": {
     "iopub.execute_input": "2024-09-04T15:51:46.879003Z",
     "iopub.status.busy": "2024-09-04T15:51:46.878620Z",
     "iopub.status.idle": "2024-09-04T15:51:46.883591Z",
     "shell.execute_reply": "2024-09-04T15:51:46.882364Z"
    },
    "papermill": {
     "duration": 0.034662,
     "end_time": "2024-09-04T15:51:46.886091",
     "exception": false,
     "start_time": "2024-09-04T15:51:46.851429",
     "status": "completed"
    },
    "tags": []
   },
   "outputs": [],
   "source": [
    "#df=df.sample(frac=0.1, random_state=42) "
   ]
  },
  {
   "cell_type": "code",
   "execution_count": 28,
   "id": "405a61db",
   "metadata": {
    "execution": {
     "iopub.execute_input": "2024-09-04T15:51:46.939842Z",
     "iopub.status.busy": "2024-09-04T15:51:46.939452Z",
     "iopub.status.idle": "2024-09-04T15:51:49.644576Z",
     "shell.execute_reply": "2024-09-04T15:51:49.643364Z"
    },
    "papermill": {
     "duration": 2.73506,
     "end_time": "2024-09-04T15:51:49.647521",
     "exception": false,
     "start_time": "2024-09-04T15:51:46.912461",
     "status": "completed"
    },
    "tags": []
   },
   "outputs": [],
   "source": [
    "if name == 'nf-bot-iot' or name =='nf-cse-cic-ids2018' or name == 'nf-uq-nids' or name=='nf-bot-iotv2':\n",
    "    df[src_port_col] = df[src_port_col].apply(str)\n",
    "    df[dst_port_col] = df[dst_port_col].apply(str)\n",
    "\n",
    "\n",
    "if name == 'cic-ids-2017' or name =='cic-ton-iot' or name== 'x-iiot' or name=='cic-ton-iot-modified' or name=='ccd-inid-modified' or  name=='nf-ton-iotv2-modified' or name =='nf-uq-nids-modified' :\n",
    "    df[src_ip_col] = df[src_ip_col].apply(str)\n",
    "    df[src_port_col] = df[src_port_col].apply(str)\n",
    "    df[dst_ip_col] = df[dst_ip_col].apply(str)\n",
    "    df[dst_port_col] = df[dst_port_col].apply(str)\n",
    "    \n",
    "if name == 'edge-iiot':\n",
    "    df[src_ip_col] = df[src_ip_col].apply(str)\n",
    "    df[dst_ip_col] = df[dst_ip_col].apply(str)"
   ]
  },
  {
   "cell_type": "code",
   "execution_count": 29,
   "id": "1e58fbd5",
   "metadata": {
    "execution": {
     "iopub.execute_input": "2024-09-04T15:51:49.701100Z",
     "iopub.status.busy": "2024-09-04T15:51:49.700692Z",
     "iopub.status.idle": "2024-09-04T15:51:49.705454Z",
     "shell.execute_reply": "2024-09-04T15:51:49.704438Z"
    },
    "papermill": {
     "duration": 0.034367,
     "end_time": "2024-09-04T15:51:49.707880",
     "exception": false,
     "start_time": "2024-09-04T15:51:49.673513",
     "status": "completed"
    },
    "tags": []
   },
   "outputs": [],
   "source": [
    "# df[src_ip_col] = df[src_ip_col].apply(lambda x: socket.inet_ntoa(struct.pack('>I', random.randint(0xac100001, 0xac1f0001))))\n",
    "# df.head()"
   ]
  },
  {
   "cell_type": "code",
   "execution_count": 30,
   "id": "bc215b60",
   "metadata": {
    "execution": {
     "iopub.execute_input": "2024-09-04T15:51:49.761521Z",
     "iopub.status.busy": "2024-09-04T15:51:49.761092Z",
     "iopub.status.idle": "2024-09-04T15:52:00.567385Z",
     "shell.execute_reply": "2024-09-04T15:52:00.566094Z"
    },
    "papermill": {
     "duration": 10.836344,
     "end_time": "2024-09-04T15:52:00.570208",
     "exception": false,
     "start_time": "2024-09-04T15:51:49.733864",
     "status": "completed"
    },
    "tags": []
   },
   "outputs": [],
   "source": [
    "df.replace([np.inf, -np.inf], np.nan, inplace=True)\n",
    "df.dropna(axis=0, how='any', inplace=True)\n",
    "df.drop_duplicates(subset=None, keep=\"first\", inplace=True)\n",
    "df.reset_index(drop=True, inplace=True)"
   ]
  },
  {
   "cell_type": "code",
   "execution_count": 31,
   "id": "1d5bc597",
   "metadata": {
    "execution": {
     "iopub.execute_input": "2024-09-04T15:52:00.623494Z",
     "iopub.status.busy": "2024-09-04T15:52:00.623069Z",
     "iopub.status.idle": "2024-09-04T15:52:04.234562Z",
     "shell.execute_reply": "2024-09-04T15:52:04.233344Z"
    },
    "papermill": {
     "duration": 3.641322,
     "end_time": "2024-09-04T15:52:04.237418",
     "exception": false,
     "start_time": "2024-09-04T15:52:00.596096",
     "status": "completed"
    },
    "tags": []
   },
   "outputs": [],
   "source": [
    "# X = df.drop([label_col], axis=1)\n",
    "y = df[label_col]\n",
    "X_train, X_test, y_train, y_test = train_test_split(\n",
    "        df, y, test_size=0.3, random_state=13, stratify=y)"
   ]
  },
  {
   "cell_type": "code",
   "execution_count": 32,
   "id": "1cc38081",
   "metadata": {
    "execution": {
     "iopub.execute_input": "2024-09-04T15:52:04.292010Z",
     "iopub.status.busy": "2024-09-04T15:52:04.291624Z",
     "iopub.status.idle": "2024-09-04T15:52:04.440998Z",
     "shell.execute_reply": "2024-09-04T15:52:04.439681Z"
    },
    "papermill": {
     "duration": 0.18037,
     "end_time": "2024-09-04T15:52:04.443871",
     "exception": false,
     "start_time": "2024-09-04T15:52:04.263501",
     "status": "completed"
    },
    "tags": []
   },
   "outputs": [],
   "source": [
    "if name== 'cic-ids-2017' or name == 'cic-ton-iot' or name=='cic-ton-iot-modified' or name=='ccd-inid-modified':\n",
    "    cols_to_norm = list(set(list(X_train.iloc[:, 2:].columns ))  - set(list([label_col])) - set(drop_columns)  - set(weak_columns))\n",
    "else:\n",
    "    cols_to_norm = list(set(list(X_train.iloc[:, 2:].columns ))  - set(list([label_col])) - set(drop_columns))"
   ]
  },
  {
   "cell_type": "code",
   "execution_count": 33,
   "id": "7f46bcd1",
   "metadata": {
    "execution": {
     "iopub.execute_input": "2024-09-04T15:52:04.499170Z",
     "iopub.status.busy": "2024-09-04T15:52:04.498420Z",
     "iopub.status.idle": "2024-09-04T15:52:06.313721Z",
     "shell.execute_reply": "2024-09-04T15:52:06.312609Z"
    },
    "papermill": {
     "duration": 1.846692,
     "end_time": "2024-09-04T15:52:06.316624",
     "exception": false,
     "start_time": "2024-09-04T15:52:04.469932",
     "status": "completed"
    },
    "tags": []
   },
   "outputs": [],
   "source": [
    "scaler = StandardScaler()\n",
    "X_train[cols_to_norm] = scaler.fit_transform(X_train[cols_to_norm])"
   ]
  },
  {
   "cell_type": "code",
   "execution_count": 34,
   "id": "65e7ae43",
   "metadata": {
    "execution": {
     "iopub.execute_input": "2024-09-04T15:52:06.371336Z",
     "iopub.status.busy": "2024-09-04T15:52:06.370912Z",
     "iopub.status.idle": "2024-09-04T15:52:19.293791Z",
     "shell.execute_reply": "2024-09-04T15:52:19.292528Z"
    },
    "papermill": {
     "duration": 12.953704,
     "end_time": "2024-09-04T15:52:19.296684",
     "exception": false,
     "start_time": "2024-09-04T15:52:06.342980",
     "status": "completed"
    },
    "tags": []
   },
   "outputs": [],
   "source": [
    "X_train['h'] = X_train[ cols_to_norm ].values.tolist()"
   ]
  },
  {
   "cell_type": "code",
   "execution_count": 35,
   "id": "3ba4ef8b",
   "metadata": {
    "execution": {
     "iopub.execute_input": "2024-09-04T15:52:19.351263Z",
     "iopub.status.busy": "2024-09-04T15:52:19.350847Z",
     "iopub.status.idle": "2024-09-04T15:52:42.815547Z",
     "shell.execute_reply": "2024-09-04T15:52:42.814083Z"
    },
    "papermill": {
     "duration": 23.494979,
     "end_time": "2024-09-04T15:52:42.818484",
     "exception": false,
     "start_time": "2024-09-04T15:52:19.323505",
     "status": "completed"
    },
    "tags": []
   },
   "outputs": [],
   "source": [
    "if name == 'nf-bot-iot' or name == 'nf-cse-cic-ids2018' or name == 'nf-uq-nids' or name=='nf-bot-iotv2':\n",
    "    G = nx.from_pandas_edgelist(X_train, src_port_col, dst_port_col, ['h',label_col],create_using=nx.MultiDiGraph())\n",
    "if name == 'x-iiot' or name == 'cic-ids-2017' or name == 'cic-ton-iot' or name == 'edge-iiot' or name=='cic-ton-iot-modified' or name=='ccd-inid-modified' or  name=='nf-ton-iotv2-modified' or name =='nf-uq-nids-modified':\n",
    "    G = nx.from_pandas_edgelist(X_train, src_ip_col, dst_ip_col, ['h',label_col],create_using=nx.MultiDiGraph())"
   ]
  },
  {
   "cell_type": "code",
   "execution_count": 36,
   "id": "a6fd2052",
   "metadata": {
    "execution": {
     "iopub.execute_input": "2024-09-04T15:52:42.872909Z",
     "iopub.status.busy": "2024-09-04T15:52:42.872486Z",
     "iopub.status.idle": "2024-09-04T15:54:24.098508Z",
     "shell.execute_reply": "2024-09-04T15:54:24.097143Z"
    },
    "papermill": {
     "duration": 101.256124,
     "end_time": "2024-09-04T15:54:24.101342",
     "exception": false,
     "start_time": "2024-09-04T15:52:42.845218",
     "status": "completed"
    },
    "tags": []
   },
   "outputs": [],
   "source": [
    "G = from_networkx(G,edge_attrs=['h',label_col] )"
   ]
  },
  {
   "cell_type": "code",
   "execution_count": 37,
   "id": "daa30577",
   "metadata": {
    "execution": {
     "iopub.execute_input": "2024-09-04T15:54:24.155576Z",
     "iopub.status.busy": "2024-09-04T15:54:24.154582Z",
     "iopub.status.idle": "2024-09-04T15:54:24.161813Z",
     "shell.execute_reply": "2024-09-04T15:54:24.160730Z"
    },
    "papermill": {
     "duration": 0.0367,
     "end_time": "2024-09-04T15:54:24.164271",
     "exception": false,
     "start_time": "2024-09-04T15:54:24.127571",
     "status": "completed"
    },
    "tags": []
   },
   "outputs": [
    {
     "data": {
      "text/plain": [
       "65536"
      ]
     },
     "execution_count": 37,
     "metadata": {},
     "output_type": "execute_result"
    }
   ],
   "source": [
    "G.num_nodes()"
   ]
  },
  {
   "cell_type": "code",
   "execution_count": 38,
   "id": "31c5cc47",
   "metadata": {
    "execution": {
     "iopub.execute_input": "2024-09-04T15:54:24.219654Z",
     "iopub.status.busy": "2024-09-04T15:54:24.218893Z",
     "iopub.status.idle": "2024-09-04T15:54:24.237003Z",
     "shell.execute_reply": "2024-09-04T15:54:24.235835Z"
    },
    "papermill": {
     "duration": 0.048821,
     "end_time": "2024-09-04T15:54:24.239923",
     "exception": false,
     "start_time": "2024-09-04T15:54:24.191102",
     "status": "completed"
    },
    "tags": []
   },
   "outputs": [],
   "source": [
    "G.ndata['h'] = th.ones(G.num_nodes(), G.edata['h'].shape[1])"
   ]
  },
  {
   "cell_type": "code",
   "execution_count": 39,
   "id": "cae55226",
   "metadata": {
    "execution": {
     "iopub.execute_input": "2024-09-04T15:54:24.294890Z",
     "iopub.status.busy": "2024-09-04T15:54:24.294475Z",
     "iopub.status.idle": "2024-09-04T15:54:24.308921Z",
     "shell.execute_reply": "2024-09-04T15:54:24.307683Z"
    },
    "papermill": {
     "duration": 0.04491,
     "end_time": "2024-09-04T15:54:24.312054",
     "exception": false,
     "start_time": "2024-09-04T15:54:24.267144",
     "status": "completed"
    },
    "tags": []
   },
   "outputs": [],
   "source": [
    "G.ndata['h'] = th.reshape(G.ndata['h'], (G.ndata['h'].shape[0], 1,G.ndata['h'].shape[1]))\n",
    "G.edata['h'] = th.reshape(G.edata['h'], (G.edata['h'].shape[0], 1,G.edata['h'].shape[1]))"
   ]
  },
  {
   "cell_type": "code",
   "execution_count": 40,
   "id": "b628d478",
   "metadata": {
    "execution": {
     "iopub.execute_input": "2024-09-04T15:54:24.368683Z",
     "iopub.status.busy": "2024-09-04T15:54:24.368246Z",
     "iopub.status.idle": "2024-09-04T15:54:24.374684Z",
     "shell.execute_reply": "2024-09-04T15:54:24.373427Z"
    },
    "papermill": {
     "duration": 0.038055,
     "end_time": "2024-09-04T15:54:24.377457",
     "exception": false,
     "start_time": "2024-09-04T15:54:24.339402",
     "status": "completed"
    },
    "tags": []
   },
   "outputs": [],
   "source": [
    "G.edata['train_mask'] = th.ones(len(G.edata['h']), dtype=th.bool)"
   ]
  },
  {
   "cell_type": "code",
   "execution_count": null,
   "id": "94ebf66f",
   "metadata": {
    "papermill": {
     "duration": 0.02563,
     "end_time": "2024-09-04T15:54:24.431574",
     "exception": false,
     "start_time": "2024-09-04T15:54:24.405944",
     "status": "completed"
    },
    "tags": []
   },
   "outputs": [],
   "source": []
  },
  {
   "cell_type": "code",
   "execution_count": 41,
   "id": "06043a59",
   "metadata": {
    "execution": {
     "iopub.execute_input": "2024-09-04T15:54:24.485526Z",
     "iopub.status.busy": "2024-09-04T15:54:24.484734Z",
     "iopub.status.idle": "2024-09-04T15:54:24.492424Z",
     "shell.execute_reply": "2024-09-04T15:54:24.491113Z"
    },
    "papermill": {
     "duration": 0.03719,
     "end_time": "2024-09-04T15:54:24.494801",
     "exception": false,
     "start_time": "2024-09-04T15:54:24.457611",
     "status": "completed"
    },
    "tags": []
   },
   "outputs": [],
   "source": [
    "class Model(nn.Module):\n",
    "    def __init__(self, ndim_in, ndim_out, edim, activation, dropout,num_neighbors):\n",
    "        super().__init__()\n",
    "        self.gnn = SAGE(ndim_in, ndim_out, edim, activation, dropout,num_neighbors)\n",
    "        self.pred = MLPPredictor(ndim_out,edim, 2)\n",
    "    def forward(self, g, nfeats, efeats):\n",
    "        h = self.gnn(g, nfeats, efeats)\n",
    "        return self.pred(g, h)\n"
   ]
  },
  {
   "cell_type": "code",
   "execution_count": 42,
   "id": "6ea345cc",
   "metadata": {
    "execution": {
     "iopub.execute_input": "2024-09-04T15:54:24.548596Z",
     "iopub.status.busy": "2024-09-04T15:54:24.548174Z",
     "iopub.status.idle": "2024-09-04T15:54:24.565117Z",
     "shell.execute_reply": "2024-09-04T15:54:24.564055Z"
    },
    "papermill": {
     "duration": 0.04684,
     "end_time": "2024-09-04T15:54:24.567595",
     "exception": false,
     "start_time": "2024-09-04T15:54:24.520755",
     "status": "completed"
    },
    "tags": []
   },
   "outputs": [],
   "source": [
    "class SAGELayer(nn.Module):\n",
    "    def __init__(self, ndim_in, edims, ndim_out, activation,num_neighbors):\n",
    "        super(SAGELayer, self).__init__()\n",
    "        ### force to outut fix dimensions\n",
    "        self.W_msg = nn.Linear(ndim_in + edims, ndim_out)\n",
    "        ### apply weight\n",
    "        self.W_apply = nn.Linear(ndim_in + ndim_out, ndim_out)\n",
    "        self.activation = activation\n",
    "        self.num_neighbors = num_neighbors\n",
    "\n",
    "    def message_func(self, edges):\n",
    "        \n",
    "       \n",
    "        return {'m': self.W_msg(th.cat([edges.src['h'], edges.data['h']], 2))}\n",
    "\n",
    "    def forward(self, g_dgl, nfeats, efeats):\n",
    "        with g_dgl.local_scope():\n",
    "            g = g_dgl\n",
    "           \n",
    "            # Neighbor sampling\n",
    "            sampled_g = dgl.sampling.sample_neighbors(g, g.nodes(), self.num_neighbors)\n",
    "           \n",
    "            # Set node and edge features for the sampled graph\n",
    "            sampled_g.ndata['h'] = nfeats\n",
    "            #print(nfeats.shape)\n",
    "            \n",
    "            sampled_eids = sampled_g.edata[dgl.EID]\n",
    "           \n",
    "            # Create new edge features for the sampled graph\n",
    "            sampled_eids = sampled_g.edata[dgl.EID]\n",
    "            sampled_g.edata['h'] = efeats[sampled_eids]\n",
    "            \n",
    "            sampled_g.update_all(self.message_func, fn.mean('m', 'h_neigh'))\n",
    "                    \n",
    "            h_new = F.relu(self.W_apply(th.cat([nfeats, sampled_g.ndata['h_neigh']], 2)))\n",
    "            return h_new\n",
    "\n",
    "\n",
    "class SAGE(nn.Module):\n",
    "    def __init__(self, ndim_in, ndim_out, edim, activation, dropout,num_neighbors):\n",
    "        super(SAGE, self).__init__()\n",
    "        self.conv1 = SAGELayer(ndim_in, edim, 128, activation,num_neighbors)\n",
    "        self.conv2 = SAGELayer(128, edim, ndim_out, activation,num_neighbors)\n",
    "        self.dropout = nn.Dropout(p=dropout)\n",
    "\n",
    "    def forward(self, g, nfeats, efeats):\n",
    "        #for i, layer in enumerate(self.layers):\n",
    "         #   if i != 0:\n",
    "              #  nfeats = self.dropout(nfeats)\n",
    "           # h_dst = x[:mfgs[0].num_dst_nodes()] \n",
    "        #edge_features=[]\n",
    "        #node_features=[]\n",
    "       # for node_idx in range (G.num_nodes()):\n",
    "        #        neighbor_feats=extract_sampled_features(node_idx, s, G.edata['h'])\n",
    "         #       edge_features.append(neighbor_feats)\n",
    "        #for node_idx in range (G.num_nodes()):\n",
    "         #   neighbor_feats=extract_sampled_features(node_idx, s, G.ndata['h'])\n",
    "          #  node_features.append(neighbor_feats)\n",
    "        nfeats = self.conv1(g, nfeats, efeats)\n",
    "        #print(\"ok2\")\n",
    "        \n",
    "        nfeats = self.conv2(g, nfeats,efeats)\n",
    "            \n",
    "            \n",
    "        return nfeats.sum(1)"
   ]
  },
  {
   "cell_type": "code",
   "execution_count": 43,
   "id": "407c20d9",
   "metadata": {
    "execution": {
     "iopub.execute_input": "2024-09-04T15:54:24.622176Z",
     "iopub.status.busy": "2024-09-04T15:54:24.621754Z",
     "iopub.status.idle": "2024-09-04T15:54:24.632665Z",
     "shell.execute_reply": "2024-09-04T15:54:24.631480Z"
    },
    "papermill": {
     "duration": 0.040731,
     "end_time": "2024-09-04T15:54:24.635184",
     "exception": false,
     "start_time": "2024-09-04T15:54:24.594453",
     "status": "completed"
    },
    "tags": []
   },
   "outputs": [],
   "source": [
    "class MLPPredictor(nn.Module):\n",
    "    def __init__(self, in_features,edim, out_classes):\n",
    "        super().__init__()\n",
    "        if residual:\n",
    "            self.W = nn.Linear(in_features * 2 + edim, out_classes)\n",
    "        else:\n",
    "            self.W = nn.Linear(in_features * 2, out_classes)\n",
    "    def apply_edges(self, edges):\n",
    "        h_u = edges.src['h']\n",
    "        \n",
    "        h_v = edges.dst['h']\n",
    "        if residual:\n",
    "            h_uv = edges.data['h']\n",
    "            h_uv = h_uv.view(h_uv.shape[0], h_uv.shape[2])\n",
    "            score = self.W(th.cat([h_u, h_v, h_uv], 1))\n",
    "        else:\n",
    "            score = self.W(th.cat([h_u, h_v], 1))\n",
    "            \n",
    "        return {'score': score}\n",
    "\n",
    "    def forward(self, graph, h):\n",
    "        with graph.local_scope():\n",
    "            graph.ndata['h'] = h\n",
    "            graph.apply_edges(self.apply_edges)\n",
    "            return graph.edata['score']"
   ]
  },
  {
   "cell_type": "code",
   "execution_count": 44,
   "id": "74959368",
   "metadata": {
    "execution": {
     "iopub.execute_input": "2024-09-04T15:54:24.690237Z",
     "iopub.status.busy": "2024-09-04T15:54:24.689822Z",
     "iopub.status.idle": "2024-09-04T15:54:24.694524Z",
     "shell.execute_reply": "2024-09-04T15:54:24.693312Z"
    },
    "papermill": {
     "duration": 0.035566,
     "end_time": "2024-09-04T15:54:24.697224",
     "exception": false,
     "start_time": "2024-09-04T15:54:24.661658",
     "status": "completed"
    },
    "tags": []
   },
   "outputs": [],
   "source": [
    "#G = G.to('cuda:0')\n",
    "#G.device"
   ]
  },
  {
   "cell_type": "code",
   "execution_count": 45,
   "id": "2ca6d929",
   "metadata": {
    "execution": {
     "iopub.execute_input": "2024-09-04T15:54:24.752634Z",
     "iopub.status.busy": "2024-09-04T15:54:24.751256Z",
     "iopub.status.idle": "2024-09-04T15:54:24.759359Z",
     "shell.execute_reply": "2024-09-04T15:54:24.758162Z"
    },
    "papermill": {
     "duration": 0.038283,
     "end_time": "2024-09-04T15:54:24.761752",
     "exception": false,
     "start_time": "2024-09-04T15:54:24.723469",
     "status": "completed"
    },
    "tags": []
   },
   "outputs": [
    {
     "data": {
      "text/plain": [
       "torch.Size([65536, 1, 39])"
      ]
     },
     "execution_count": 45,
     "metadata": {},
     "output_type": "execute_result"
    }
   ],
   "source": [
    "#G.edata['h'].shape\n",
    "G.ndata['h'].shape"
   ]
  },
  {
   "cell_type": "code",
   "execution_count": 46,
   "id": "0badce44",
   "metadata": {
    "execution": {
     "iopub.execute_input": "2024-09-04T15:54:24.816148Z",
     "iopub.status.busy": "2024-09-04T15:54:24.815696Z",
     "iopub.status.idle": "2024-09-04T15:54:24.822814Z",
     "shell.execute_reply": "2024-09-04T15:54:24.821683Z"
    },
    "papermill": {
     "duration": 0.037468,
     "end_time": "2024-09-04T15:54:24.825466",
     "exception": false,
     "start_time": "2024-09-04T15:54:24.787998",
     "status": "completed"
    },
    "tags": []
   },
   "outputs": [
    {
     "data": {
      "text/plain": [
       "device(type='cpu')"
      ]
     },
     "execution_count": 46,
     "metadata": {},
     "output_type": "execute_result"
    }
   ],
   "source": [
    "G.ndata['h'].device"
   ]
  },
  {
   "cell_type": "code",
   "execution_count": 47,
   "id": "30c93d78",
   "metadata": {
    "execution": {
     "iopub.execute_input": "2024-09-04T15:54:24.881585Z",
     "iopub.status.busy": "2024-09-04T15:54:24.880513Z",
     "iopub.status.idle": "2024-09-04T15:54:24.887954Z",
     "shell.execute_reply": "2024-09-04T15:54:24.886916Z"
    },
    "papermill": {
     "duration": 0.038565,
     "end_time": "2024-09-04T15:54:24.890598",
     "exception": false,
     "start_time": "2024-09-04T15:54:24.852033",
     "status": "completed"
    },
    "tags": []
   },
   "outputs": [
    {
     "data": {
      "text/plain": [
       "device(type='cpu')"
      ]
     },
     "execution_count": 47,
     "metadata": {},
     "output_type": "execute_result"
    }
   ],
   "source": [
    "G.edata['h'].device"
   ]
  },
  {
   "cell_type": "code",
   "execution_count": 48,
   "id": "6e9c4671",
   "metadata": {
    "execution": {
     "iopub.execute_input": "2024-09-04T15:54:24.945482Z",
     "iopub.status.busy": "2024-09-04T15:54:24.945077Z",
     "iopub.status.idle": "2024-09-04T15:54:24.957254Z",
     "shell.execute_reply": "2024-09-04T15:54:24.956044Z"
    },
    "papermill": {
     "duration": 0.042527,
     "end_time": "2024-09-04T15:54:24.959789",
     "exception": false,
     "start_time": "2024-09-04T15:54:24.917262",
     "status": "completed"
    },
    "tags": []
   },
   "outputs": [
    {
     "data": {
      "text/plain": [
       "array([1, 1, 1, ..., 1, 1, 1])"
      ]
     },
     "execution_count": 48,
     "metadata": {},
     "output_type": "execute_result"
    }
   ],
   "source": [
    "G.edata[label_col].cpu().numpy()"
   ]
  },
  {
   "cell_type": "code",
   "execution_count": 49,
   "id": "9d7c1735",
   "metadata": {
    "execution": {
     "iopub.execute_input": "2024-09-04T15:54:25.015078Z",
     "iopub.status.busy": "2024-09-04T15:54:25.014153Z",
     "iopub.status.idle": "2024-09-04T15:54:25.597723Z",
     "shell.execute_reply": "2024-09-04T15:54:25.596542Z"
    },
    "papermill": {
     "duration": 0.614233,
     "end_time": "2024-09-04T15:54:25.600613",
     "exception": false,
     "start_time": "2024-09-04T15:54:24.986380",
     "status": "completed"
    },
    "tags": []
   },
   "outputs": [],
   "source": [
    "from sklearn.utils import class_weight\n",
    "class_weights = class_weight.compute_class_weight('balanced',\n",
    "                                                 classes = np.unique(G.edata[label_col].cpu().numpy()),\n",
    "                                                 y = G.edata[label_col].cpu().numpy())"
   ]
  },
  {
   "cell_type": "code",
   "execution_count": 50,
   "id": "36e33a6b",
   "metadata": {
    "execution": {
     "iopub.execute_input": "2024-09-04T15:54:25.655129Z",
     "iopub.status.busy": "2024-09-04T15:54:25.654715Z",
     "iopub.status.idle": "2024-09-04T15:54:25.671183Z",
     "shell.execute_reply": "2024-09-04T15:54:25.669675Z"
    },
    "papermill": {
     "duration": 0.047076,
     "end_time": "2024-09-04T15:54:25.674135",
     "exception": false,
     "start_time": "2024-09-04T15:54:25.627059",
     "status": "completed"
    },
    "tags": []
   },
   "outputs": [],
   "source": [
    "# class_weights = th.FloatTensor(class_weights).cuda()\n",
    "class_weights = th.FloatTensor(class_weights)\n",
    "\n",
    "criterion = nn.CrossEntropyLoss(weight = class_weights)"
   ]
  },
  {
   "cell_type": "code",
   "execution_count": 51,
   "id": "eb09f658",
   "metadata": {
    "execution": {
     "iopub.execute_input": "2024-09-04T15:54:25.729104Z",
     "iopub.status.busy": "2024-09-04T15:54:25.728721Z",
     "iopub.status.idle": "2024-09-04T15:54:25.734560Z",
     "shell.execute_reply": "2024-09-04T15:54:25.733199Z"
    },
    "papermill": {
     "duration": 0.036059,
     "end_time": "2024-09-04T15:54:25.737079",
     "exception": false,
     "start_time": "2024-09-04T15:54:25.701020",
     "status": "completed"
    },
    "tags": []
   },
   "outputs": [],
   "source": [
    "def compute_accuracy(pred, labels):\n",
    "    return (pred.argmax(1) == labels).float().mean().item()"
   ]
  },
  {
   "cell_type": "code",
   "execution_count": 52,
   "id": "9d29ff75",
   "metadata": {
    "execution": {
     "iopub.execute_input": "2024-09-04T15:54:25.792949Z",
     "iopub.status.busy": "2024-09-04T15:54:25.791930Z",
     "iopub.status.idle": "2024-09-04T15:54:36.927725Z",
     "shell.execute_reply": "2024-09-04T15:54:36.926466Z"
    },
    "papermill": {
     "duration": 11.166528,
     "end_time": "2024-09-04T15:54:36.930528",
     "exception": false,
     "start_time": "2024-09-04T15:54:25.764000",
     "status": "completed"
    },
    "tags": []
   },
   "outputs": [
    {
     "name": "stdout",
     "output_type": "stream",
     "text": [
      "done\n"
     ]
    }
   ],
   "source": [
    "##Testing \n",
    "\n",
    "#edge_features=[]\n",
    "node_features = G.ndata['h']\n",
    "edge_features=G.edata['h']\n",
    "#edge_features = G.edata['h']\n",
    "#for node_idx in range (G.num_nodes()):\n",
    " #   neighbor_feats=extract_sampled_features(node_idx, s, G.edata['h'])\n",
    "  #  edge_features.append(neighbor_feats)\n",
    "#print(edges_features) \n",
    "print('done')\n",
    "edge_label = G.edata[label_col]\n",
    "train_mask = G.edata['train_mask']\n",
    "\n",
    "# model = Model(G.ndata['h'].shape[2], 128, G.ndata['h'].shape[2], F.relu, 0.2).cuda()\n",
    "model = Model(G.ndata['h'].shape[2], 128, G.ndata['h'].shape[2], F.relu, 0.2,4)\n",
    "opt = th.optim.Adam(model.parameters())\n",
    "#for epoch in range(1,100):\n",
    "pred = model(G, node_features,edge_features)\n",
    "loss = criterion(pred[train_mask] ,edge_label[train_mask])\n",
    "opt.zero_grad()\n",
    "loss.backward()\n",
    "opt.step()\n",
    "  #  print('Epoch:', epoch ,' Training acc:', compute_accuracy(pred[train_mask], edge_label[train_mask]))\n",
    "   # if epoch % 100 == 0:\n",
    "    #    print('Epoch:', epoch ,' Training acc:', compute_accuracy(pred[train_mask], edge_label[train_mask]))"
   ]
  },
  {
   "cell_type": "code",
   "execution_count": 53,
   "id": "193eda47",
   "metadata": {
    "execution": {
     "iopub.execute_input": "2024-09-04T15:54:36.988271Z",
     "iopub.status.busy": "2024-09-04T15:54:36.987454Z",
     "iopub.status.idle": "2024-09-04T15:54:36.992719Z",
     "shell.execute_reply": "2024-09-04T15:54:36.991493Z"
    },
    "papermill": {
     "duration": 0.03643,
     "end_time": "2024-09-04T15:54:36.995252",
     "exception": false,
     "start_time": "2024-09-04T15:54:36.958822",
     "status": "completed"
    },
    "tags": []
   },
   "outputs": [],
   "source": [
    "#device = torch.device('cuda' if torch.cuda.is_available() else 'cpu')\n",
    "#model = model.to(device)\n",
    "\n"
   ]
  },
  {
   "cell_type": "code",
   "execution_count": 54,
   "id": "e4426935",
   "metadata": {
    "execution": {
     "iopub.execute_input": "2024-09-04T15:54:37.051092Z",
     "iopub.status.busy": "2024-09-04T15:54:37.050680Z",
     "iopub.status.idle": "2024-09-04T16:09:37.281441Z",
     "shell.execute_reply": "2024-09-04T16:09:37.279556Z"
    },
    "papermill": {
     "duration": 900.26203,
     "end_time": "2024-09-04T16:09:37.284542",
     "exception": false,
     "start_time": "2024-09-04T15:54:37.022512",
     "status": "completed"
    },
    "tags": []
   },
   "outputs": [
    {
     "name": "stdout",
     "output_type": "stream",
     "text": [
      "Epoch: 1  Training acc: 0.8542513847351074\n",
      "Epoch: 2  Training acc: 0.9859519600868225\n",
      "Epoch: 3  Training acc: 0.9836809039115906\n",
      "Epoch: 4  Training acc: 0.9855795502662659\n",
      "Epoch: 5  Training acc: 0.9828656315803528\n",
      "Epoch: 6  Training acc: 0.9844407439231873\n",
      "Epoch: 7  Training acc: 0.9821419715881348\n",
      "Epoch: 8  Training acc: 0.9590364694595337\n",
      "Epoch: 9  Training acc: 0.9552832841873169\n",
      "Epoch: 10  Training acc: 0.9507858157157898\n",
      "Epoch: 11  Training acc: 0.9500640034675598\n",
      "Epoch: 12  Training acc: 0.9495051503181458\n",
      "Epoch: 13  Training acc: 0.9495183229446411\n",
      "Epoch: 14  Training acc: 0.9496065974235535\n",
      "Epoch: 15  Training acc: 0.9497869610786438\n",
      "Epoch: 16  Training acc: 0.9500429034233093\n",
      "Epoch: 17  Training acc: 0.9508886337280273\n",
      "Epoch: 18  Training acc: 0.9508510828018188\n",
      "Epoch: 19  Training acc: 0.9516165256500244\n",
      "Epoch: 20  Training acc: 0.9524735808372498\n",
      "Epoch: 21  Training acc: 0.9555664658546448\n",
      "Epoch: 22  Training acc: 0.9613239765167236\n",
      "Epoch: 23  Training acc: 0.9678431153297424\n",
      "Epoch: 24  Training acc: 0.9710313677787781\n",
      "Epoch: 25  Training acc: 0.9710355997085571\n",
      "Epoch: 26  Training acc: 0.9735832214355469\n",
      "Epoch: 27  Training acc: 0.9740275144577026\n",
      "Epoch: 28  Training acc: 0.9736391305923462\n",
      "Epoch: 29  Training acc: 0.9735353589057922\n",
      "Epoch: 30  Training acc: 0.9739777445793152\n",
      "Epoch: 31  Training acc: 0.974250078201294\n",
      "Epoch: 32  Training acc: 0.9744191765785217\n",
      "Epoch: 33  Training acc: 0.9748305678367615\n",
      "Epoch: 34  Training acc: 0.97420734167099\n",
      "Epoch: 35  Training acc: 0.9750155806541443\n",
      "Epoch: 36  Training acc: 0.9722988605499268\n",
      "Epoch: 37  Training acc: 0.9746454954147339\n",
      "Epoch: 38  Training acc: 0.9751578569412231\n",
      "Epoch: 39  Training acc: 0.9750798940658569\n",
      "Epoch: 40  Training acc: 0.9750131964683533\n",
      "Epoch: 41  Training acc: 0.973379909992218\n",
      "Epoch: 42  Training acc: 0.9750089645385742\n",
      "Epoch: 43  Training acc: 0.9749155640602112\n",
      "Epoch: 44  Training acc: 0.9750789403915405\n",
      "Epoch: 45  Training acc: 0.9755828380584717\n",
      "Epoch: 46  Training acc: 0.9753607511520386\n",
      "Epoch: 47  Training acc: 0.9751968383789062\n",
      "Epoch: 48  Training acc: 0.974745512008667\n",
      "Epoch: 49  Training acc: 0.9751456379890442\n",
      "Epoch: 50  Training acc: 0.9752320647239685\n",
      "Epoch: 51  Training acc: 0.975673496723175\n",
      "Epoch: 52  Training acc: 0.9755387306213379\n",
      "Epoch: 53  Training acc: 0.9750596880912781\n",
      "Epoch: 54  Training acc: 0.9731329083442688\n",
      "Epoch: 55  Training acc: 0.9751151204109192\n",
      "Epoch: 56  Training acc: 0.9754471182823181\n",
      "Epoch: 57  Training acc: 0.9756317138671875\n",
      "Epoch: 58  Training acc: 0.9755485653877258\n",
      "Epoch: 59  Training acc: 0.9751010537147522\n",
      "Epoch: 60  Training acc: 0.9739490747451782\n",
      "Epoch: 61  Training acc: 0.9752705693244934\n",
      "Epoch: 62  Training acc: 0.9755781888961792\n",
      "Epoch: 63  Training acc: 0.9758247137069702\n",
      "Epoch: 64  Training acc: 0.9751358032226562\n",
      "Epoch: 65  Training acc: 0.9745074510574341\n",
      "Epoch: 66  Training acc: 0.9751855731010437\n",
      "Epoch: 67  Training acc: 0.9754964709281921\n",
      "Epoch: 68  Training acc: 0.974898636341095\n",
      "Epoch: 69  Training acc: 0.975857138633728\n",
      "Epoch: 70  Training acc: 0.9758655428886414\n",
      "Epoch: 71  Training acc: 0.9751850962638855\n",
      "Epoch: 72  Training acc: 0.9751808643341064\n",
      "Epoch: 73  Training acc: 0.9749629497528076\n",
      "Epoch: 74  Training acc: 0.9752071499824524\n",
      "Epoch: 75  Training acc: 0.9756504893302917\n",
      "Epoch: 76  Training acc: 0.9757434725761414\n",
      "Epoch: 77  Training acc: 0.9758307933807373\n",
      "Epoch: 78  Training acc: 0.9754137992858887\n",
      "Epoch: 79  Training acc: 0.9751231074333191\n",
      "Epoch: 80  Training acc: 0.9751846194267273\n",
      "Epoch: 81  Training acc: 0.9753870368003845\n",
      "Epoch: 82  Training acc: 0.9760529398918152\n",
      "Epoch: 83  Training acc: 0.9756025671958923\n",
      "Epoch: 84  Training acc: 0.9753968715667725\n",
      "Epoch: 85  Training acc: 0.9749183654785156\n",
      "Epoch: 86  Training acc: 0.9752362966537476\n",
      "Epoch: 87  Training acc: 0.9756152629852295\n",
      "Epoch: 88  Training acc: 0.9761219620704651\n",
      "Epoch: 89  Training acc: 0.9758679270744324\n",
      "Epoch: 90  Training acc: 0.9754743576049805\n",
      "Epoch: 91  Training acc: 0.9747676253318787\n",
      "Epoch: 92  Training acc: 0.9752339124679565\n",
      "Epoch: 93  Training acc: 0.9755302667617798\n",
      "Epoch: 94  Training acc: 0.9758927822113037\n",
      "Epoch: 95  Training acc: 0.9755819439888\n",
      "Epoch: 96  Training acc: 0.974284827709198\n",
      "Epoch: 97  Training acc: 0.975866973400116\n",
      "Epoch: 98  Training acc: 0.9758172035217285\n",
      "Epoch: 99  Training acc: 0.975620448589325\n"
     ]
    }
   ],
   "source": [
    "node_features = G.ndata['h']\n",
    "edge_features = G.edata['h']\n",
    "\n",
    "edge_label = G.edata[label_col]\n",
    "train_mask = G.edata['train_mask']\n",
    "learning_rate = 0.001\n",
    "# model = Model(G.ndata['h'].shape[2], 128, G.ndata['h'].shape[2], F.relu, 0.2).cuda()\n",
    "model = Model(G.ndata['h'].shape[2], 128, G.ndata['h'].shape[2], F.relu, 0.2,4)\n",
    "opt = th.optim.Adam(model.parameters(),lr=learning_rate)\n",
    "\n",
    "\n",
    "for epoch in range(1,100):\n",
    "#     pred = model(G, node_features,edge_features).cuda()\n",
    "    pred = model(G, node_features,edge_features)\n",
    "    loss = criterion(pred[train_mask] ,edge_label[train_mask])\n",
    "    opt.zero_grad()\n",
    "    loss.backward()\n",
    "    opt.step()\n",
    "    print('Epoch:', epoch ,' Training acc:', compute_accuracy(pred[train_mask], edge_label[train_mask]))\n",
    "    if epoch % 100 == 0:\n",
    "        print('Epoch:', epoch ,' Training acc:', compute_accuracy(pred[train_mask], edge_label[train_mask]))"
   ]
  },
  {
   "cell_type": "code",
   "execution_count": 55,
   "id": "5d473264",
   "metadata": {
    "execution": {
     "iopub.execute_input": "2024-09-04T16:09:37.366638Z",
     "iopub.status.busy": "2024-09-04T16:09:37.366098Z",
     "iopub.status.idle": "2024-09-04T16:09:37.758651Z",
     "shell.execute_reply": "2024-09-04T16:09:37.757366Z"
    },
    "papermill": {
     "duration": 0.438929,
     "end_time": "2024-09-04T16:09:37.761527",
     "exception": false,
     "start_time": "2024-09-04T16:09:37.322598",
     "status": "completed"
    },
    "tags": []
   },
   "outputs": [],
   "source": [
    "X_test[cols_to_norm] = scaler.transform(X_test[cols_to_norm])"
   ]
  },
  {
   "cell_type": "code",
   "execution_count": 56,
   "id": "39dde174",
   "metadata": {
    "execution": {
     "iopub.execute_input": "2024-09-04T16:09:37.836645Z",
     "iopub.status.busy": "2024-09-04T16:09:37.836160Z",
     "iopub.status.idle": "2024-09-04T16:09:41.154326Z",
     "shell.execute_reply": "2024-09-04T16:09:41.152721Z"
    },
    "papermill": {
     "duration": 3.358885,
     "end_time": "2024-09-04T16:09:41.157344",
     "exception": false,
     "start_time": "2024-09-04T16:09:37.798459",
     "status": "completed"
    },
    "tags": []
   },
   "outputs": [],
   "source": [
    "X_test['h'] = X_test[ cols_to_norm ].values.tolist()"
   ]
  },
  {
   "cell_type": "code",
   "execution_count": 57,
   "id": "1aacc16e",
   "metadata": {
    "execution": {
     "iopub.execute_input": "2024-09-04T16:09:41.231525Z",
     "iopub.status.busy": "2024-09-04T16:09:41.231019Z",
     "iopub.status.idle": "2024-09-04T16:10:41.935034Z",
     "shell.execute_reply": "2024-09-04T16:10:41.933678Z"
    },
    "papermill": {
     "duration": 60.744437,
     "end_time": "2024-09-04T16:10:41.938140",
     "exception": false,
     "start_time": "2024-09-04T16:09:41.193703",
     "status": "completed"
    },
    "tags": []
   },
   "outputs": [],
   "source": [
    "if name == 'nf-bot-iot' or name == 'nf-cse-cic-ids2018' or name == 'nf-uq-nids' or name=='nf-bot-iotv2':\n",
    "    G_test= nx.from_pandas_edgelist(X_test, src_port_col, dst_port_col, ['h',label_col],create_using=nx.MultiDiGraph())\n",
    "if name == 'x-iiot' or name == 'cic-ids-2017' or name == 'cic-ton-iot' or name == 'edge-iiot' or name=='cic-ton-iot-modified' or name=='ccd-inid-modified' or  name=='nf-ton-iotv2-modified' or name =='nf-uq-nids-modified':\n",
    "    G_test = nx.from_pandas_edgelist(X_test, src_ip_col, dst_ip_col, ['h',label_col],create_using=nx.MultiDiGraph())\n",
    "\n",
    "# G_test = G_test.to_directed()\n",
    "G_test = from_networkx(G_test,edge_attrs=['h',label_col] )\n",
    "actual = G_test.edata.pop(label_col)\n",
    "G_test.ndata['feature'] = th.ones(G_test.num_nodes(),G.ndata['h'].shape[2])"
   ]
  },
  {
   "cell_type": "code",
   "execution_count": 58,
   "id": "6268c075",
   "metadata": {
    "execution": {
     "iopub.execute_input": "2024-09-04T16:10:42.015931Z",
     "iopub.status.busy": "2024-09-04T16:10:42.015518Z",
     "iopub.status.idle": "2024-09-04T16:10:42.023669Z",
     "shell.execute_reply": "2024-09-04T16:10:42.022521Z"
    },
    "papermill": {
     "duration": 0.04943,
     "end_time": "2024-09-04T16:10:42.026185",
     "exception": false,
     "start_time": "2024-09-04T16:10:41.976755",
     "status": "completed"
    },
    "tags": []
   },
   "outputs": [],
   "source": [
    "G_test.ndata['feature'] = th.reshape(G_test.ndata['feature'], (G_test.ndata['feature'].shape[0], 1, G_test.ndata['feature'].shape[1]))\n",
    "G_test.edata['h'] = th.reshape(G_test.edata['h'], (G_test.edata['h'].shape[0], 1, G_test.edata['h'].shape[1]))"
   ]
  },
  {
   "cell_type": "code",
   "execution_count": 59,
   "id": "3dea4721",
   "metadata": {
    "execution": {
     "iopub.execute_input": "2024-09-04T16:10:42.101011Z",
     "iopub.status.busy": "2024-09-04T16:10:42.100618Z",
     "iopub.status.idle": "2024-09-04T16:10:42.105622Z",
     "shell.execute_reply": "2024-09-04T16:10:42.104388Z"
    },
    "papermill": {
     "duration": 0.045196,
     "end_time": "2024-09-04T16:10:42.108130",
     "exception": false,
     "start_time": "2024-09-04T16:10:42.062934",
     "status": "completed"
    },
    "tags": []
   },
   "outputs": [],
   "source": [
    "# G_test = G_test.to('cuda:0')"
   ]
  },
  {
   "cell_type": "code",
   "execution_count": 60,
   "id": "07b5078a",
   "metadata": {
    "execution": {
     "iopub.execute_input": "2024-09-04T16:10:42.182241Z",
     "iopub.status.busy": "2024-09-04T16:10:42.181824Z",
     "iopub.status.idle": "2024-09-04T16:10:43.532055Z",
     "shell.execute_reply": "2024-09-04T16:10:43.530881Z"
    },
    "papermill": {
     "duration": 1.391124,
     "end_time": "2024-09-04T16:10:43.535028",
     "exception": false,
     "start_time": "2024-09-04T16:10:42.143904",
     "status": "completed"
    },
    "tags": []
   },
   "outputs": [],
   "source": [
    "import timeit\n",
    "start_time = timeit.default_timer()\n",
    "node_features_test = G_test.ndata['feature']\n",
    "edge_features_test = G_test.edata['h']\n",
    "# test_pred = model(G_test, node_features_test, edge_features_test).cuda()\n",
    "test_pred = model(G_test, node_features_test, edge_features_test)\n",
    "elapsed = timeit.default_timer() - start_time"
   ]
  },
  {
   "cell_type": "code",
   "execution_count": 61,
   "id": "2570c5a3",
   "metadata": {
    "execution": {
     "iopub.execute_input": "2024-09-04T16:10:43.609188Z",
     "iopub.status.busy": "2024-09-04T16:10:43.608756Z",
     "iopub.status.idle": "2024-09-04T16:10:43.614492Z",
     "shell.execute_reply": "2024-09-04T16:10:43.613352Z"
    },
    "papermill": {
     "duration": 0.046087,
     "end_time": "2024-09-04T16:10:43.617400",
     "exception": false,
     "start_time": "2024-09-04T16:10:43.571313",
     "status": "completed"
    },
    "tags": []
   },
   "outputs": [
    {
     "name": "stdout",
     "output_type": "stream",
     "text": [
      "1.3443075700001827 seconds\n"
     ]
    }
   ],
   "source": [
    "print(str(elapsed) + ' seconds')"
   ]
  },
  {
   "cell_type": "code",
   "execution_count": 62,
   "id": "53b4c85d",
   "metadata": {
    "execution": {
     "iopub.execute_input": "2024-09-04T16:10:43.692852Z",
     "iopub.status.busy": "2024-09-04T16:10:43.692425Z",
     "iopub.status.idle": "2024-09-04T16:10:43.788947Z",
     "shell.execute_reply": "2024-09-04T16:10:43.787434Z"
    },
    "papermill": {
     "duration": 0.137863,
     "end_time": "2024-09-04T16:10:43.792007",
     "exception": false,
     "start_time": "2024-09-04T16:10:43.654144",
     "status": "completed"
    },
    "tags": []
   },
   "outputs": [],
   "source": [
    "test_pred = test_pred.argmax(1)\n",
    "test_pred = th.Tensor.cpu(test_pred).detach().numpy()\n"
   ]
  },
  {
   "cell_type": "code",
   "execution_count": 63,
   "id": "8a0e17e5",
   "metadata": {
    "execution": {
     "iopub.execute_input": "2024-09-04T16:10:43.868373Z",
     "iopub.status.busy": "2024-09-04T16:10:43.867915Z",
     "iopub.status.idle": "2024-09-04T16:10:50.171178Z",
     "shell.execute_reply": "2024-09-04T16:10:50.170145Z"
    },
    "papermill": {
     "duration": 6.345029,
     "end_time": "2024-09-04T16:10:50.174023",
     "exception": false,
     "start_time": "2024-09-04T16:10:43.828994",
     "status": "completed"
    },
    "tags": []
   },
   "outputs": [],
   "source": [
    "actual = [\"Normal\" if i == 0 else \"Attack\" for i in actual]\n",
    "test_pred = [\"Normal\" if i == 0 else \"Attack\" for i in test_pred]"
   ]
  },
  {
   "cell_type": "code",
   "execution_count": 64,
   "id": "62eddebc",
   "metadata": {
    "execution": {
     "iopub.execute_input": "2024-09-04T16:10:50.249489Z",
     "iopub.status.busy": "2024-09-04T16:10:50.248964Z",
     "iopub.status.idle": "2024-09-04T16:10:50.271604Z",
     "shell.execute_reply": "2024-09-04T16:10:50.270161Z"
    },
    "papermill": {
     "duration": 0.063751,
     "end_time": "2024-09-04T16:10:50.274227",
     "exception": false,
     "start_time": "2024-09-04T16:10:50.210476",
     "status": "completed"
    },
    "tags": []
   },
   "outputs": [],
   "source": [
    "\n",
    "def plot_confusion_matrix(cm,\n",
    "                          target_names,\n",
    "                          title='Confusion matrix',\n",
    "                          cmap=None,\n",
    "                          normalize=True):\n",
    "    \n",
    "    import matplotlib.pyplot as plt\n",
    "    import numpy as np\n",
    "    import itertools\n",
    "\n",
    "    accuracy = np.trace(cm) / float(np.sum(cm))\n",
    "    misclass = 1 - accuracy\n",
    "\n",
    "    if cmap is None:\n",
    "        cmap = plt.get_cmap('Blues')\n",
    "\n",
    "    plt.figure(figsize=(12, 12))\n",
    "    plt.imshow(cm, interpolation='nearest', cmap=cmap)\n",
    "    plt.title(title)\n",
    "    plt.colorbar()\n",
    "\n",
    "    if target_names is not None:\n",
    "        tick_marks = np.arange(len(target_names))\n",
    "        plt.xticks(tick_marks, target_names, rotation=45)\n",
    "        plt.yticks(tick_marks, target_names)\n",
    "\n",
    "    if normalize:\n",
    "        cm = cm.astype('float') / cm.sum(axis=1)[:, np.newaxis]\n",
    "\n",
    "\n",
    "    thresh = cm.max() / 1.5 if normalize else cm.max() / 2\n",
    "    for i, j in itertools.product(range(cm.shape[0]), range(cm.shape[1])):\n",
    "        if normalize:\n",
    "            plt.text(j, i, \"{:0.4f}\".format(cm[i, j]),\n",
    "                     horizontalalignment=\"center\",\n",
    "                     color=\"white\" if cm[i, j] > thresh else \"black\")\n",
    "        else:\n",
    "            plt.text(j, i, \"{:,}\".format(cm[i, j]),\n",
    "                     horizontalalignment=\"center\",\n",
    "                     color=\"white\" if cm[i, j] > thresh else \"black\")\n",
    "\n",
    "\n",
    "    plt.tight_layout()\n",
    "    plt.ylabel('True label')\n",
    "    plt.xlabel('Predicted label\\naccuracy={:0.4f}; misclass={:0.4f}'.format(accuracy, misclass))\n",
    "    plt.show()"
   ]
  },
  {
   "cell_type": "code",
   "execution_count": 65,
   "id": "dd539574",
   "metadata": {
    "execution": {
     "iopub.execute_input": "2024-09-04T16:10:50.348656Z",
     "iopub.status.busy": "2024-09-04T16:10:50.348196Z",
     "iopub.status.idle": "2024-09-04T16:10:55.731536Z",
     "shell.execute_reply": "2024-09-04T16:10:55.730444Z"
    },
    "papermill": {
     "duration": 5.424223,
     "end_time": "2024-09-04T16:10:55.734590",
     "exception": false,
     "start_time": "2024-09-04T16:10:50.310367",
     "status": "completed"
    },
    "tags": []
   },
   "outputs": [
    {
     "data": {
      "image/png": "[encoded data removed]",
      "text/plain": [
       "<Figure size 1200x1200 with 2 Axes>"
      ]
     },
     "metadata": {},
     "output_type": "display_data"
    }
   ],
   "source": [
    "plot_confusion_matrix(cm = confusion_matrix(actual, test_pred), \n",
    "                      normalize    = False,\n",
    "                      target_names = np.unique(actual),\n",
    "                      title        = \"Confusion Matrix\")"
   ]
  },
  {
   "cell_type": "code",
   "execution_count": 66,
   "id": "047c92b2",
   "metadata": {
    "execution": {
     "iopub.execute_input": "2024-09-04T16:10:55.811246Z",
     "iopub.status.busy": "2024-09-04T16:10:55.810834Z",
     "iopub.status.idle": "2024-09-04T16:11:13.419662Z",
     "shell.execute_reply": "2024-09-04T16:11:13.417670Z"
    },
    "papermill": {
     "duration": 17.650263,
     "end_time": "2024-09-04T16:11:13.422454",
     "exception": false,
     "start_time": "2024-09-04T16:10:55.772191",
     "status": "completed"
    },
    "tags": []
   },
   "outputs": [
    {
     "name": "stdout",
     "output_type": "stream",
     "text": [
      "              precision    recall  f1-score   support\n",
      "\n",
      "      Attack     0.9999    0.9751    0.9873    908747\n",
      "      Normal     0.1433    0.9831    0.2501      3856\n",
      "\n",
      "    accuracy                         0.9751    912603\n",
      "   macro avg     0.5716    0.9791    0.6187    912603\n",
      "weighted avg     0.9963    0.9751    0.9842    912603\n",
      "\n"
     ]
    }
   ],
   "source": [
    "print(classification_report(actual, test_pred, digits=4))"
   ]
  },
  {
   "cell_type": "code",
   "execution_count": 67,
   "id": "fa0580f1",
   "metadata": {
    "execution": {
     "iopub.execute_input": "2024-09-04T16:11:13.498433Z",
     "iopub.status.busy": "2024-09-04T16:11:13.497983Z",
     "iopub.status.idle": "2024-09-04T16:11:13.504444Z",
     "shell.execute_reply": "2024-09-04T16:11:13.503133Z"
    },
    "papermill": {
     "duration": 0.047431,
     "end_time": "2024-09-04T16:11:13.507070",
     "exception": false,
     "start_time": "2024-09-04T16:11:13.459639",
     "status": "completed"
    },
    "tags": []
   },
   "outputs": [
    {
     "name": "stdout",
     "output_type": "stream",
     "text": [
      "True\n"
     ]
    }
   ],
   "source": [
    "print(residual)"
   ]
  },
  {
   "cell_type": "code",
   "execution_count": 68,
   "id": "02335c20",
   "metadata": {
    "execution": {
     "iopub.execute_input": "2024-09-04T16:11:13.583659Z",
     "iopub.status.busy": "2024-09-04T16:11:13.582761Z",
     "iopub.status.idle": "2024-09-04T16:11:13.587579Z",
     "shell.execute_reply": "2024-09-04T16:11:13.586460Z"
    },
    "papermill": {
     "duration": 0.045658,
     "end_time": "2024-09-04T16:11:13.590003",
     "exception": false,
     "start_time": "2024-09-04T16:11:13.544345",
     "status": "completed"
    },
    "tags": []
   },
   "outputs": [],
   "source": [
    "# th.save(model.state_dict(), 'ton-iot.binary.pt')"
   ]
  },
  {
   "cell_type": "code",
   "execution_count": 69,
   "id": "325ad87a",
   "metadata": {
    "execution": {
     "iopub.execute_input": "2024-09-04T16:11:13.666362Z",
     "iopub.status.busy": "2024-09-04T16:11:13.665527Z",
     "iopub.status.idle": "2024-09-04T16:11:13.671098Z",
     "shell.execute_reply": "2024-09-04T16:11:13.669774Z"
    },
    "papermill": {
     "duration": 0.046605,
     "end_time": "2024-09-04T16:11:13.673576",
     "exception": false,
     "start_time": "2024-09-04T16:11:13.626971",
     "status": "completed"
    },
    "tags": []
   },
   "outputs": [],
   "source": [
    "# from sklearn.metrics import \n",
    "# print(classification_report(actual, test_pred, digits=2))"
   ]
  }
 ],
 "metadata": {
  "kaggle": {
   "accelerator": "none",
   "dataSources": [
    {
     "datasetId": 1870444,
     "sourceId": 3319673,
     "sourceType": "datasetVersion"
    },
    {
     "datasetId": 2767978,
     "sourceId": 4848434,
     "sourceType": "datasetVersion"
    },
    {
     "datasetId": 2810623,
     "sourceId": 4850717,
     "sourceType": "datasetVersion"
    },
    {
     "datasetId": 4775527,
     "sourceId": 8089281,
     "sourceType": "datasetVersion"
    },
    {
     "datasetId": 5308063,
     "sourceId": 8823056,
     "sourceType": "datasetVersion"
    },
    {
     "datasetId": 5406681,
     "sourceId": 8978972,
     "sourceType": "datasetVersion"
    },
    {
     "datasetId": 5425392,
     "sourceId": 9005647,
     "sourceType": "datasetVersion"
    },
    {
     "datasetId": 5427865,
     "sourceId": 9009253,
     "sourceType": "datasetVersion"
    },
    {
     "datasetId": 5590856,
     "sourceId": 9242384,
     "sourceType": "datasetVersion"
    },
    {
     "datasetId": 5627392,
     "sourceId": 9294822,
     "sourceType": "datasetVersion"
    },
    {
     "datasetId": 5627500,
     "sourceId": 9294965,
     "sourceType": "datasetVersion"
    },
    {
     "datasetId": 5627555,
     "sourceId": 9295042,
     "sourceType": "datasetVersion"
    },
    {
     "datasetId": 5627560,
     "sourceId": 9295050,
     "sourceType": "datasetVersion"
    },
    {
     "sourceId": 116374876,
     "sourceType": "kernelVersion"
    }
   ],
   "dockerImageVersionId": 30746,
   "isGpuEnabled": false,
   "isInternetEnabled": true,
   "language": "python",
   "sourceType": "notebook"
  },
  "kernelspec": {
   "display_name": "Python 3",
   "language": "python",
   "name": "python3"
  },
  "language_info": {
   "codemirror_mode": {
    "name": "ipython",
    "version": 3
   },
   "file_extension": ".py",
   "mimetype": "text/x-python",
   "name": "python",
   "nbconvert_exporter": "python",
   "pygments_lexer": "ipython3",
   "version": "3.10.13"
  },
  "papermill": {
   "default_parameters": {},
   "duration": 1225.296183,
   "end_time": "2024-09-04T16:11:16.838183",
   "environment_variables": {},
   "exception": null,
   "input_path": "__notebook__.ipynb",
   "output_path": "__notebook__.ipynb",
   "parameters": {},
   "start_time": "2024-09-04T15:50:51.542000",
   "version": "2.5.0"
  }
 },
 "nbformat": 4,
 "nbformat_minor": 5
}
