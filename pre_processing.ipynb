{
 "cells": [
  {
   "cell_type": "code",
   "execution_count": 1,
   "id": "84cb9753-9962-4cfa-b78f-ed13216e3cc7",
   "metadata": {},
   "outputs": [],
   "source": [
    "import os\n",
    "import pandas as pd\n",
    "import pickle\n",
    "import json\n",
    "\n",
    "\n",
    "from src.dataset.dataset_info import datasets\n",
    "from src.dataset.clean_dataset import clean_dataset\n",
    "from src.dataset.create_class_num_col import one_dataset_class_num_col\n",
    "from src.dataset.features_analysis import feature_analysis_pipeline\n",
    "from src.dataset.undersample_classes import undersample_classes\n",
    "from src.graph.graph_measures import calculate_graph_measures\n",
    "from local_variables import datasets_main_path\n"
   ]
  },
  {
   "cell_type": "code",
   "execution_count": 2,
   "id": "c1c96f32",
   "metadata": {},
   "outputs": [
    {
     "name": "stdout",
     "output_type": "stream",
     "text": [
      "datasets\\cic_ton_iot\n",
      "datasets\\cic_ton_iot\\cic_ton_iot.parquet\n"
     ]
    }
   ],
   "source": [
    "with_sort_timestamp = False\n",
    "with_undersample_classes = False\n",
    "\n",
    "# name = \"cic_ids_2017_5_percent\"\n",
    "# original_path = \"./testing_dfs/cic_ids_2017_5_percent.parquet\"\n",
    "# file_type = \"parquet\"\n",
    "\n",
    "# name = \"cic_ton_iot_5_percent\"\n",
    "# original_path = \"./testing_dfs/cic_ton_iot_5_percent.parquet\"\n",
    "# file_type = \"parquet\"\n",
    "\n",
    "name = \"cic_ton_iot\"\n",
    "original_path = datasets_main_path + \"cic_ton_iot.parquet\"\n",
    "file_type = \"parquet\"\n",
    "\n",
    "# name = \"cic_ids_2017\"\n",
    "# original_path = datasets_main_path + \"cic_ids_2017.parquet\"\n",
    "# file_type = \"parquet\"\n",
    "\n",
    "# name = \"nf_bot_iot\"\n",
    "\n",
    "# name = \"edge_iiot\"\n",
    "# name = \"nf_cse_cic_ids2018\"\n",
    "# name = \"nf_bot_iotv2\"\n",
    "# name = \"nf_uq_nids\"\n",
    "# name = \"x_iiot\"\n",
    "# name = \"cic_ton_iot_modified\"\n",
    "# name = \"nf_ton_iotv2_modified\"\n",
    "# name = \"ccd_inid_modified\"\n",
    "# name = \"nf_uq_nids_modified\"\n",
    "\n",
    "folder_path = os.path.join(\"datasets\", name)\n",
    "output_path = os.path.join(folder_path, name + \".parquet\")\n",
    "\n",
    "if not os.path.isdir(folder_path):\n",
    "    os.mkdir(folder_path)\n",
    "\n",
    "print(folder_path)\n",
    "print(output_path)"
   ]
  },
  {
   "attachments": {},
   "cell_type": "markdown",
   "id": "b7ca3130",
   "metadata": {},
   "source": [
    "# Preparing Datasets"
   ]
  },
  {
   "attachments": {},
   "cell_type": "markdown",
   "id": "43cecea5",
   "metadata": {},
   "source": [
    "### Reading and Cleaning"
   ]
  },
  {
   "cell_type": "code",
   "execution_count": 3,
   "id": "6e8e652c-7d74-47a3-9faa-7da0f290d90f",
   "metadata": {},
   "outputs": [],
   "source": [
    "if file_type == \"parquet\":\n",
    "    df = pd.read_parquet(original_path)\n",
    "if file_type == \"csv\":\n",
    "    df = pd.read_csv(original_path)\n",
    "if file_type == \"pkl\":\n",
    "    df = pd.read_pickle(original_path)"
   ]
  },
  {
   "cell_type": "code",
   "execution_count": 4,
   "id": "9b40b434",
   "metadata": {},
   "outputs": [
    {
     "data": {
      "text/html": [
       "<div>\n",
       "<style scoped>\n",
       "    .dataframe tbody tr th:only-of-type {\n",
       "        vertical-align: middle;\n",
       "    }\n",
       "\n",
       "    .dataframe tbody tr th {\n",
       "        vertical-align: top;\n",
       "    }\n",
       "\n",
       "    .dataframe thead th {\n",
       "        text-align: right;\n",
       "    }\n",
       "</style>\n",
       "<table border=\"1\" class=\"dataframe\">\n",
       "  <thead>\n",
       "    <tr style=\"text-align: right;\">\n",
       "      <th></th>\n",
       "      <th>Flow ID</th>\n",
       "      <th>Src IP</th>\n",
       "      <th>Src Port</th>\n",
       "      <th>Dst IP</th>\n",
       "      <th>Dst Port</th>\n",
       "      <th>Protocol</th>\n",
       "      <th>Timestamp</th>\n",
       "      <th>Flow Duration</th>\n",
       "      <th>Tot Fwd Pkts</th>\n",
       "      <th>Tot Bwd Pkts</th>\n",
       "      <th>...</th>\n",
       "      <th>Active Mean</th>\n",
       "      <th>Active Std</th>\n",
       "      <th>Active Max</th>\n",
       "      <th>Active Min</th>\n",
       "      <th>Idle Mean</th>\n",
       "      <th>Idle Std</th>\n",
       "      <th>Idle Max</th>\n",
       "      <th>Idle Min</th>\n",
       "      <th>Label</th>\n",
       "      <th>Attack</th>\n",
       "    </tr>\n",
       "  </thead>\n",
       "  <tbody>\n",
       "    <tr>\n",
       "      <th>0</th>\n",
       "      <td>177.30.87.144-192.168.1.1-0-0-0</td>\n",
       "      <td>177.30.87.144</td>\n",
       "      <td>0.0</td>\n",
       "      <td>192.168.1.1</td>\n",
       "      <td>0.0</td>\n",
       "      <td>0.0</td>\n",
       "      <td>25/04/2019 05:18:52 pm</td>\n",
       "      <td>47814343.0</td>\n",
       "      <td>5.0</td>\n",
       "      <td>0.0</td>\n",
       "      <td>...</td>\n",
       "      <td>1038036.0</td>\n",
       "      <td>0.000000e+00</td>\n",
       "      <td>1038036.0</td>\n",
       "      <td>1038036.0</td>\n",
       "      <td>5.187256e+14</td>\n",
       "      <td>8.984590e+14</td>\n",
       "      <td>1.556177e+15</td>\n",
       "      <td>1.657324e+07</td>\n",
       "      <td>0</td>\n",
       "      <td>Benign</td>\n",
       "    </tr>\n",
       "    <tr>\n",
       "      <th>1</th>\n",
       "      <td>167.49.176.28-50.165.192.168-0-0-0</td>\n",
       "      <td>167.49.176.28</td>\n",
       "      <td>0.0</td>\n",
       "      <td>50.165.192.168</td>\n",
       "      <td>0.0</td>\n",
       "      <td>0.0</td>\n",
       "      <td>25/04/2019 05:18:49 pm</td>\n",
       "      <td>2033142.0</td>\n",
       "      <td>2.0</td>\n",
       "      <td>0.0</td>\n",
       "      <td>...</td>\n",
       "      <td>0.0</td>\n",
       "      <td>0.000000e+00</td>\n",
       "      <td>0.0</td>\n",
       "      <td>0.0</td>\n",
       "      <td>1.556177e+15</td>\n",
       "      <td>0.000000e+00</td>\n",
       "      <td>1.556177e+15</td>\n",
       "      <td>1.556177e+15</td>\n",
       "      <td>0</td>\n",
       "      <td>Benign</td>\n",
       "    </tr>\n",
       "    <tr>\n",
       "      <th>2</th>\n",
       "      <td>230.158.52.59-177.21.192.168-0-0-0</td>\n",
       "      <td>230.158.52.59</td>\n",
       "      <td>0.0</td>\n",
       "      <td>177.21.192.168</td>\n",
       "      <td>0.0</td>\n",
       "      <td>0.0</td>\n",
       "      <td>25/04/2019 05:18:37 pm</td>\n",
       "      <td>82877133.0</td>\n",
       "      <td>14.0</td>\n",
       "      <td>0.0</td>\n",
       "      <td>...</td>\n",
       "      <td>1931160.5</td>\n",
       "      <td>1.711593e+06</td>\n",
       "      <td>3942470.0</td>\n",
       "      <td>226402.0</td>\n",
       "      <td>1.729085e+14</td>\n",
       "      <td>5.187256e+14</td>\n",
       "      <td>1.556177e+15</td>\n",
       "      <td>6.036493e+06</td>\n",
       "      <td>0</td>\n",
       "      <td>Benign</td>\n",
       "    </tr>\n",
       "    <tr>\n",
       "      <th>3</th>\n",
       "      <td>183.68.192.168-1.1.192.168-0-0-0</td>\n",
       "      <td>183.68.192.168</td>\n",
       "      <td>0.0</td>\n",
       "      <td>1.1.192.168</td>\n",
       "      <td>0.0</td>\n",
       "      <td>0.0</td>\n",
       "      <td>25/04/2019 05:18:42 pm</td>\n",
       "      <td>24359.0</td>\n",
       "      <td>2.0</td>\n",
       "      <td>0.0</td>\n",
       "      <td>...</td>\n",
       "      <td>0.0</td>\n",
       "      <td>0.000000e+00</td>\n",
       "      <td>0.0</td>\n",
       "      <td>0.0</td>\n",
       "      <td>1.556177e+15</td>\n",
       "      <td>0.000000e+00</td>\n",
       "      <td>1.556177e+15</td>\n",
       "      <td>1.556177e+15</td>\n",
       "      <td>0</td>\n",
       "      <td>Benign</td>\n",
       "    </tr>\n",
       "    <tr>\n",
       "      <th>4</th>\n",
       "      <td>183.41.192.168-1.1.192.168-0-0-0</td>\n",
       "      <td>183.41.192.168</td>\n",
       "      <td>0.0</td>\n",
       "      <td>1.1.192.168</td>\n",
       "      <td>0.0</td>\n",
       "      <td>0.0</td>\n",
       "      <td>25/04/2019 05:18:42 pm</td>\n",
       "      <td>10239351.0</td>\n",
       "      <td>3.0</td>\n",
       "      <td>0.0</td>\n",
       "      <td>...</td>\n",
       "      <td>4053975.0</td>\n",
       "      <td>0.000000e+00</td>\n",
       "      <td>4053975.0</td>\n",
       "      <td>4053975.0</td>\n",
       "      <td>7.780884e+14</td>\n",
       "      <td>1.100383e+15</td>\n",
       "      <td>1.556177e+15</td>\n",
       "      <td>6.185376e+06</td>\n",
       "      <td>0</td>\n",
       "      <td>Benign</td>\n",
       "    </tr>\n",
       "  </tbody>\n",
       "</table>\n",
       "<p>5 rows × 84 columns</p>\n",
       "</div>"
      ],
      "text/plain": [
       "                              Flow ID          Src IP  Src Port  \\\n",
       "0     177.30.87.144-192.168.1.1-0-0-0   177.30.87.144       0.0   \n",
       "1  167.49.176.28-50.165.192.168-0-0-0   167.49.176.28       0.0   \n",
       "2  230.158.52.59-177.21.192.168-0-0-0   230.158.52.59       0.0   \n",
       "3    183.68.192.168-1.1.192.168-0-0-0  183.68.192.168       0.0   \n",
       "4    183.41.192.168-1.1.192.168-0-0-0  183.41.192.168       0.0   \n",
       "\n",
       "           Dst IP  Dst Port  Protocol               Timestamp  Flow Duration  \\\n",
       "0     192.168.1.1       0.0       0.0  25/04/2019 05:18:52 pm     47814343.0   \n",
       "1  50.165.192.168       0.0       0.0  25/04/2019 05:18:49 pm      2033142.0   \n",
       "2  177.21.192.168       0.0       0.0  25/04/2019 05:18:37 pm     82877133.0   \n",
       "3     1.1.192.168       0.0       0.0  25/04/2019 05:18:42 pm        24359.0   \n",
       "4     1.1.192.168       0.0       0.0  25/04/2019 05:18:42 pm     10239351.0   \n",
       "\n",
       "   Tot Fwd Pkts  Tot Bwd Pkts  ...  Active Mean    Active Std  Active Max  \\\n",
       "0           5.0           0.0  ...    1038036.0  0.000000e+00   1038036.0   \n",
       "1           2.0           0.0  ...          0.0  0.000000e+00         0.0   \n",
       "2          14.0           0.0  ...    1931160.5  1.711593e+06   3942470.0   \n",
       "3           2.0           0.0  ...          0.0  0.000000e+00         0.0   \n",
       "4           3.0           0.0  ...    4053975.0  0.000000e+00   4053975.0   \n",
       "\n",
       "   Active Min     Idle Mean      Idle Std      Idle Max      Idle Min  Label  \\\n",
       "0   1038036.0  5.187256e+14  8.984590e+14  1.556177e+15  1.657324e+07      0   \n",
       "1         0.0  1.556177e+15  0.000000e+00  1.556177e+15  1.556177e+15      0   \n",
       "2    226402.0  1.729085e+14  5.187256e+14  1.556177e+15  6.036493e+06      0   \n",
       "3         0.0  1.556177e+15  0.000000e+00  1.556177e+15  1.556177e+15      0   \n",
       "4   4053975.0  7.780884e+14  1.100383e+15  1.556177e+15  6.185376e+06      0   \n",
       "\n",
       "   Attack  \n",
       "0  Benign  \n",
       "1  Benign  \n",
       "2  Benign  \n",
       "3  Benign  \n",
       "4  Benign  \n",
       "\n",
       "[5 rows x 84 columns]"
      ]
     },
     "execution_count": 4,
     "metadata": {},
     "output_type": "execute_result"
    }
   ],
   "source": [
    "df.head()"
   ]
  },
  {
   "cell_type": "code",
   "execution_count": 5,
   "id": "d4d0eb8b",
   "metadata": {},
   "outputs": [],
   "source": [
    "timestamp_format = \"mixed\"\n",
    "# timestamp_format=\"%d/%m/%Y %I:%M:%S %p\""
   ]
  },
  {
   "cell_type": "code",
   "execution_count": 6,
   "id": "c8770b97",
   "metadata": {},
   "outputs": [
    {
     "data": {
      "text/plain": [
       "Index(['Flow ID', 'Src IP', 'Src Port', 'Dst IP', 'Dst Port', 'Protocol',\n",
       "       'Timestamp', 'Flow Duration', 'Tot Fwd Pkts', 'Tot Bwd Pkts',\n",
       "       'TotLen Fwd Pkts', 'TotLen Bwd Pkts', 'Fwd Pkt Len Max',\n",
       "       'Fwd Pkt Len Min', 'Fwd Pkt Len Mean', 'Fwd Pkt Len Std',\n",
       "       'Bwd Pkt Len Max', 'Bwd Pkt Len Min', 'Bwd Pkt Len Mean',\n",
       "       'Bwd Pkt Len Std', 'Flow Byts/s', 'Flow Pkts/s', 'Flow IAT Mean',\n",
       "       'Flow IAT Std', 'Flow IAT Max', 'Flow IAT Min', 'Fwd IAT Tot',\n",
       "       'Fwd IAT Mean', 'Fwd IAT Max', 'Fwd IAT Min', 'Bwd IAT Tot',\n",
       "       'Bwd IAT Mean', 'Bwd IAT Std', 'Bwd IAT Max', 'Bwd IAT Min',\n",
       "       'Fwd PSH Flags', 'Bwd PSH Flags', 'Fwd URG Flags', 'Bwd URG Flags',\n",
       "       'Fwd Header Len', 'Bwd Header Len', 'Fwd Pkts/s', 'Bwd Pkts/s',\n",
       "       'Pkt Len Min', 'Pkt Len Max', 'Pkt Len Mean', 'Pkt Len Std',\n",
       "       'Pkt Len Var', 'FIN Flag Cnt', 'SYN Flag Cnt', 'RST Flag Cnt',\n",
       "       'PSH Flag Cnt', 'ACK Flag Cnt', 'URG Flag Cnt', 'CWE Flag Count',\n",
       "       'ECE Flag Cnt', 'Down/Up Ratio', 'Pkt Size Avg', 'Fwd Seg Size Avg',\n",
       "       'Bwd Seg Size Avg', 'Fwd Byts/b Avg', 'Fwd Pkts/b Avg',\n",
       "       'Fwd Blk Rate Avg', 'Bwd Byts/b Avg', 'Bwd Pkts/b Avg',\n",
       "       'Bwd Blk Rate Avg', 'Subflow Fwd Pkts', 'Subflow Fwd Byts',\n",
       "       'Subflow Bwd Pkts', 'Subflow Bwd Byts', 'Init Fwd Win Byts',\n",
       "       'Init Bwd Win Byts', 'Fwd Act Data Pkts', 'Fwd Seg Size Min',\n",
       "       'Active Mean', 'Active Std', 'Active Max', 'Active Min', 'Idle Mean',\n",
       "       'Idle Std', 'Idle Max', 'Idle Min', 'Label', 'Attack'],\n",
       "      dtype='object')"
      ]
     },
     "execution_count": 6,
     "metadata": {},
     "output_type": "execute_result"
    }
   ],
   "source": [
    "df.columns"
   ]
  },
  {
   "cell_type": "code",
   "execution_count": 7,
   "id": "7a26698c",
   "metadata": {},
   "outputs": [],
   "source": [
    "src_ip_col=\"Src IP\"\n",
    "src_port_col=\"Src Port\"\n",
    "dst_ip_col=\"Dst IP\"\n",
    "dst_port_col=\"Dst Port\"\n",
    "flow_id_col=\"Flow ID\"\n",
    "timestamp_col=\"Timestamp\"\n",
    "label_col=\"Label\"\n",
    "class_col=\"Attack\"\n",
    "class_num_col=\"Class\""
   ]
  },
  {
   "cell_type": "code",
   "execution_count": 8,
   "id": "eae2bb36",
   "metadata": {},
   "outputs": [],
   "source": [
    "drop_columns=[flow_id_col, src_ip_col, dst_ip_col, timestamp_col, src_port_col, dst_port_col, class_col]"
   ]
  },
  {
   "cell_type": "code",
   "execution_count": 9,
   "id": "ddbeae50",
   "metadata": {},
   "outputs": [],
   "source": [
    "df = clean_dataset(df, timestamp_col, flow_id_col)"
   ]
  },
  {
   "cell_type": "code",
   "execution_count": 10,
   "id": "d7e1ca4b",
   "metadata": {},
   "outputs": [],
   "source": [
    "def to_categorical_codes(column):\n",
    "        return pd.Categorical(column).codes\n",
    "    \n",
    "if name=='x_iiot':\n",
    "    columns_to_convert = [\n",
    "          'Protocol', 'Service', 'is_syn_only', 'Is_SYN_ACK', \n",
    "           'is_pure_ack', 'is_with_payload', 'FIN or RST', \n",
    "        'Bad_checksum', 'is_SYN_with_RST', 'anomaly_alert']\n",
    "\n",
    "\n",
    "    for col in columns_to_convert:\n",
    "        if col in df.columns:\n",
    "            df[col] = to_categorical_codes(df[col])\n",
    "        else:\n",
    "            print(f\"Warning: Column '{col}' not found in the DataFrame\")\n",
    "            \n",
    "    df['class3'] = (df['class3'] == 'Attack').astype(int)\n",
    "    df = df.applymap(lambda x: 0 if x == '-' else x)\n",
    "    df = df.applymap(lambda x: 0 if x == '?' else x)\n",
    "    df = df.applymap(lambda x: 0 if x == '#DIV/0!' else x)    \n",
    "    df = df.applymap(lambda x: 0 if x == 'excel' else x)\n",
    "    df = df.applymap(lambda x: 0 if x == 'aza' else x)\n",
    "    df = df.applymap(lambda x: 0 if x == ' ' else x)\n",
    "    \n",
    "if name=='edge_iiot':\n",
    "    columns_to_convert = ['mqtt.protoname','mqtt.topic','mqtt.conack.flags','mqtt.msg','http.request.method','dns.qry.name.len','arp.src.proto_ipv4',\n",
    "                          'http.request.full_uri','http.file_data','http.request.version','arp.dst.proto_ipv4','http.request.uri.query','tcp.srcport','http.referer']\n",
    "\n",
    "    for col in columns_to_convert:\n",
    "        if col in df.columns:\n",
    "            df[col] = to_categorical_codes(df[col])\n",
    "        else:\n",
    "            print(f\"Warning: Column '{col}' not found in the DataFrame\")\n",
    "    \n",
    "if name=='ccd_inid_modified':    \n",
    "    columns_to_convert = ['splt_direction','splt_ps','splt_piat_ms','application_name','application_category_name','requested_server_name','client_fingerprint']\n",
    "\n",
    "    for col in columns_to_convert:\n",
    "        if col in df.columns:\n",
    "            df[col] = to_categorical_codes(df[col])\n",
    "        else:\n",
    "            print(f\"Warning: Column '{col}' not found in the DataFrame\")\n",
    "    df['traffic_type'] = (df['traffic_type'] == 'attack').astype(int)\n",
    "    "
   ]
  },
  {
   "cell_type": "code",
   "execution_count": 11,
   "id": "a322e1ad",
   "metadata": {},
   "outputs": [],
   "source": [
    "df[src_ip_col] = df[src_ip_col].apply(str)\n",
    "df[src_port_col] = df[src_port_col].apply(str)\n",
    "df[dst_ip_col] = df[dst_ip_col].apply(str)\n",
    "df[dst_port_col] = df[dst_port_col].apply(str)"
   ]
  },
  {
   "cell_type": "code",
   "execution_count": 12,
   "id": "85f00c4c",
   "metadata": {},
   "outputs": [
    {
     "data": {
      "text/plain": [
       "(['Bwd PSH Flags',\n",
       "  'Fwd URG Flags',\n",
       "  'Bwd URG Flags',\n",
       "  'URG Flag Cnt',\n",
       "  'Fwd Byts/b Avg',\n",
       "  'Fwd Pkts/b Avg',\n",
       "  'Fwd Blk Rate Avg',\n",
       "  'Subflow Bwd Pkts'],\n",
       " {'Active Mean',\n",
       "  'Active Std',\n",
       "  'Bwd Header Len',\n",
       "  'Bwd IAT Mean',\n",
       "  'Bwd IAT Tot',\n",
       "  'Bwd Pkt Len Max',\n",
       "  'Bwd Pkt Len Mean',\n",
       "  'Bwd Pkt Len Std',\n",
       "  'Bwd Seg Size Avg',\n",
       "  'CWE Flag Count',\n",
       "  'FIN Flag Cnt',\n",
       "  'Flow Duration',\n",
       "  'Flow IAT Max',\n",
       "  'Flow IAT Mean',\n",
       "  'Flow IAT Min',\n",
       "  'Flow Pkts/s',\n",
       "  'Fwd IAT Mean',\n",
       "  'Fwd IAT Tot',\n",
       "  'Fwd Pkt Len Max',\n",
       "  'Fwd Pkt Len Mean',\n",
       "  'Fwd Pkt Len Std',\n",
       "  'Fwd Seg Size Avg',\n",
       "  'Idle Mean',\n",
       "  'PSH Flag Cnt',\n",
       "  'Pkt Len Max',\n",
       "  'Pkt Len Mean',\n",
       "  'Pkt Len Std',\n",
       "  'Pkt Len Var',\n",
       "  'Pkt Size Avg',\n",
       "  'Tot Bwd Pkts',\n",
       "  'TotLen Bwd Pkts'})"
      ]
     },
     "execution_count": 12,
     "metadata": {},
     "output_type": "execute_result"
    }
   ],
   "source": [
    "_,var_dropped, corr_dropped = feature_analysis_pipeline(df=df, drop_columns=drop_columns,label_col=label_col)\n",
    "var_dropped, corr_dropped"
   ]
  },
  {
   "attachments": {},
   "cell_type": "markdown",
   "id": "b147094b",
   "metadata": {},
   "source": [
    "### Attacks Types"
   ]
  },
  {
   "cell_type": "code",
   "execution_count": 13,
   "id": "5e6bc9df",
   "metadata": {},
   "outputs": [
    {
     "data": {
      "text/plain": [
       "array(['Benign', 'mitm', 'scanning', 'dos', 'ddos', 'injection',\n",
       "       'password', 'backdoor', 'ransomware', 'xss'], dtype=object)"
      ]
     },
     "execution_count": 13,
     "metadata": {},
     "output_type": "execute_result"
    }
   ],
   "source": [
    "df[class_col].unique()"
   ]
  },
  {
   "cell_type": "code",
   "execution_count": 14,
   "id": "80ccdb4a",
   "metadata": {},
   "outputs": [],
   "source": [
    "# df[class_col] = df[class_col].replace({\"BENIGN\": \"Benign\",\n",
    "#                                        \"DDoS\": \"ddos\",\n",
    "#                                        \"Web Attack � Brute Force\": \"bruteforce\",\n",
    "#                                        \"Web Attack � XSS\": \"xss\"})"
   ]
  },
  {
   "cell_type": "code",
   "execution_count": 15,
   "id": "cafaa712",
   "metadata": {},
   "outputs": [],
   "source": [
    "classes = df[class_col].unique()"
   ]
  },
  {
   "attachments": {},
   "cell_type": "markdown",
   "id": "0dfea377",
   "metadata": {},
   "source": [
    "### Sorting (optional)"
   ]
  },
  {
   "cell_type": "code",
   "execution_count": 16,
   "id": "a3f48d2a",
   "metadata": {},
   "outputs": [],
   "source": [
    "if with_sort_timestamp:\n",
    "    df[timestamp_col] = pd.to_datetime(df[timestamp_col].str.strip(), format=timestamp_format)\n",
    "    df.sort_values(timestamp_col, inplace= True)"
   ]
  },
  {
   "attachments": {},
   "cell_type": "markdown",
   "id": "1215ca63",
   "metadata": {},
   "source": [
    "### Encoding Attacks into integers"
   ]
  },
  {
   "cell_type": "code",
   "execution_count": 17,
   "id": "b820edb5-7f77-4a02-8305-9491e3c8a980",
   "metadata": {},
   "outputs": [
    {
     "name": "stdout",
     "output_type": "stream",
     "text": [
      "==>> labels_names: {np.int64(0): np.str_('Benign'), np.int64(1): np.str_('backdoor'), np.int64(2): np.str_('ddos'), np.int64(3): np.str_('dos'), np.int64(4): np.str_('injection'), np.int64(5): np.str_('mitm'), np.int64(6): np.str_('password'), np.int64(7): np.str_('ransomware'), np.int64(8): np.str_('scanning'), np.int64(9): np.str_('xss')}\n"
     ]
    }
   ],
   "source": [
    "df, labels_names = one_dataset_class_num_col(df, class_num_col, class_col)"
   ]
  },
  {
   "attachments": {},
   "cell_type": "markdown",
   "id": "fd1c995b",
   "metadata": {},
   "source": [
    "### Undersampling classes (optional)"
   ]
  },
  {
   "cell_type": "code",
   "execution_count": 18,
   "id": "d5cbab61-3bd1-43c1-892c-4db0c150f3d5",
   "metadata": {},
   "outputs": [
    {
     "name": "stdout",
     "output_type": "stream",
     "text": [
      "==>> class_counts_sorted: Attack\n",
      "Benign        2514059\n",
      "xss           2149308\n",
      "password       340208\n",
      "injection      277696\n",
      "scanning        36205\n",
      "backdoor        27145\n",
      "ransomware       5098\n",
      "mitm              517\n",
      "ddos              202\n",
      "dos               145\n",
      "dtype: int64\n"
     ]
    }
   ],
   "source": [
    "if with_undersample_classes:\n",
    "    # Group by the class column and get the count of records in each class\n",
    "    class_counts = df.groupby(class_col).size()\n",
    "\n",
    "    # Sort the counts in descending order\n",
    "    class_counts_sorted = class_counts.sort_values(ascending=False)\n",
    "    print(f\"==>> class_counts_sorted: {class_counts_sorted}\")"
   ]
  },
  {
   "cell_type": "code",
   "execution_count": null,
   "id": "71fd9f7c-aa56-477a-9f24-4b9c4bf63826",
   "metadata": {},
   "outputs": [],
   "source": [
    "if with_undersample_classes:\n",
    "    # Get the classes with the highest number of records (you can choose how many to undersample)\n",
    "    classes_to_undersample = class_counts_sorted.index[:2]\n",
    "\n",
    "    # Undersample the classes with the highest number of records\n",
    "    dfs = []\n",
    "    for class_label in class_counts_sorted.index:\n",
    "        print(f\"==>> class_label: {class_label}\")\n",
    "        if class_label in classes_to_undersample:\n",
    "            class_df = df[df[class_col] == class_label]\n",
    "            undersampled_df = class_df.sample(frac=0.5)  # Specify the fraction of samples to keep\n",
    "            dfs.append(undersampled_df)\n",
    "        else:\n",
    "            dfs.append(df[df[class_col] == class_label])\n",
    "\n",
    "    df = []\n",
    "    # Optional: shuffle the undersampled DataFrame\n",
    "    df = pd.concat(dfs).sample(frac=1).reset_index(drop=True)\n"
   ]
  },
  {
   "cell_type": "code",
   "execution_count": null,
   "id": "eceb2754-3b56-467b-8470-9ab1c832f89c",
   "metadata": {},
   "outputs": [],
   "source": [
    "if with_undersample_classes:\n",
    "    # Group by the class column and get the count of records in each class\n",
    "    class_counts = df.groupby(class_col).size()\n",
    "\n",
    "    # Sort the counts in descending order\n",
    "    class_counts_sorted = class_counts.sort_values(ascending=False)\n",
    "    print(f\"==>> class_counts_sorted: {class_counts_sorted}\")"
   ]
  },
  {
   "attachments": {},
   "cell_type": "markdown",
   "id": "90723f84",
   "metadata": {},
   "source": [
    "### saving labels encodings and datasets properties"
   ]
  },
  {
   "cell_type": "code",
   "execution_count": 19,
   "id": "b0e2c1f3-facf-492a-a6b4-6ef70cb008eb",
   "metadata": {},
   "outputs": [],
   "source": [
    "with open(folder_path + '/labels_names.pkl', 'wb') as f:\n",
    "    pickle.dump([labels_names, classes], f)"
   ]
  },
  {
   "cell_type": "code",
   "execution_count": 20,
   "id": "30b4c519-7e2a-4441-8101-73615e352968",
   "metadata": {},
   "outputs": [
    {
     "data": {
      "text/plain": [
       "{'name': 'cic_ton_iot',\n",
       " 'length': 5350583,\n",
       " 'num_benign': 2514059,\n",
       " 'percentage_of_benign_records': 46.98663678331875,\n",
       " 'num_attack': 2836524,\n",
       " 'percentage_of_attack_records': 53.01336321668125,\n",
       " 'attacks': ['Benign',\n",
       "  'mitm',\n",
       "  'scanning',\n",
       "  'dos',\n",
       "  'ddos',\n",
       "  'injection',\n",
       "  'password',\n",
       "  'backdoor',\n",
       "  'ransomware',\n",
       "  'xss']}"
      ]
     },
     "execution_count": 20,
     "metadata": {},
     "output_type": "execute_result"
    }
   ],
   "source": [
    "total_count = len(df)\n",
    "\n",
    "properties = {\n",
    "    \"name\": name,\n",
    "    \"length\": total_count,\n",
    "}\n",
    "\n",
    "num_benign = len(df[df['Label'] == 0])\n",
    "num_attack = len(df[df['Label'] == 1])\n",
    "\n",
    "properties[\"num_benign\"] = num_benign\n",
    "properties[\"percentage_of_benign_records\"] = ((num_benign * 100)/total_count)\n",
    "\n",
    "properties[\"num_attack\"] = num_attack\n",
    "properties[\"percentage_of_attack_records\"] = ((num_attack * 100)/total_count)\n",
    "\n",
    "properties[\"attacks\"] = list(df[\"Attack\"].unique()) \n",
    "\n",
    "with open(folder_path + '/df_properties.txt', 'w') as f:\n",
    "    json.dump(properties, f)\n",
    "    \n",
    "properties\n"
   ]
  },
  {
   "cell_type": "code",
   "execution_count": 21,
   "id": "f8c21e8f",
   "metadata": {},
   "outputs": [],
   "source": [
    "# graphs_properties_path = folder_path + '/graphs_properties.json'\n",
    "# G = nx.from_pandas_edgelist(\n",
    "#     df,\n",
    "#     source=src_ip_col,\n",
    "#     target=dst_ip_col,\n",
    "#     create_using=nx.DiGraph()\n",
    "# )\n",
    "# calculate_graph_measures(G, graphs_properties_path)"
   ]
  },
  {
   "cell_type": "code",
   "execution_count": 22,
   "id": "250da447",
   "metadata": {},
   "outputs": [],
   "source": [
    "df.to_parquet(output_path)"
   ]
  }
 ],
 "metadata": {
  "kernelspec": {
   "display_name": ".venv",
   "language": "python",
   "name": "python3"
  },
  "language_info": {
   "codemirror_mode": {
    "name": "ipython",
    "version": 3
   },
   "file_extension": ".py",
   "mimetype": "text/x-python",
   "name": "python",
   "nbconvert_exporter": "python",
   "pygments_lexer": "ipython3",
   "version": "3.11.4"
  }
 },
 "nbformat": 4,
 "nbformat_minor": 5
}
