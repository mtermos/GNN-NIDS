{
 "cells": [
  {
   "cell_type": "code",
   "execution_count": 1,
   "id": "84cb9753-9962-4cfa-b78f-ed13216e3cc7",
   "metadata": {},
   "outputs": [],
   "source": [
    "import os\n",
    "import pandas as pd\n",
    "import pickle\n",
    "import json\n",
    "\n",
    "\n",
    "from src.dataset.dataset_info import datasets\n",
    "from src.dataset.clean_dataset import clean_dataset\n",
    "from src.dataset.create_class_num_col import one_dataset_class_num_col\n",
    "from src.dataset.features_analysis import feature_analysis_pipeline\n",
    "from src.dataset.undersample_classes import undersample_classes\n",
    "from src.graph.graph_measures import calculate_graph_measures\n",
    "from local_variables import datasets_main_path\n"
   ]
  },
  {
   "cell_type": "code",
   "execution_count": 2,
   "id": "c1c96f32",
   "metadata": {},
   "outputs": [
    {
     "name": "stdout",
     "output_type": "stream",
     "text": [
      "==>> original_path: c:\\Users\\Administrateur\\Desktop\\datasets\\CIC-ToN-IoT-Modified.pkl\n",
      "==>> folder_path: datasets\\cic_ton_iot_modified\n",
      "==>> output_path: datasets\\cic_ton_iot_modified\\cic_ton_iot_modified.parquet\n"
     ]
    }
   ],
   "source": [
    "with_sort_timestamp = False\n",
    "with_undersample_classes = False\n",
    "\n",
    "# name = \"cic_ids_2017_5_percent\"\n",
    "# original_path = \"./testing_dfs/cic_ids_2017_5_percent.parquet\"\n",
    "# file_type = \"parquet\"\n",
    "\n",
    "# name = \"cic_ton_iot_5_percent\"\n",
    "# original_path = \"./testing_dfs/cic_ton_iot_5_percent.parquet\"\n",
    "# file_type = \"parquet\"\n",
    "\n",
    "# name = \"cic_ton_iot\"\n",
    "# original_path = datasets_main_path + \"cic_ton_iot.parquet\"\n",
    "# file_type = \"parquet\"\n",
    "\n",
    "# name = \"cic_ids_2017\"\n",
    "# original_path = datasets_main_path + \"cic_ids_2017.parquet\"\n",
    "# file_type = \"parquet\"\n",
    "\n",
    "name = \"cic_ton_iot_modified\"\n",
    "original_path = datasets_main_path + \"CIC-ToN-IoT-Modified.pkl\"\n",
    "# original_path = datasets_main_path + \"CCD-INID-Modified.pkl\"\n",
    "file_type = \"pkl\"\n",
    "\n",
    "\n",
    "\n",
    "\n",
    "# name = \"nf_ton_iotv2_modified\"\n",
    "# name = \"ccd_inid_modified\"\n",
    "# name = \"nf_uq_nids_modified\"\n",
    "\n",
    "\n",
    "# name = \"nf_bot_iot\"\n",
    "\n",
    "# name = \"edge_iiot\"\n",
    "# name = \"nf_cse_cic_ids2018\"\n",
    "# name = \"nf_bot_iotv2\"\n",
    "# name = \"nf_uq_nids\"\n",
    "# name = \"x_iiot\"\n",
    "\n",
    "folder_path = os.path.join(\"datasets\", name)\n",
    "output_path = os.path.join(folder_path, name + \".parquet\")\n",
    "\n",
    "if not os.path.isdir(folder_path):\n",
    "    os.mkdir(folder_path)\n",
    "\n",
    "print(f\"==>> original_path: {original_path}\")\n",
    "print(f\"==>> folder_path: {folder_path}\")\n",
    "print(f\"==>> output_path: {output_path}\")\n"
   ]
  },
  {
   "attachments": {},
   "cell_type": "markdown",
   "id": "b7ca3130",
   "metadata": {},
   "source": [
    "# Preparing Datasets"
   ]
  },
  {
   "attachments": {},
   "cell_type": "markdown",
   "id": "43cecea5",
   "metadata": {},
   "source": [
    "### Reading and Cleaning"
   ]
  },
  {
   "cell_type": "code",
   "execution_count": 3,
   "id": "6e8e652c-7d74-47a3-9faa-7da0f290d90f",
   "metadata": {},
   "outputs": [],
   "source": [
    "if file_type == \"parquet\":\n",
    "    df = pd.read_parquet(original_path)\n",
    "if file_type == \"csv\":\n",
    "    df = pd.read_csv(original_path)\n",
    "if file_type == \"pkl\":\n",
    "    df = pd.read_pickle(original_path, compression=\"zip\")"
   ]
  },
  {
   "cell_type": "code",
   "execution_count": 4,
   "id": "9b40b434",
   "metadata": {},
   "outputs": [
    {
     "data": {
      "text/html": [
       "<div>\n",
       "<style scoped>\n",
       "    .dataframe tbody tr th:only-of-type {\n",
       "        vertical-align: middle;\n",
       "    }\n",
       "\n",
       "    .dataframe tbody tr th {\n",
       "        vertical-align: top;\n",
       "    }\n",
       "\n",
       "    .dataframe thead th {\n",
       "        text-align: right;\n",
       "    }\n",
       "</style>\n",
       "<table border=\"1\" class=\"dataframe\">\n",
       "  <thead>\n",
       "    <tr style=\"text-align: right;\">\n",
       "      <th></th>\n",
       "      <th>Flow ID</th>\n",
       "      <th>Src IP</th>\n",
       "      <th>Src Port</th>\n",
       "      <th>Dst IP</th>\n",
       "      <th>Dst Port</th>\n",
       "      <th>Protocol</th>\n",
       "      <th>Timestamp</th>\n",
       "      <th>Flow Duration</th>\n",
       "      <th>Tot Fwd Pkts</th>\n",
       "      <th>Tot Bwd Pkts</th>\n",
       "      <th>...</th>\n",
       "      <th>Active Std</th>\n",
       "      <th>Active Max</th>\n",
       "      <th>Active Min</th>\n",
       "      <th>Idle Mean</th>\n",
       "      <th>Idle Std</th>\n",
       "      <th>Idle Max</th>\n",
       "      <th>Idle Min</th>\n",
       "      <th>Label</th>\n",
       "      <th>Attack</th>\n",
       "      <th>datetime</th>\n",
       "    </tr>\n",
       "  </thead>\n",
       "  <tbody>\n",
       "    <tr>\n",
       "      <th>0</th>\n",
       "      <td>177.30.87.144-192.168.1.1-0-0-0</td>\n",
       "      <td>177.30.87.144</td>\n",
       "      <td>0</td>\n",
       "      <td>192.168.1.1</td>\n",
       "      <td>0</td>\n",
       "      <td>0</td>\n",
       "      <td>25/04/2019 05:18:52 pm</td>\n",
       "      <td>47814343</td>\n",
       "      <td>5</td>\n",
       "      <td>0</td>\n",
       "      <td>...</td>\n",
       "      <td>0.000000e+00</td>\n",
       "      <td>1038036.0</td>\n",
       "      <td>1038036.0</td>\n",
       "      <td>5.187256e+14</td>\n",
       "      <td>8.984590e+14</td>\n",
       "      <td>1.556177e+15</td>\n",
       "      <td>1.657324e+07</td>\n",
       "      <td>0</td>\n",
       "      <td>Benign</td>\n",
       "      <td>2019-04-25 17:18:52</td>\n",
       "    </tr>\n",
       "    <tr>\n",
       "      <th>1</th>\n",
       "      <td>167.49.176.28-50.165.192.168-0-0-0</td>\n",
       "      <td>167.49.176.28</td>\n",
       "      <td>0</td>\n",
       "      <td>50.165.192.168</td>\n",
       "      <td>0</td>\n",
       "      <td>0</td>\n",
       "      <td>25/04/2019 05:18:49 pm</td>\n",
       "      <td>2033142</td>\n",
       "      <td>2</td>\n",
       "      <td>0</td>\n",
       "      <td>...</td>\n",
       "      <td>0.000000e+00</td>\n",
       "      <td>0.0</td>\n",
       "      <td>0.0</td>\n",
       "      <td>1.556177e+15</td>\n",
       "      <td>0.000000e+00</td>\n",
       "      <td>1.556177e+15</td>\n",
       "      <td>1.556177e+15</td>\n",
       "      <td>0</td>\n",
       "      <td>Benign</td>\n",
       "      <td>2019-04-25 17:18:49</td>\n",
       "    </tr>\n",
       "    <tr>\n",
       "      <th>2</th>\n",
       "      <td>230.158.52.59-177.21.192.168-0-0-0</td>\n",
       "      <td>230.158.52.59</td>\n",
       "      <td>0</td>\n",
       "      <td>177.21.192.168</td>\n",
       "      <td>0</td>\n",
       "      <td>0</td>\n",
       "      <td>25/04/2019 05:18:37 pm</td>\n",
       "      <td>82877133</td>\n",
       "      <td>14</td>\n",
       "      <td>0</td>\n",
       "      <td>...</td>\n",
       "      <td>1.711593e+06</td>\n",
       "      <td>3942470.0</td>\n",
       "      <td>226402.0</td>\n",
       "      <td>1.729085e+14</td>\n",
       "      <td>5.187256e+14</td>\n",
       "      <td>1.556177e+15</td>\n",
       "      <td>6.036493e+06</td>\n",
       "      <td>0</td>\n",
       "      <td>Benign</td>\n",
       "      <td>2019-04-25 17:18:37</td>\n",
       "    </tr>\n",
       "    <tr>\n",
       "      <th>3</th>\n",
       "      <td>183.68.192.168-1.1.192.168-0-0-0</td>\n",
       "      <td>183.68.192.168</td>\n",
       "      <td>0</td>\n",
       "      <td>1.1.192.168</td>\n",
       "      <td>0</td>\n",
       "      <td>0</td>\n",
       "      <td>25/04/2019 05:18:42 pm</td>\n",
       "      <td>24359</td>\n",
       "      <td>2</td>\n",
       "      <td>0</td>\n",
       "      <td>...</td>\n",
       "      <td>0.000000e+00</td>\n",
       "      <td>0.0</td>\n",
       "      <td>0.0</td>\n",
       "      <td>1.556177e+15</td>\n",
       "      <td>0.000000e+00</td>\n",
       "      <td>1.556177e+15</td>\n",
       "      <td>1.556177e+15</td>\n",
       "      <td>0</td>\n",
       "      <td>Benign</td>\n",
       "      <td>2019-04-25 17:18:42</td>\n",
       "    </tr>\n",
       "    <tr>\n",
       "      <th>4</th>\n",
       "      <td>183.41.192.168-1.1.192.168-0-0-0</td>\n",
       "      <td>183.41.192.168</td>\n",
       "      <td>0</td>\n",
       "      <td>1.1.192.168</td>\n",
       "      <td>0</td>\n",
       "      <td>0</td>\n",
       "      <td>25/04/2019 05:18:42 pm</td>\n",
       "      <td>10239351</td>\n",
       "      <td>3</td>\n",
       "      <td>0</td>\n",
       "      <td>...</td>\n",
       "      <td>0.000000e+00</td>\n",
       "      <td>4053975.0</td>\n",
       "      <td>4053975.0</td>\n",
       "      <td>7.780884e+14</td>\n",
       "      <td>1.100383e+15</td>\n",
       "      <td>1.556177e+15</td>\n",
       "      <td>6.185376e+06</td>\n",
       "      <td>0</td>\n",
       "      <td>Benign</td>\n",
       "      <td>2019-04-25 17:18:42</td>\n",
       "    </tr>\n",
       "  </tbody>\n",
       "</table>\n",
       "<p>5 rows × 86 columns</p>\n",
       "</div>"
      ],
      "text/plain": [
       "                              Flow ID          Src IP  Src Port  \\\n",
       "0     177.30.87.144-192.168.1.1-0-0-0   177.30.87.144         0   \n",
       "1  167.49.176.28-50.165.192.168-0-0-0   167.49.176.28         0   \n",
       "2  230.158.52.59-177.21.192.168-0-0-0   230.158.52.59         0   \n",
       "3    183.68.192.168-1.1.192.168-0-0-0  183.68.192.168         0   \n",
       "4    183.41.192.168-1.1.192.168-0-0-0  183.41.192.168         0   \n",
       "\n",
       "           Dst IP  Dst Port  Protocol               Timestamp  Flow Duration  \\\n",
       "0     192.168.1.1         0         0  25/04/2019 05:18:52 pm       47814343   \n",
       "1  50.165.192.168         0         0  25/04/2019 05:18:49 pm        2033142   \n",
       "2  177.21.192.168         0         0  25/04/2019 05:18:37 pm       82877133   \n",
       "3     1.1.192.168         0         0  25/04/2019 05:18:42 pm          24359   \n",
       "4     1.1.192.168         0         0  25/04/2019 05:18:42 pm       10239351   \n",
       "\n",
       "   Tot Fwd Pkts  Tot Bwd Pkts  ...    Active Std  Active Max  Active Min  \\\n",
       "0             5             0  ...  0.000000e+00   1038036.0   1038036.0   \n",
       "1             2             0  ...  0.000000e+00         0.0         0.0   \n",
       "2            14             0  ...  1.711593e+06   3942470.0    226402.0   \n",
       "3             2             0  ...  0.000000e+00         0.0         0.0   \n",
       "4             3             0  ...  0.000000e+00   4053975.0   4053975.0   \n",
       "\n",
       "      Idle Mean      Idle Std      Idle Max      Idle Min  Label  Attack  \\\n",
       "0  5.187256e+14  8.984590e+14  1.556177e+15  1.657324e+07      0  Benign   \n",
       "1  1.556177e+15  0.000000e+00  1.556177e+15  1.556177e+15      0  Benign   \n",
       "2  1.729085e+14  5.187256e+14  1.556177e+15  6.036493e+06      0  Benign   \n",
       "3  1.556177e+15  0.000000e+00  1.556177e+15  1.556177e+15      0  Benign   \n",
       "4  7.780884e+14  1.100383e+15  1.556177e+15  6.185376e+06      0  Benign   \n",
       "\n",
       "             datetime  \n",
       "0 2019-04-25 17:18:52  \n",
       "1 2019-04-25 17:18:49  \n",
       "2 2019-04-25 17:18:37  \n",
       "3 2019-04-25 17:18:42  \n",
       "4 2019-04-25 17:18:42  \n",
       "\n",
       "[5 rows x 86 columns]"
      ]
     },
     "execution_count": 4,
     "metadata": {},
     "output_type": "execute_result"
    }
   ],
   "source": [
    "df.head()"
   ]
  },
  {
   "cell_type": "code",
   "execution_count": 5,
   "id": "d4d0eb8b",
   "metadata": {},
   "outputs": [],
   "source": [
    "timestamp_format = \"mixed\"\n",
    "# timestamp_format=\"%d/%m/%Y %I:%M:%S %p\""
   ]
  },
  {
   "cell_type": "code",
   "execution_count": 6,
   "id": "c8770b97",
   "metadata": {},
   "outputs": [
    {
     "data": {
      "text/plain": [
       "Index(['Flow ID', 'Src IP', 'Src Port', 'Dst IP', 'Dst Port', 'Protocol',\n",
       "       'Timestamp', 'Flow Duration', 'Tot Fwd Pkts', 'Tot Bwd Pkts',\n",
       "       'TotLen Fwd Pkts', 'TotLen Bwd Pkts', 'Fwd Pkt Len Max',\n",
       "       'Fwd Pkt Len Min', 'Fwd Pkt Len Mean', 'Fwd Pkt Len Std',\n",
       "       'Bwd Pkt Len Max', 'Bwd Pkt Len Min', 'Bwd Pkt Len Mean',\n",
       "       'Bwd Pkt Len Std', 'Flow Byts/s', 'Flow Pkts/s', 'Flow IAT Mean',\n",
       "       'Flow IAT Std', 'Flow IAT Max', 'Flow IAT Min', 'Fwd IAT Tot',\n",
       "       'Fwd IAT Mean', 'Fwd IAT Std', 'Fwd IAT Max', 'Fwd IAT Min',\n",
       "       'Bwd IAT Tot', 'Bwd IAT Mean', 'Bwd IAT Std', 'Bwd IAT Max',\n",
       "       'Bwd IAT Min', 'Fwd PSH Flags', 'Bwd PSH Flags', 'Fwd URG Flags',\n",
       "       'Bwd URG Flags', 'Fwd Header Len', 'Bwd Header Len', 'Fwd Pkts/s',\n",
       "       'Bwd Pkts/s', 'Pkt Len Min', 'Pkt Len Max', 'Pkt Len Mean',\n",
       "       'Pkt Len Std', 'Pkt Len Var', 'FIN Flag Cnt', 'SYN Flag Cnt',\n",
       "       'RST Flag Cnt', 'PSH Flag Cnt', 'ACK Flag Cnt', 'URG Flag Cnt',\n",
       "       'CWE Flag Count', 'ECE Flag Cnt', 'Down/Up Ratio', 'Pkt Size Avg',\n",
       "       'Fwd Seg Size Avg', 'Bwd Seg Size Avg', 'Fwd Byts/b Avg',\n",
       "       'Fwd Pkts/b Avg', 'Fwd Blk Rate Avg', 'Bwd Byts/b Avg',\n",
       "       'Bwd Pkts/b Avg', 'Bwd Blk Rate Avg', 'Subflow Fwd Pkts',\n",
       "       'Subflow Fwd Byts', 'Subflow Bwd Pkts', 'Subflow Bwd Byts',\n",
       "       'Init Fwd Win Byts', 'Init Bwd Win Byts', 'Fwd Act Data Pkts',\n",
       "       'Fwd Seg Size Min', 'Active Mean', 'Active Std', 'Active Max',\n",
       "       'Active Min', 'Idle Mean', 'Idle Std', 'Idle Max', 'Idle Min', 'Label',\n",
       "       'Attack', 'datetime'],\n",
       "      dtype='object')"
      ]
     },
     "execution_count": 6,
     "metadata": {},
     "output_type": "execute_result"
    }
   ],
   "source": [
    "df.columns"
   ]
  },
  {
   "cell_type": "code",
   "execution_count": 15,
   "id": "2f2a2219",
   "metadata": {},
   "outputs": [
    {
     "data": {
      "text/plain": [
       "[dtype('O'),\n",
       " dtype('O'),\n",
       " dtype('O'),\n",
       " dtype('O'),\n",
       " dtype('O'),\n",
       " dtype('int64'),\n",
       " dtype('O'),\n",
       " dtype('int64'),\n",
       " dtype('int64'),\n",
       " dtype('int64'),\n",
       " dtype('float64'),\n",
       " dtype('float64'),\n",
       " dtype('float64'),\n",
       " dtype('float64'),\n",
       " dtype('float64'),\n",
       " dtype('float64'),\n",
       " dtype('float64'),\n",
       " dtype('float64'),\n",
       " dtype('float64'),\n",
       " dtype('float64'),\n",
       " dtype('float64'),\n",
       " dtype('float64'),\n",
       " dtype('float64'),\n",
       " dtype('float64'),\n",
       " dtype('float64'),\n",
       " dtype('float64'),\n",
       " dtype('float64'),\n",
       " dtype('float64'),\n",
       " dtype('float64'),\n",
       " dtype('float64'),\n",
       " dtype('float64'),\n",
       " dtype('float64'),\n",
       " dtype('float64'),\n",
       " dtype('float64'),\n",
       " dtype('float64'),\n",
       " dtype('float64'),\n",
       " dtype('int64'),\n",
       " dtype('int64'),\n",
       " dtype('int64'),\n",
       " dtype('int64'),\n",
       " dtype('int64'),\n",
       " dtype('int64'),\n",
       " dtype('float64'),\n",
       " dtype('float64'),\n",
       " dtype('float64'),\n",
       " dtype('float64'),\n",
       " dtype('float64'),\n",
       " dtype('float64'),\n",
       " dtype('float64'),\n",
       " dtype('int64'),\n",
       " dtype('int64'),\n",
       " dtype('int64'),\n",
       " dtype('int64'),\n",
       " dtype('int64'),\n",
       " dtype('int64'),\n",
       " dtype('int64'),\n",
       " dtype('int64'),\n",
       " dtype('float64'),\n",
       " dtype('float64'),\n",
       " dtype('float64'),\n",
       " dtype('float64'),\n",
       " dtype('int64'),\n",
       " dtype('int64'),\n",
       " dtype('int64'),\n",
       " dtype('int64'),\n",
       " dtype('int64'),\n",
       " dtype('int64'),\n",
       " dtype('int64'),\n",
       " dtype('int64'),\n",
       " dtype('int64'),\n",
       " dtype('int64'),\n",
       " dtype('int64'),\n",
       " dtype('int64'),\n",
       " dtype('int64'),\n",
       " dtype('int64'),\n",
       " dtype('float64'),\n",
       " dtype('float64'),\n",
       " dtype('float64'),\n",
       " dtype('float64'),\n",
       " dtype('float64'),\n",
       " dtype('float64'),\n",
       " dtype('float64'),\n",
       " dtype('float64'),\n",
       " dtype('int64'),\n",
       " dtype('O'),\n",
       " dtype('<M8[ns]')]"
      ]
     },
     "execution_count": 15,
     "metadata": {},
     "output_type": "execute_result"
    }
   ],
   "source": [
    "list(df.dtypes)"
   ]
  },
  {
   "cell_type": "code",
   "execution_count": 9,
   "id": "7a26698c",
   "metadata": {},
   "outputs": [],
   "source": [
    "src_ip_col=\"Src IP\"\n",
    "src_port_col=\"Src Port\"\n",
    "dst_ip_col=\"Dst IP\"\n",
    "dst_port_col=\"Dst Port\"\n",
    "flow_id_col=\"Flow ID\"\n",
    "timestamp_col=\"Timestamp\"\n",
    "label_col=\"Label\"\n",
    "class_col=\"Attack\"\n",
    "class_num_col=\"Class\""
   ]
  },
  {
   "cell_type": "code",
   "execution_count": 10,
   "id": "eae2bb36",
   "metadata": {},
   "outputs": [],
   "source": [
    "drop_columns=[flow_id_col, src_ip_col, dst_ip_col, timestamp_col, src_port_col, dst_port_col, class_col]"
   ]
  },
  {
   "cell_type": "code",
   "execution_count": 11,
   "id": "ddbeae50",
   "metadata": {},
   "outputs": [],
   "source": [
    "df = clean_dataset(df, timestamp_col, flow_id_col)"
   ]
  },
  {
   "cell_type": "code",
   "execution_count": 12,
   "id": "d7e1ca4b",
   "metadata": {},
   "outputs": [],
   "source": [
    "def to_categorical_codes(column):\n",
    "        return pd.Categorical(column).codes\n",
    "    \n",
    "if name=='x_iiot':\n",
    "    columns_to_convert = [\n",
    "          'Protocol', 'Service', 'is_syn_only', 'Is_SYN_ACK', \n",
    "           'is_pure_ack', 'is_with_payload', 'FIN or RST', \n",
    "        'Bad_checksum', 'is_SYN_with_RST', 'anomaly_alert']\n",
    "\n",
    "\n",
    "    for col in columns_to_convert:\n",
    "        if col in df.columns:\n",
    "            df[col] = to_categorical_codes(df[col])\n",
    "        else:\n",
    "            print(f\"Warning: Column '{col}' not found in the DataFrame\")\n",
    "            \n",
    "    df['class3'] = (df['class3'] == 'Attack').astype(int)\n",
    "    df = df.applymap(lambda x: 0 if x == '-' else x)\n",
    "    df = df.applymap(lambda x: 0 if x == '?' else x)\n",
    "    df = df.applymap(lambda x: 0 if x == '#DIV/0!' else x)    \n",
    "    df = df.applymap(lambda x: 0 if x == 'excel' else x)\n",
    "    df = df.applymap(lambda x: 0 if x == 'aza' else x)\n",
    "    df = df.applymap(lambda x: 0 if x == ' ' else x)\n",
    "    \n",
    "if name=='edge_iiot':\n",
    "    columns_to_convert = ['mqtt.protoname','mqtt.topic','mqtt.conack.flags','mqtt.msg','http.request.method','dns.qry.name.len','arp.src.proto_ipv4',\n",
    "                          'http.request.full_uri','http.file_data','http.request.version','arp.dst.proto_ipv4','http.request.uri.query','tcp.srcport','http.referer']\n",
    "\n",
    "    for col in columns_to_convert:\n",
    "        if col in df.columns:\n",
    "            df[col] = to_categorical_codes(df[col])\n",
    "        else:\n",
    "            print(f\"Warning: Column '{col}' not found in the DataFrame\")\n",
    "    \n",
    "if name=='ccd_inid_modified':    \n",
    "    columns_to_convert = ['splt_direction','splt_ps','splt_piat_ms','application_name','application_category_name','requested_server_name','client_fingerprint']\n",
    "\n",
    "    for col in columns_to_convert:\n",
    "        if col in df.columns:\n",
    "            df[col] = to_categorical_codes(df[col])\n",
    "        else:\n",
    "            print(f\"Warning: Column '{col}' not found in the DataFrame\")\n",
    "    df['traffic_type'] = (df['traffic_type'] == 'attack').astype(int)\n",
    "\n",
    "if name=='cic_ton_iot_modified':\n",
    "    df.drop(['datetime'], axis=1)\n",
    "    "
   ]
  },
  {
   "cell_type": "code",
   "execution_count": 13,
   "id": "a322e1ad",
   "metadata": {},
   "outputs": [],
   "source": [
    "df[src_ip_col] = df[src_ip_col].apply(str)\n",
    "df[src_port_col] = df[src_port_col].apply(str)\n",
    "df[dst_ip_col] = df[dst_ip_col].apply(str)\n",
    "df[dst_port_col] = df[dst_port_col].apply(str)"
   ]
  },
  {
   "cell_type": "code",
   "execution_count": 14,
   "id": "85f00c4c",
   "metadata": {},
   "outputs": [
    {
     "ename": "DTypePromotionError",
     "evalue": "The DType <class 'numpy.dtypes.DateTime64DType'> could not be promoted by <class 'numpy.dtypes.Float64DType'>. This means that no common DType exists for the given inputs. For example they cannot be stored in a single array unless the dtype is `object`. The full list of DTypes is: (<class 'numpy.dtypes.Int64DType'>, <class 'numpy.dtypes.Int64DType'>, <class 'numpy.dtypes.Int64DType'>, <class 'numpy.dtypes.Int64DType'>, <class 'numpy.dtypes.Float64DType'>, <class 'numpy.dtypes.Float64DType'>, <class 'numpy.dtypes.Float64DType'>, <class 'numpy.dtypes.Float64DType'>, <class 'numpy.dtypes.Float64DType'>, <class 'numpy.dtypes.Float64DType'>, <class 'numpy.dtypes.Float64DType'>, <class 'numpy.dtypes.Float64DType'>, <class 'numpy.dtypes.Float64DType'>, <class 'numpy.dtypes.Float64DType'>, <class 'numpy.dtypes.Float64DType'>, <class 'numpy.dtypes.Float64DType'>, <class 'numpy.dtypes.Float64DType'>, <class 'numpy.dtypes.Float64DType'>, <class 'numpy.dtypes.Float64DType'>, <class 'numpy.dtypes.Float64DType'>, <class 'numpy.dtypes.Float64DType'>, <class 'numpy.dtypes.Float64DType'>, <class 'numpy.dtypes.Float64DType'>, <class 'numpy.dtypes.Float64DType'>, <class 'numpy.dtypes.Float64DType'>, <class 'numpy.dtypes.Float64DType'>, <class 'numpy.dtypes.Float64DType'>, <class 'numpy.dtypes.Float64DType'>, <class 'numpy.dtypes.Float64DType'>, <class 'numpy.dtypes.Float64DType'>, <class 'numpy.dtypes.Int64DType'>, <class 'numpy.dtypes.Int64DType'>, <class 'numpy.dtypes.Int64DType'>, <class 'numpy.dtypes.Int64DType'>, <class 'numpy.dtypes.Int64DType'>, <class 'numpy.dtypes.Int64DType'>, <class 'numpy.dtypes.Float64DType'>, <class 'numpy.dtypes.Float64DType'>, <class 'numpy.dtypes.Float64DType'>, <class 'numpy.dtypes.Float64DType'>, <class 'numpy.dtypes.Float64DType'>, <class 'numpy.dtypes.Float64DType'>, <class 'numpy.dtypes.Float64DType'>, <class 'numpy.dtypes.Int64DType'>, <class 'numpy.dtypes.Int64DType'>, <class 'numpy.dtypes.Int64DType'>, <class 'numpy.dtypes.Int64DType'>, <class 'numpy.dtypes.Int64DType'>, <class 'numpy.dtypes.Int64DType'>, <class 'numpy.dtypes.Int64DType'>, <class 'numpy.dtypes.Int64DType'>, <class 'numpy.dtypes.Float64DType'>, <class 'numpy.dtypes.Float64DType'>, <class 'numpy.dtypes.Float64DType'>, <class 'numpy.dtypes.Float64DType'>, <class 'numpy.dtypes.Int64DType'>, <class 'numpy.dtypes.Int64DType'>, <class 'numpy.dtypes.Int64DType'>, <class 'numpy.dtypes.Int64DType'>, <class 'numpy.dtypes.Int64DType'>, <class 'numpy.dtypes.Int64DType'>, <class 'numpy.dtypes.Int64DType'>, <class 'numpy.dtypes.Int64DType'>, <class 'numpy.dtypes.Int64DType'>, <class 'numpy.dtypes.Int64DType'>, <class 'numpy.dtypes.Int64DType'>, <class 'numpy.dtypes.Int64DType'>, <class 'numpy.dtypes.Int64DType'>, <class 'numpy.dtypes.Int64DType'>, <class 'numpy.dtypes.Float64DType'>, <class 'numpy.dtypes.Float64DType'>, <class 'numpy.dtypes.Float64DType'>, <class 'numpy.dtypes.Float64DType'>, <class 'numpy.dtypes.Float64DType'>, <class 'numpy.dtypes.Float64DType'>, <class 'numpy.dtypes.Float64DType'>, <class 'numpy.dtypes.Float64DType'>, <class 'numpy.dtypes.DateTime64DType'>)",
     "output_type": "error",
     "traceback": [
      "\u001b[1;31m---------------------------------------------------------------------------\u001b[0m",
      "\u001b[1;31mDTypePromotionError\u001b[0m                       Traceback (most recent call last)",
      "Cell \u001b[1;32mIn[14], line 1\u001b[0m\n\u001b[1;32m----> 1\u001b[0m _,var_dropped, corr_dropped \u001b[39m=\u001b[39m feature_analysis_pipeline(df\u001b[39m=\u001b[39;49mdf, drop_columns\u001b[39m=\u001b[39;49mdrop_columns,label_col\u001b[39m=\u001b[39;49mlabel_col)\n\u001b[0;32m      2\u001b[0m var_dropped, corr_dropped\n",
      "File \u001b[1;32mc:\\Users\\Administrateur\\Desktop\\GNN-NIDS\\src\\dataset\\features_analysis.py:42\u001b[0m, in \u001b[0;36mfeature_analysis_pipeline\u001b[1;34m(df, drop_columns, label_col, var_threshold, corr_threshold)\u001b[0m\n\u001b[0;32m     40\u001b[0m \u001b[39mdef\u001b[39;00m \u001b[39mfeature_analysis_pipeline\u001b[39m(df, drop_columns, label_col, var_threshold\u001b[39m=\u001b[39m\u001b[39m0.00\u001b[39m, corr_threshold\u001b[39m=\u001b[39m\u001b[39m0.75\u001b[39m):\n\u001b[0;32m     41\u001b[0m     new_df \u001b[39m=\u001b[39m prepare_dataset(df, drop_columns, label_col)\n\u001b[1;32m---> 42\u001b[0m     new_df, var_dropped \u001b[39m=\u001b[39m apply_variance_threshold(new_df, var_threshold)\n\u001b[0;32m     43\u001b[0m     new_df, corr_dropped \u001b[39m=\u001b[39m apply_correlation_threshold(new_df, corr_threshold)\n\u001b[0;32m     44\u001b[0m     \u001b[39mreturn\u001b[39;00m new_df, var_dropped, corr_dropped\n",
      "File \u001b[1;32mc:\\Users\\Administrateur\\Desktop\\GNN-NIDS\\src\\dataset\\features_analysis.py:16\u001b[0m, in \u001b[0;36mapply_variance_threshold\u001b[1;34m(df, threshold)\u001b[0m\n\u001b[0;32m     14\u001b[0m \u001b[39mdef\u001b[39;00m \u001b[39mapply_variance_threshold\u001b[39m(df, threshold):\n\u001b[0;32m     15\u001b[0m     selector \u001b[39m=\u001b[39m VarianceThreshold(threshold\u001b[39m=\u001b[39mthreshold)\n\u001b[1;32m---> 16\u001b[0m     selector\u001b[39m.\u001b[39;49mfit(df)\n\u001b[0;32m     17\u001b[0m     selected_features \u001b[39m=\u001b[39m df\u001b[39m.\u001b[39mcolumns[selector\u001b[39m.\u001b[39mget_support(indices\u001b[39m=\u001b[39m\u001b[39mTrue\u001b[39;00m)]\n\u001b[0;32m     18\u001b[0m     dropped_features \u001b[39m=\u001b[39m [\n\u001b[0;32m     19\u001b[0m         col \u001b[39mfor\u001b[39;00m col \u001b[39min\u001b[39;00m df\u001b[39m.\u001b[39mcolumns \u001b[39mif\u001b[39;00m col \u001b[39mnot\u001b[39;00m \u001b[39min\u001b[39;00m selected_features]\n",
      "File \u001b[1;32mc:\\Users\\Administrateur\\Desktop\\GNN-NIDS\\.venv\\Lib\\site-packages\\sklearn\\base.py:1473\u001b[0m, in \u001b[0;36m_fit_context.<locals>.decorator.<locals>.wrapper\u001b[1;34m(estimator, *args, **kwargs)\u001b[0m\n\u001b[0;32m   1466\u001b[0m     estimator\u001b[39m.\u001b[39m_validate_params()\n\u001b[0;32m   1468\u001b[0m \u001b[39mwith\u001b[39;00m config_context(\n\u001b[0;32m   1469\u001b[0m     skip_parameter_validation\u001b[39m=\u001b[39m(\n\u001b[0;32m   1470\u001b[0m         prefer_skip_nested_validation \u001b[39mor\u001b[39;00m global_skip_validation\n\u001b[0;32m   1471\u001b[0m     )\n\u001b[0;32m   1472\u001b[0m ):\n\u001b[1;32m-> 1473\u001b[0m     \u001b[39mreturn\u001b[39;00m fit_method(estimator, \u001b[39m*\u001b[39;49margs, \u001b[39m*\u001b[39;49m\u001b[39m*\u001b[39;49mkwargs)\n",
      "File \u001b[1;32mc:\\Users\\Administrateur\\Desktop\\GNN-NIDS\\.venv\\Lib\\site-packages\\sklearn\\feature_selection\\_variance_threshold.py:99\u001b[0m, in \u001b[0;36mVarianceThreshold.fit\u001b[1;34m(self, X, y)\u001b[0m\n\u001b[0;32m     80\u001b[0m \u001b[39m@_fit_context\u001b[39m(prefer_skip_nested_validation\u001b[39m=\u001b[39m\u001b[39mTrue\u001b[39;00m)\n\u001b[0;32m     81\u001b[0m \u001b[39mdef\u001b[39;00m \u001b[39mfit\u001b[39m(\u001b[39mself\u001b[39m, X, y\u001b[39m=\u001b[39m\u001b[39mNone\u001b[39;00m):\n\u001b[0;32m     82\u001b[0m \u001b[39m    \u001b[39m\u001b[39m\"\"\"Learn empirical variances from X.\u001b[39;00m\n\u001b[0;32m     83\u001b[0m \n\u001b[0;32m     84\u001b[0m \u001b[39m    Parameters\u001b[39;00m\n\u001b[1;32m   (...)\u001b[0m\n\u001b[0;32m     97\u001b[0m \u001b[39m        Returns the instance itself.\u001b[39;00m\n\u001b[0;32m     98\u001b[0m \u001b[39m    \"\"\"\u001b[39;00m\n\u001b[1;32m---> 99\u001b[0m     X \u001b[39m=\u001b[39m \u001b[39mself\u001b[39;49m\u001b[39m.\u001b[39;49m_validate_data(\n\u001b[0;32m    100\u001b[0m         X,\n\u001b[0;32m    101\u001b[0m         accept_sparse\u001b[39m=\u001b[39;49m(\u001b[39m\"\u001b[39;49m\u001b[39mcsr\u001b[39;49m\u001b[39m\"\u001b[39;49m, \u001b[39m\"\u001b[39;49m\u001b[39mcsc\u001b[39;49m\u001b[39m\"\u001b[39;49m),\n\u001b[0;32m    102\u001b[0m         dtype\u001b[39m=\u001b[39;49mnp\u001b[39m.\u001b[39;49mfloat64,\n\u001b[0;32m    103\u001b[0m         force_all_finite\u001b[39m=\u001b[39;49m\u001b[39m\"\u001b[39;49m\u001b[39mallow-nan\u001b[39;49m\u001b[39m\"\u001b[39;49m,\n\u001b[0;32m    104\u001b[0m     )\n\u001b[0;32m    106\u001b[0m     \u001b[39mif\u001b[39;00m \u001b[39mhasattr\u001b[39m(X, \u001b[39m\"\u001b[39m\u001b[39mtoarray\u001b[39m\u001b[39m\"\u001b[39m):  \u001b[39m# sparse matrix\u001b[39;00m\n\u001b[0;32m    107\u001b[0m         _, \u001b[39mself\u001b[39m\u001b[39m.\u001b[39mvariances_ \u001b[39m=\u001b[39m mean_variance_axis(X, axis\u001b[39m=\u001b[39m\u001b[39m0\u001b[39m)\n",
      "File \u001b[1;32mc:\\Users\\Administrateur\\Desktop\\GNN-NIDS\\.venv\\Lib\\site-packages\\sklearn\\base.py:633\u001b[0m, in \u001b[0;36mBaseEstimator._validate_data\u001b[1;34m(self, X, y, reset, validate_separately, cast_to_ndarray, **check_params)\u001b[0m\n\u001b[0;32m    631\u001b[0m         out \u001b[39m=\u001b[39m X, y\n\u001b[0;32m    632\u001b[0m \u001b[39melif\u001b[39;00m \u001b[39mnot\u001b[39;00m no_val_X \u001b[39mand\u001b[39;00m no_val_y:\n\u001b[1;32m--> 633\u001b[0m     out \u001b[39m=\u001b[39m check_array(X, input_name\u001b[39m=\u001b[39;49m\u001b[39m\"\u001b[39;49m\u001b[39mX\u001b[39;49m\u001b[39m\"\u001b[39;49m, \u001b[39m*\u001b[39;49m\u001b[39m*\u001b[39;49mcheck_params)\n\u001b[0;32m    634\u001b[0m \u001b[39melif\u001b[39;00m no_val_X \u001b[39mand\u001b[39;00m \u001b[39mnot\u001b[39;00m no_val_y:\n\u001b[0;32m    635\u001b[0m     out \u001b[39m=\u001b[39m _check_y(y, \u001b[39m*\u001b[39m\u001b[39m*\u001b[39mcheck_params)\n",
      "File \u001b[1;32mc:\\Users\\Administrateur\\Desktop\\GNN-NIDS\\.venv\\Lib\\site-packages\\sklearn\\utils\\validation.py:887\u001b[0m, in \u001b[0;36mcheck_array\u001b[1;34m(array, accept_sparse, accept_large_sparse, dtype, order, copy, force_writeable, force_all_finite, ensure_2d, allow_nd, ensure_min_samples, ensure_min_features, estimator, input_name)\u001b[0m\n\u001b[0;32m    883\u001b[0m pandas_requires_conversion \u001b[39m=\u001b[39m \u001b[39many\u001b[39m(\n\u001b[0;32m    884\u001b[0m     _pandas_dtype_needs_early_conversion(i) \u001b[39mfor\u001b[39;00m i \u001b[39min\u001b[39;00m dtypes_orig\n\u001b[0;32m    885\u001b[0m )\n\u001b[0;32m    886\u001b[0m \u001b[39mif\u001b[39;00m \u001b[39mall\u001b[39m(\u001b[39misinstance\u001b[39m(dtype_iter, np\u001b[39m.\u001b[39mdtype) \u001b[39mfor\u001b[39;00m dtype_iter \u001b[39min\u001b[39;00m dtypes_orig):\n\u001b[1;32m--> 887\u001b[0m     dtype_orig \u001b[39m=\u001b[39m np\u001b[39m.\u001b[39;49mresult_type(\u001b[39m*\u001b[39;49mdtypes_orig)\n\u001b[0;32m    888\u001b[0m \u001b[39melif\u001b[39;00m pandas_requires_conversion \u001b[39mand\u001b[39;00m \u001b[39many\u001b[39m(d \u001b[39m==\u001b[39m \u001b[39mobject\u001b[39m \u001b[39mfor\u001b[39;00m d \u001b[39min\u001b[39;00m dtypes_orig):\n\u001b[0;32m    889\u001b[0m     \u001b[39m# Force object if any of the dtypes is an object\u001b[39;00m\n\u001b[0;32m    890\u001b[0m     dtype_orig \u001b[39m=\u001b[39m \u001b[39mobject\u001b[39m\n",
      "\u001b[1;31mDTypePromotionError\u001b[0m: The DType <class 'numpy.dtypes.DateTime64DType'> could not be promoted by <class 'numpy.dtypes.Float64DType'>. This means that no common DType exists for the given inputs. For example they cannot be stored in a single array unless the dtype is `object`. The full list of DTypes is: (<class 'numpy.dtypes.Int64DType'>, <class 'numpy.dtypes.Int64DType'>, <class 'numpy.dtypes.Int64DType'>, <class 'numpy.dtypes.Int64DType'>, <class 'numpy.dtypes.Float64DType'>, <class 'numpy.dtypes.Float64DType'>, <class 'numpy.dtypes.Float64DType'>, <class 'numpy.dtypes.Float64DType'>, <class 'numpy.dtypes.Float64DType'>, <class 'numpy.dtypes.Float64DType'>, <class 'numpy.dtypes.Float64DType'>, <class 'numpy.dtypes.Float64DType'>, <class 'numpy.dtypes.Float64DType'>, <class 'numpy.dtypes.Float64DType'>, <class 'numpy.dtypes.Float64DType'>, <class 'numpy.dtypes.Float64DType'>, <class 'numpy.dtypes.Float64DType'>, <class 'numpy.dtypes.Float64DType'>, <class 'numpy.dtypes.Float64DType'>, <class 'numpy.dtypes.Float64DType'>, <class 'numpy.dtypes.Float64DType'>, <class 'numpy.dtypes.Float64DType'>, <class 'numpy.dtypes.Float64DType'>, <class 'numpy.dtypes.Float64DType'>, <class 'numpy.dtypes.Float64DType'>, <class 'numpy.dtypes.Float64DType'>, <class 'numpy.dtypes.Float64DType'>, <class 'numpy.dtypes.Float64DType'>, <class 'numpy.dtypes.Float64DType'>, <class 'numpy.dtypes.Float64DType'>, <class 'numpy.dtypes.Int64DType'>, <class 'numpy.dtypes.Int64DType'>, <class 'numpy.dtypes.Int64DType'>, <class 'numpy.dtypes.Int64DType'>, <class 'numpy.dtypes.Int64DType'>, <class 'numpy.dtypes.Int64DType'>, <class 'numpy.dtypes.Float64DType'>, <class 'numpy.dtypes.Float64DType'>, <class 'numpy.dtypes.Float64DType'>, <class 'numpy.dtypes.Float64DType'>, <class 'numpy.dtypes.Float64DType'>, <class 'numpy.dtypes.Float64DType'>, <class 'numpy.dtypes.Float64DType'>, <class 'numpy.dtypes.Int64DType'>, <class 'numpy.dtypes.Int64DType'>, <class 'numpy.dtypes.Int64DType'>, <class 'numpy.dtypes.Int64DType'>, <class 'numpy.dtypes.Int64DType'>, <class 'numpy.dtypes.Int64DType'>, <class 'numpy.dtypes.Int64DType'>, <class 'numpy.dtypes.Int64DType'>, <class 'numpy.dtypes.Float64DType'>, <class 'numpy.dtypes.Float64DType'>, <class 'numpy.dtypes.Float64DType'>, <class 'numpy.dtypes.Float64DType'>, <class 'numpy.dtypes.Int64DType'>, <class 'numpy.dtypes.Int64DType'>, <class 'numpy.dtypes.Int64DType'>, <class 'numpy.dtypes.Int64DType'>, <class 'numpy.dtypes.Int64DType'>, <class 'numpy.dtypes.Int64DType'>, <class 'numpy.dtypes.Int64DType'>, <class 'numpy.dtypes.Int64DType'>, <class 'numpy.dtypes.Int64DType'>, <class 'numpy.dtypes.Int64DType'>, <class 'numpy.dtypes.Int64DType'>, <class 'numpy.dtypes.Int64DType'>, <class 'numpy.dtypes.Int64DType'>, <class 'numpy.dtypes.Int64DType'>, <class 'numpy.dtypes.Float64DType'>, <class 'numpy.dtypes.Float64DType'>, <class 'numpy.dtypes.Float64DType'>, <class 'numpy.dtypes.Float64DType'>, <class 'numpy.dtypes.Float64DType'>, <class 'numpy.dtypes.Float64DType'>, <class 'numpy.dtypes.Float64DType'>, <class 'numpy.dtypes.Float64DType'>, <class 'numpy.dtypes.DateTime64DType'>)"
     ]
    }
   ],
   "source": [
    "_,var_dropped, corr_dropped = feature_analysis_pipeline(df=df, drop_columns=drop_columns,label_col=label_col)\n",
    "var_dropped, corr_dropped"
   ]
  },
  {
   "attachments": {},
   "cell_type": "markdown",
   "id": "b147094b",
   "metadata": {},
   "source": [
    "### Attacks Types"
   ]
  },
  {
   "cell_type": "code",
   "execution_count": null,
   "id": "5e6bc9df",
   "metadata": {},
   "outputs": [],
   "source": [
    "df[class_col].unique()"
   ]
  },
  {
   "cell_type": "code",
   "execution_count": null,
   "id": "80ccdb4a",
   "metadata": {},
   "outputs": [],
   "source": [
    "# df[class_col] = df[class_col].replace({\"BENIGN\": \"Benign\",\n",
    "#                                        \"DDoS\": \"ddos\",\n",
    "#                                        \"Web Attack � Brute Force\": \"bruteforce\",\n",
    "#                                        \"Web Attack � XSS\": \"xss\"})"
   ]
  },
  {
   "cell_type": "code",
   "execution_count": null,
   "id": "cafaa712",
   "metadata": {},
   "outputs": [],
   "source": [
    "classes = df[class_col].unique()"
   ]
  },
  {
   "attachments": {},
   "cell_type": "markdown",
   "id": "0dfea377",
   "metadata": {},
   "source": [
    "### Sorting (optional)"
   ]
  },
  {
   "cell_type": "code",
   "execution_count": null,
   "id": "a3f48d2a",
   "metadata": {},
   "outputs": [],
   "source": [
    "if with_sort_timestamp:\n",
    "    df[timestamp_col] = pd.to_datetime(df[timestamp_col].str.strip(), format=timestamp_format)\n",
    "    df.sort_values(timestamp_col, inplace= True)"
   ]
  },
  {
   "attachments": {},
   "cell_type": "markdown",
   "id": "1215ca63",
   "metadata": {},
   "source": [
    "### Encoding Attacks into integers"
   ]
  },
  {
   "cell_type": "code",
   "execution_count": null,
   "id": "b820edb5-7f77-4a02-8305-9491e3c8a980",
   "metadata": {},
   "outputs": [],
   "source": [
    "df, labels_names = one_dataset_class_num_col(df, class_num_col, class_col)"
   ]
  },
  {
   "attachments": {},
   "cell_type": "markdown",
   "id": "fd1c995b",
   "metadata": {},
   "source": [
    "### Undersampling classes (optional)"
   ]
  },
  {
   "cell_type": "code",
   "execution_count": null,
   "id": "d5cbab61-3bd1-43c1-892c-4db0c150f3d5",
   "metadata": {},
   "outputs": [],
   "source": [
    "if with_undersample_classes:\n",
    "    # Group by the class column and get the count of records in each class\n",
    "    class_counts = df.groupby(class_col).size()\n",
    "\n",
    "    # Sort the counts in descending order\n",
    "    class_counts_sorted = class_counts.sort_values(ascending=False)\n",
    "    print(f\"==>> class_counts_sorted: {class_counts_sorted}\")"
   ]
  },
  {
   "cell_type": "code",
   "execution_count": null,
   "id": "71fd9f7c-aa56-477a-9f24-4b9c4bf63826",
   "metadata": {},
   "outputs": [],
   "source": [
    "if with_undersample_classes:\n",
    "    # Get the classes with the highest number of records (you can choose how many to undersample)\n",
    "    classes_to_undersample = class_counts_sorted.index[:2]\n",
    "\n",
    "    # Undersample the classes with the highest number of records\n",
    "    dfs = []\n",
    "    for class_label in class_counts_sorted.index:\n",
    "        print(f\"==>> class_label: {class_label}\")\n",
    "        if class_label in classes_to_undersample:\n",
    "            class_df = df[df[class_col] == class_label]\n",
    "            undersampled_df = class_df.sample(frac=0.5)  # Specify the fraction of samples to keep\n",
    "            dfs.append(undersampled_df)\n",
    "        else:\n",
    "            dfs.append(df[df[class_col] == class_label])\n",
    "\n",
    "    df = []\n",
    "    # Optional: shuffle the undersampled DataFrame\n",
    "    df = pd.concat(dfs).sample(frac=1).reset_index(drop=True)\n"
   ]
  },
  {
   "cell_type": "code",
   "execution_count": null,
   "id": "eceb2754-3b56-467b-8470-9ab1c832f89c",
   "metadata": {},
   "outputs": [],
   "source": [
    "if with_undersample_classes:\n",
    "    # Group by the class column and get the count of records in each class\n",
    "    class_counts = df.groupby(class_col).size()\n",
    "\n",
    "    # Sort the counts in descending order\n",
    "    class_counts_sorted = class_counts.sort_values(ascending=False)\n",
    "    print(f\"==>> class_counts_sorted: {class_counts_sorted}\")"
   ]
  },
  {
   "attachments": {},
   "cell_type": "markdown",
   "id": "90723f84",
   "metadata": {},
   "source": [
    "### saving labels encodings and datasets properties"
   ]
  },
  {
   "cell_type": "code",
   "execution_count": null,
   "id": "b0e2c1f3-facf-492a-a6b4-6ef70cb008eb",
   "metadata": {},
   "outputs": [],
   "source": [
    "with open(folder_path + '/labels_names.pkl', 'wb') as f:\n",
    "    pickle.dump([labels_names, classes], f)"
   ]
  },
  {
   "cell_type": "code",
   "execution_count": null,
   "id": "30b4c519-7e2a-4441-8101-73615e352968",
   "metadata": {},
   "outputs": [],
   "source": [
    "total_count = len(df)\n",
    "\n",
    "properties = {\n",
    "    \"name\": name,\n",
    "    \"length\": total_count,\n",
    "}\n",
    "\n",
    "num_benign = len(df[df['Label'] == 0])\n",
    "num_attack = len(df[df['Label'] == 1])\n",
    "\n",
    "properties[\"num_benign\"] = num_benign\n",
    "properties[\"percentage_of_benign_records\"] = ((num_benign * 100)/total_count)\n",
    "\n",
    "properties[\"num_attack\"] = num_attack\n",
    "properties[\"percentage_of_attack_records\"] = ((num_attack * 100)/total_count)\n",
    "\n",
    "properties[\"attacks\"] = list(df[\"Attack\"].unique()) \n",
    "\n",
    "with open(folder_path + '/df_properties.json', 'w') as f:\n",
    "    json.dump(properties, f)\n",
    "    \n",
    "properties\n"
   ]
  },
  {
   "cell_type": "code",
   "execution_count": null,
   "id": "f8c21e8f",
   "metadata": {},
   "outputs": [],
   "source": [
    "# graphs_properties_path = folder_path + '/graphs_properties.json'\n",
    "# G = nx.from_pandas_edgelist(\n",
    "#     df,\n",
    "#     source=src_ip_col,\n",
    "#     target=dst_ip_col,\n",
    "#     create_using=nx.DiGraph()\n",
    "# )\n",
    "# calculate_graph_measures(G, graphs_properties_path)"
   ]
  },
  {
   "cell_type": "code",
   "execution_count": null,
   "id": "250da447",
   "metadata": {},
   "outputs": [],
   "source": [
    "df.to_parquet(output_path)"
   ]
  }
 ],
 "metadata": {
  "kernelspec": {
   "display_name": ".venv",
   "language": "python",
   "name": "python3"
  },
  "language_info": {
   "codemirror_mode": {
    "name": "ipython",
    "version": 3
   },
   "file_extension": ".py",
   "mimetype": "text/x-python",
   "name": "python",
   "nbconvert_exporter": "python",
   "pygments_lexer": "ipython3",
   "version": "3.11.9"
  }
 },
 "nbformat": 4,
 "nbformat_minor": 5
}
